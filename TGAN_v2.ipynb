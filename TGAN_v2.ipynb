{
  "nbformat": 4,
  "nbformat_minor": 0,
  "metadata": {
    "colab": {
      "name": "TGAN_v2.ipynb",
      "provenance": [],
      "authorship_tag": "ABX9TyNCd395fpkCcJfXdw7+r7IE",
      "include_colab_link": true
    },
    "kernelspec": {
      "name": "python3",
      "display_name": "Python 3"
    },
    "language_info": {
      "name": "python"
    },
    "accelerator": "GPU",
    "gpuClass": "standard"
  },
  "cells": [
    {
      "cell_type": "markdown",
      "metadata": {
        "id": "view-in-github",
        "colab_type": "text"
      },
      "source": [
        "<a href=\"https://colab.research.google.com/github/moanassar/MyGANs-public/blob/main/TGAN_v2.ipynb\" target=\"_parent\"><img src=\"https://colab.research.google.com/assets/colab-badge.svg\" alt=\"Open In Colab\"/></a>"
      ]
    },
    {
      "cell_type": "code",
      "execution_count": 8,
      "metadata": {
        "colab": {
          "base_uri": "https://localhost:8080/"
        },
        "id": "oeyi_DTA_4cn",
        "outputId": "1846d8a1-f8fa-4332-b5c7-2edbf8b90f26"
      },
      "outputs": [
        {
          "output_type": "stream",
          "name": "stdout",
          "text": [
            "Cloning into 'TGAN'...\n",
            "remote: Enumerating objects: 873, done.\u001b[K\n",
            "remote: Counting objects: 100% (147/147), done.\u001b[K\n",
            "remote: Compressing objects: 100% (57/57), done.\u001b[K\n",
            "remote: Total 873 (delta 98), reused 137 (delta 90), pack-reused 726\u001b[K\n",
            "Receiving objects: 100% (873/873), 7.92 MiB | 11.67 MiB/s, done.\n",
            "Resolving deltas: 100% (496/496), done.\n"
          ]
        }
      ],
      "source": [
        "!git clone https://github.com/sdv-dev/TGAN.git"
      ]
    },
    {
      "cell_type": "markdown",
      "source": [
        ""
      ],
      "metadata": {
        "id": "gjbyHGZ0WQxo"
      }
    },
    {
      "cell_type": "markdown",
      "source": [
        ""
      ],
      "metadata": {
        "id": "0BPQL8_VWfbK"
      }
    },
    {
      "cell_type": "markdown",
      "source": [
        ""
      ],
      "metadata": {
        "id": "mEeTxlfKWuEp"
      }
    },
    {
      "cell_type": "markdown",
      "source": [
        ""
      ],
      "metadata": {
        "id": "551wDdE3W8uB"
      }
    },
    {
      "cell_type": "code",
      "source": [
        "!pwd"
      ],
      "metadata": {
        "id": "J7DLaHZQAgsg",
        "outputId": "84376ef5-145e-44a6-d04c-5e8b52f27bc9",
        "colab": {
          "base_uri": "https://localhost:8080/"
        }
      },
      "execution_count": 2,
      "outputs": [
        {
          "output_type": "stream",
          "name": "stdout",
          "text": [
            "/content\n"
          ]
        }
      ]
    },
    {
      "cell_type": "code",
      "source": [
        "pip install tgan\n"
      ],
      "metadata": {
        "colab": {
          "base_uri": "https://localhost:8080/",
          "height": 1000
        },
        "id": "Pdcs6ZDCAmQZ",
        "outputId": "7729d99a-2044-41f2-ff24-e0211fc5f972"
      },
      "execution_count": 10,
      "outputs": [
        {
          "output_type": "stream",
          "name": "stdout",
          "text": [
            "Looking in indexes: https://pypi.org/simple, https://us-python.pkg.dev/colab-wheels/public/simple/\n",
            "Collecting tgan\n",
            "  Downloading tgan-0.1.0-py2.py3-none-any.whl (27 kB)\n",
            "Collecting tensorflow<2.0,>=1.13.0\n",
            "  Downloading tensorflow-1.15.5-cp37-cp37m-manylinux2010_x86_64.whl (110.5 MB)\n",
            "\u001b[K     |████████████████████████████████| 110.5 MB 1.4 kB/s \n",
            "\u001b[?25hRequirement already satisfied: numpy>=1.16.0 in /usr/local/lib/python3.7/dist-packages (from tgan) (1.21.6)\n",
            "Requirement already satisfied: pandas>=0.23.4 in /usr/local/lib/python3.7/dist-packages (from tgan) (1.3.5)\n",
            "Requirement already satisfied: scikit-learn>=0.20.2 in /usr/local/lib/python3.7/dist-packages (from tgan) (1.0.2)\n",
            "Collecting tensorpack==0.9.4\n",
            "  Downloading tensorpack-0.9.4-py2.py3-none-any.whl (273 kB)\n",
            "\u001b[K     |████████████████████████████████| 273 kB 35.8 MB/s \n",
            "\u001b[?25hCollecting msgpack-numpy>=0.4.4.2\n",
            "  Downloading msgpack_numpy-0.4.8-py2.py3-none-any.whl (6.9 kB)\n",
            "Requirement already satisfied: tabulate>=0.7.7 in /usr/local/lib/python3.7/dist-packages (from tensorpack==0.9.4->tgan) (0.8.10)\n",
            "Requirement already satisfied: msgpack>=0.5.2 in /usr/local/lib/python3.7/dist-packages (from tensorpack==0.9.4->tgan) (1.0.4)\n",
            "Requirement already satisfied: pyzmq>=16 in /usr/local/lib/python3.7/dist-packages (from tensorpack==0.9.4->tgan) (23.2.0)\n",
            "Requirement already satisfied: tqdm>4.11.1 in /usr/local/lib/python3.7/dist-packages (from tensorpack==0.9.4->tgan) (4.64.0)\n",
            "Requirement already satisfied: six in /usr/local/lib/python3.7/dist-packages (from tensorpack==0.9.4->tgan) (1.15.0)\n",
            "Requirement already satisfied: termcolor>=1.1 in /usr/local/lib/python3.7/dist-packages (from tensorpack==0.9.4->tgan) (1.1.0)\n",
            "Requirement already satisfied: python-dateutil>=2.7.3 in /usr/local/lib/python3.7/dist-packages (from pandas>=0.23.4->tgan) (2.8.2)\n",
            "Requirement already satisfied: pytz>=2017.3 in /usr/local/lib/python3.7/dist-packages (from pandas>=0.23.4->tgan) (2022.1)\n",
            "Requirement already satisfied: joblib>=0.11 in /usr/local/lib/python3.7/dist-packages (from scikit-learn>=0.20.2->tgan) (1.1.0)\n",
            "Requirement already satisfied: threadpoolctl>=2.0.0 in /usr/local/lib/python3.7/dist-packages (from scikit-learn>=0.20.2->tgan) (3.1.0)\n",
            "Requirement already satisfied: scipy>=1.1.0 in /usr/local/lib/python3.7/dist-packages (from scikit-learn>=0.20.2->tgan) (1.7.3)\n",
            "Collecting gast==0.2.2\n",
            "  Downloading gast-0.2.2.tar.gz (10 kB)\n",
            "Requirement already satisfied: wheel>=0.26 in /usr/local/lib/python3.7/dist-packages (from tensorflow<2.0,>=1.13.0->tgan) (0.37.1)\n",
            "Requirement already satisfied: absl-py>=0.7.0 in /usr/local/lib/python3.7/dist-packages (from tensorflow<2.0,>=1.13.0->tgan) (1.2.0)\n",
            "Requirement already satisfied: opt-einsum>=2.3.2 in /usr/local/lib/python3.7/dist-packages (from tensorflow<2.0,>=1.13.0->tgan) (3.3.0)\n",
            "Collecting tensorflow-estimator==1.15.1\n",
            "  Downloading tensorflow_estimator-1.15.1-py2.py3-none-any.whl (503 kB)\n",
            "\u001b[K     |████████████████████████████████| 503 kB 53.1 MB/s \n",
            "\u001b[?25hCollecting keras-applications>=1.0.8\n",
            "  Downloading Keras_Applications-1.0.8-py3-none-any.whl (50 kB)\n",
            "\u001b[K     |████████████████████████████████| 50 kB 6.8 MB/s \n",
            "\u001b[?25hRequirement already satisfied: protobuf>=3.6.1 in /usr/local/lib/python3.7/dist-packages (from tensorflow<2.0,>=1.13.0->tgan) (3.17.3)\n",
            "Requirement already satisfied: wrapt>=1.11.1 in /usr/local/lib/python3.7/dist-packages (from tensorflow<2.0,>=1.13.0->tgan) (1.14.1)\n",
            "Collecting numpy>=1.16.0\n",
            "  Downloading numpy-1.18.5-cp37-cp37m-manylinux1_x86_64.whl (20.1 MB)\n",
            "\u001b[K     |████████████████████████████████| 20.1 MB 9.5 MB/s \n",
            "\u001b[?25hRequirement already satisfied: grpcio>=1.8.6 in /usr/local/lib/python3.7/dist-packages (from tensorflow<2.0,>=1.13.0->tgan) (1.47.0)\n",
            "Requirement already satisfied: astor>=0.6.0 in /usr/local/lib/python3.7/dist-packages (from tensorflow<2.0,>=1.13.0->tgan) (0.8.1)\n",
            "Collecting h5py<=2.10.0\n",
            "  Downloading h5py-2.10.0-cp37-cp37m-manylinux1_x86_64.whl (2.9 MB)\n",
            "\u001b[K     |████████████████████████████████| 2.9 MB 39.8 MB/s \n",
            "\u001b[?25hRequirement already satisfied: google-pasta>=0.1.6 in /usr/local/lib/python3.7/dist-packages (from tensorflow<2.0,>=1.13.0->tgan) (0.2.0)\n",
            "Requirement already satisfied: keras-preprocessing>=1.0.5 in /usr/local/lib/python3.7/dist-packages (from tensorflow<2.0,>=1.13.0->tgan) (1.1.2)\n",
            "Collecting tensorboard<1.16.0,>=1.15.0\n",
            "  Downloading tensorboard-1.15.0-py3-none-any.whl (3.8 MB)\n",
            "\u001b[K     |████████████████████████████████| 3.8 MB 34.7 MB/s \n",
            "\u001b[?25hRequirement already satisfied: werkzeug>=0.11.15 in /usr/local/lib/python3.7/dist-packages (from tensorboard<1.16.0,>=1.15.0->tensorflow<2.0,>=1.13.0->tgan) (1.0.1)\n",
            "Requirement already satisfied: setuptools>=41.0.0 in /usr/local/lib/python3.7/dist-packages (from tensorboard<1.16.0,>=1.15.0->tensorflow<2.0,>=1.13.0->tgan) (57.4.0)\n",
            "Requirement already satisfied: markdown>=2.6.8 in /usr/local/lib/python3.7/dist-packages (from tensorboard<1.16.0,>=1.15.0->tensorflow<2.0,>=1.13.0->tgan) (3.4.1)\n",
            "Requirement already satisfied: importlib-metadata>=4.4 in /usr/local/lib/python3.7/dist-packages (from markdown>=2.6.8->tensorboard<1.16.0,>=1.15.0->tensorflow<2.0,>=1.13.0->tgan) (4.12.0)\n",
            "Requirement already satisfied: zipp>=0.5 in /usr/local/lib/python3.7/dist-packages (from importlib-metadata>=4.4->markdown>=2.6.8->tensorboard<1.16.0,>=1.15.0->tensorflow<2.0,>=1.13.0->tgan) (3.8.1)\n",
            "Requirement already satisfied: typing-extensions>=3.6.4 in /usr/local/lib/python3.7/dist-packages (from importlib-metadata>=4.4->markdown>=2.6.8->tensorboard<1.16.0,>=1.15.0->tensorflow<2.0,>=1.13.0->tgan) (4.1.1)\n",
            "Building wheels for collected packages: gast\n",
            "  Building wheel for gast (setup.py) ... \u001b[?25l\u001b[?25hdone\n",
            "  Created wheel for gast: filename=gast-0.2.2-py3-none-any.whl size=7554 sha256=bb647ae8d2262e1bb7784a244c97d20a56d3ceac8fb41690bb4aa885189fa90b\n",
            "  Stored in directory: /root/.cache/pip/wheels/21/7f/02/420f32a803f7d0967b48dd823da3f558c5166991bfd204eef3\n",
            "Successfully built gast\n",
            "Installing collected packages: numpy, h5py, tensorflow-estimator, tensorboard, msgpack-numpy, keras-applications, gast, tensorpack, tensorflow, tgan\n",
            "  Attempting uninstall: numpy\n",
            "    Found existing installation: numpy 1.21.6\n",
            "    Uninstalling numpy-1.21.6:\n",
            "      Successfully uninstalled numpy-1.21.6\n",
            "  Attempting uninstall: h5py\n",
            "    Found existing installation: h5py 3.1.0\n",
            "    Uninstalling h5py-3.1.0:\n",
            "      Successfully uninstalled h5py-3.1.0\n",
            "  Attempting uninstall: tensorflow-estimator\n",
            "    Found existing installation: tensorflow-estimator 2.8.0\n",
            "    Uninstalling tensorflow-estimator-2.8.0:\n",
            "      Successfully uninstalled tensorflow-estimator-2.8.0\n",
            "  Attempting uninstall: tensorboard\n",
            "    Found existing installation: tensorboard 2.8.0\n",
            "    Uninstalling tensorboard-2.8.0:\n",
            "      Successfully uninstalled tensorboard-2.8.0\n",
            "  Attempting uninstall: gast\n",
            "    Found existing installation: gast 0.5.3\n",
            "    Uninstalling gast-0.5.3:\n",
            "      Successfully uninstalled gast-0.5.3\n",
            "  Attempting uninstall: tensorflow\n",
            "    Found existing installation: tensorflow 2.8.2+zzzcolab20220719082949\n",
            "    Uninstalling tensorflow-2.8.2+zzzcolab20220719082949:\n",
            "      Successfully uninstalled tensorflow-2.8.2+zzzcolab20220719082949\n",
            "\u001b[31mERROR: pip's dependency resolver does not currently take into account all the packages that are installed. This behaviour is the source of the following dependency conflicts.\n",
            "xarray-einstats 0.2.2 requires numpy>=1.21, but you have numpy 1.18.5 which is incompatible.\n",
            "tensorflow-probability 0.16.0 requires gast>=0.3.2, but you have gast 0.2.2 which is incompatible.\n",
            "tables 3.7.0 requires numpy>=1.19.0, but you have numpy 1.18.5 which is incompatible.\n",
            "kapre 0.3.7 requires tensorflow>=2.0.0, but you have tensorflow 1.15.5 which is incompatible.\n",
            "jaxlib 0.3.14+cuda11.cudnn805 requires numpy>=1.19, but you have numpy 1.18.5 which is incompatible.\n",
            "jax 0.3.14 requires numpy>=1.19, but you have numpy 1.18.5 which is incompatible.\n",
            "cmdstanpy 1.0.4 requires numpy>=1.21, but you have numpy 1.18.5 which is incompatible.\u001b[0m\n",
            "Successfully installed gast-0.2.2 h5py-2.10.0 keras-applications-1.0.8 msgpack-numpy-0.4.8 numpy-1.18.5 tensorboard-1.15.0 tensorflow-1.15.5 tensorflow-estimator-1.15.1 tensorpack-0.9.4 tgan-0.1.0\n"
          ]
        },
        {
          "output_type": "display_data",
          "data": {
            "application/vnd.colab-display-data+json": {
              "pip_warning": {
                "packages": [
                  "numpy"
                ]
              }
            }
          },
          "metadata": {}
        }
      ]
    },
    {
      "cell_type": "markdown",
      "source": [
        ""
      ],
      "metadata": {
        "id": "AnURgz1YT-Kg"
      }
    },
    {
      "cell_type": "code",
      "source": [
        "import pandas as pd\n",
        "data = pd.read_csv('/content/sample_data/darknet-engineered-only-darknet.csv')\n",
        "continuous_columns = [0, 1, 2, 3,4,5,6,7,8,9,10,11,12,13,14,15,16,17,18,19,20,21,22,23,24,25,26,27,28,29,30,31,32,33,34,35,36,37,38,39,40,41,42,43,44,45,46,47,48,49,50,51,52,53,54,55,56,57,58,59,60,61]\n",
        "data.head(62).T"
      ],
      "metadata": {
        "colab": {
          "base_uri": "https://localhost:8080/",
          "height": 435
        },
        "id": "fgHoRibuAr5_",
        "outputId": "304c335b-4430-42e0-a99e-eed69834aa51"
      },
      "execution_count": 1,
      "outputs": [
        {
          "output_type": "error",
          "ename": "FileNotFoundError",
          "evalue": "ignored",
          "traceback": [
            "\u001b[0;31m---------------------------------------------------------------------------\u001b[0m",
            "\u001b[0;31mFileNotFoundError\u001b[0m                         Traceback (most recent call last)",
            "\u001b[0;32m<ipython-input-1-d344bfa15345>\u001b[0m in \u001b[0;36m<module>\u001b[0;34m()\u001b[0m\n\u001b[1;32m      1\u001b[0m \u001b[0;32mimport\u001b[0m \u001b[0mpandas\u001b[0m \u001b[0;32mas\u001b[0m \u001b[0mpd\u001b[0m\u001b[0;34m\u001b[0m\u001b[0;34m\u001b[0m\u001b[0m\n\u001b[0;32m----> 2\u001b[0;31m \u001b[0mdata\u001b[0m \u001b[0;34m=\u001b[0m \u001b[0mpd\u001b[0m\u001b[0;34m.\u001b[0m\u001b[0mread_csv\u001b[0m\u001b[0;34m(\u001b[0m\u001b[0;34m'/content/sample_data/darknet-engineered-only-darknet.csv'\u001b[0m\u001b[0;34m)\u001b[0m\u001b[0;34m\u001b[0m\u001b[0;34m\u001b[0m\u001b[0m\n\u001b[0m\u001b[1;32m      3\u001b[0m \u001b[0mcontinuous_columns\u001b[0m \u001b[0;34m=\u001b[0m \u001b[0;34m[\u001b[0m\u001b[0;36m0\u001b[0m\u001b[0;34m,\u001b[0m \u001b[0;36m1\u001b[0m\u001b[0;34m,\u001b[0m \u001b[0;36m2\u001b[0m\u001b[0;34m,\u001b[0m \u001b[0;36m3\u001b[0m\u001b[0;34m,\u001b[0m\u001b[0;36m4\u001b[0m\u001b[0;34m,\u001b[0m\u001b[0;36m5\u001b[0m\u001b[0;34m,\u001b[0m\u001b[0;36m6\u001b[0m\u001b[0;34m,\u001b[0m\u001b[0;36m7\u001b[0m\u001b[0;34m,\u001b[0m\u001b[0;36m8\u001b[0m\u001b[0;34m,\u001b[0m\u001b[0;36m9\u001b[0m\u001b[0;34m,\u001b[0m\u001b[0;36m10\u001b[0m\u001b[0;34m,\u001b[0m\u001b[0;36m11\u001b[0m\u001b[0;34m,\u001b[0m\u001b[0;36m12\u001b[0m\u001b[0;34m,\u001b[0m\u001b[0;36m13\u001b[0m\u001b[0;34m,\u001b[0m\u001b[0;36m14\u001b[0m\u001b[0;34m,\u001b[0m\u001b[0;36m15\u001b[0m\u001b[0;34m,\u001b[0m\u001b[0;36m16\u001b[0m\u001b[0;34m,\u001b[0m\u001b[0;36m17\u001b[0m\u001b[0;34m,\u001b[0m\u001b[0;36m18\u001b[0m\u001b[0;34m,\u001b[0m\u001b[0;36m19\u001b[0m\u001b[0;34m,\u001b[0m\u001b[0;36m20\u001b[0m\u001b[0;34m,\u001b[0m\u001b[0;36m21\u001b[0m\u001b[0;34m,\u001b[0m\u001b[0;36m22\u001b[0m\u001b[0;34m,\u001b[0m\u001b[0;36m23\u001b[0m\u001b[0;34m,\u001b[0m\u001b[0;36m24\u001b[0m\u001b[0;34m,\u001b[0m\u001b[0;36m25\u001b[0m\u001b[0;34m,\u001b[0m\u001b[0;36m26\u001b[0m\u001b[0;34m,\u001b[0m\u001b[0;36m27\u001b[0m\u001b[0;34m,\u001b[0m\u001b[0;36m28\u001b[0m\u001b[0;34m,\u001b[0m\u001b[0;36m29\u001b[0m\u001b[0;34m,\u001b[0m\u001b[0;36m30\u001b[0m\u001b[0;34m,\u001b[0m\u001b[0;36m31\u001b[0m\u001b[0;34m,\u001b[0m\u001b[0;36m32\u001b[0m\u001b[0;34m,\u001b[0m\u001b[0;36m33\u001b[0m\u001b[0;34m,\u001b[0m\u001b[0;36m34\u001b[0m\u001b[0;34m,\u001b[0m\u001b[0;36m35\u001b[0m\u001b[0;34m,\u001b[0m\u001b[0;36m36\u001b[0m\u001b[0;34m,\u001b[0m\u001b[0;36m37\u001b[0m\u001b[0;34m,\u001b[0m\u001b[0;36m38\u001b[0m\u001b[0;34m,\u001b[0m\u001b[0;36m39\u001b[0m\u001b[0;34m,\u001b[0m\u001b[0;36m40\u001b[0m\u001b[0;34m,\u001b[0m\u001b[0;36m41\u001b[0m\u001b[0;34m,\u001b[0m\u001b[0;36m42\u001b[0m\u001b[0;34m,\u001b[0m\u001b[0;36m43\u001b[0m\u001b[0;34m,\u001b[0m\u001b[0;36m44\u001b[0m\u001b[0;34m,\u001b[0m\u001b[0;36m45\u001b[0m\u001b[0;34m,\u001b[0m\u001b[0;36m46\u001b[0m\u001b[0;34m,\u001b[0m\u001b[0;36m47\u001b[0m\u001b[0;34m,\u001b[0m\u001b[0;36m48\u001b[0m\u001b[0;34m,\u001b[0m\u001b[0;36m49\u001b[0m\u001b[0;34m,\u001b[0m\u001b[0;36m50\u001b[0m\u001b[0;34m,\u001b[0m\u001b[0;36m51\u001b[0m\u001b[0;34m,\u001b[0m\u001b[0;36m52\u001b[0m\u001b[0;34m,\u001b[0m\u001b[0;36m53\u001b[0m\u001b[0;34m,\u001b[0m\u001b[0;36m54\u001b[0m\u001b[0;34m,\u001b[0m\u001b[0;36m55\u001b[0m\u001b[0;34m,\u001b[0m\u001b[0;36m56\u001b[0m\u001b[0;34m,\u001b[0m\u001b[0;...\n\u001b[1;32m      4\u001b[0m \u001b[0mdata\u001b[0m\u001b[0;34m.\u001b[0m\u001b[0mhead\u001b[0m\u001b[0;34m(\u001b[0m\u001b[0;36m62\u001b[0m\u001b[0;34m)\u001b[0m\u001b[0;34m.\u001b[0m\u001b[0mT\u001b[0m\u001b[0;34m\u001b[0m\u001b[0;34m\u001b[0m\u001b[0m\n",
            "\u001b[0;32m/usr/local/lib/python3.7/dist-packages/pandas/util/_decorators.py\u001b[0m in \u001b[0;36mwrapper\u001b[0;34m(*args, **kwargs)\u001b[0m\n\u001b[1;32m    309\u001b[0m                     \u001b[0mstacklevel\u001b[0m\u001b[0;34m=\u001b[0m\u001b[0mstacklevel\u001b[0m\u001b[0;34m,\u001b[0m\u001b[0;34m\u001b[0m\u001b[0;34m\u001b[0m\u001b[0m\n\u001b[1;32m    310\u001b[0m                 )\n\u001b[0;32m--> 311\u001b[0;31m             \u001b[0;32mreturn\u001b[0m \u001b[0mfunc\u001b[0m\u001b[0;34m(\u001b[0m\u001b[0;34m*\u001b[0m\u001b[0margs\u001b[0m\u001b[0;34m,\u001b[0m \u001b[0;34m**\u001b[0m\u001b[0mkwargs\u001b[0m\u001b[0;34m)\u001b[0m\u001b[0;34m\u001b[0m\u001b[0;34m\u001b[0m\u001b[0m\n\u001b[0m\u001b[1;32m    312\u001b[0m \u001b[0;34m\u001b[0m\u001b[0m\n\u001b[1;32m    313\u001b[0m         \u001b[0;32mreturn\u001b[0m \u001b[0mwrapper\u001b[0m\u001b[0;34m\u001b[0m\u001b[0;34m\u001b[0m\u001b[0m\n",
            "\u001b[0;32m/usr/local/lib/python3.7/dist-packages/pandas/io/parsers/readers.py\u001b[0m in \u001b[0;36mread_csv\u001b[0;34m(filepath_or_buffer, sep, delimiter, header, names, index_col, usecols, squeeze, prefix, mangle_dupe_cols, dtype, engine, converters, true_values, false_values, skipinitialspace, skiprows, skipfooter, nrows, na_values, keep_default_na, na_filter, verbose, skip_blank_lines, parse_dates, infer_datetime_format, keep_date_col, date_parser, dayfirst, cache_dates, iterator, chunksize, compression, thousands, decimal, lineterminator, quotechar, quoting, doublequote, escapechar, comment, encoding, encoding_errors, dialect, error_bad_lines, warn_bad_lines, on_bad_lines, delim_whitespace, low_memory, memory_map, float_precision, storage_options)\u001b[0m\n\u001b[1;32m    584\u001b[0m     \u001b[0mkwds\u001b[0m\u001b[0;34m.\u001b[0m\u001b[0mupdate\u001b[0m\u001b[0;34m(\u001b[0m\u001b[0mkwds_defaults\u001b[0m\u001b[0;34m)\u001b[0m\u001b[0;34m\u001b[0m\u001b[0;34m\u001b[0m\u001b[0m\n\u001b[1;32m    585\u001b[0m \u001b[0;34m\u001b[0m\u001b[0m\n\u001b[0;32m--> 586\u001b[0;31m     \u001b[0;32mreturn\u001b[0m \u001b[0m_read\u001b[0m\u001b[0;34m(\u001b[0m\u001b[0mfilepath_or_buffer\u001b[0m\u001b[0;34m,\u001b[0m \u001b[0mkwds\u001b[0m\u001b[0;34m)\u001b[0m\u001b[0;34m\u001b[0m\u001b[0;34m\u001b[0m\u001b[0m\n\u001b[0m\u001b[1;32m    587\u001b[0m \u001b[0;34m\u001b[0m\u001b[0m\n\u001b[1;32m    588\u001b[0m \u001b[0;34m\u001b[0m\u001b[0m\n",
            "\u001b[0;32m/usr/local/lib/python3.7/dist-packages/pandas/io/parsers/readers.py\u001b[0m in \u001b[0;36m_read\u001b[0;34m(filepath_or_buffer, kwds)\u001b[0m\n\u001b[1;32m    480\u001b[0m \u001b[0;34m\u001b[0m\u001b[0m\n\u001b[1;32m    481\u001b[0m     \u001b[0;31m# Create the parser.\u001b[0m\u001b[0;34m\u001b[0m\u001b[0;34m\u001b[0m\u001b[0;34m\u001b[0m\u001b[0m\n\u001b[0;32m--> 482\u001b[0;31m     \u001b[0mparser\u001b[0m \u001b[0;34m=\u001b[0m \u001b[0mTextFileReader\u001b[0m\u001b[0;34m(\u001b[0m\u001b[0mfilepath_or_buffer\u001b[0m\u001b[0;34m,\u001b[0m \u001b[0;34m**\u001b[0m\u001b[0mkwds\u001b[0m\u001b[0;34m)\u001b[0m\u001b[0;34m\u001b[0m\u001b[0;34m\u001b[0m\u001b[0m\n\u001b[0m\u001b[1;32m    483\u001b[0m \u001b[0;34m\u001b[0m\u001b[0m\n\u001b[1;32m    484\u001b[0m     \u001b[0;32mif\u001b[0m \u001b[0mchunksize\u001b[0m \u001b[0;32mor\u001b[0m \u001b[0miterator\u001b[0m\u001b[0;34m:\u001b[0m\u001b[0;34m\u001b[0m\u001b[0;34m\u001b[0m\u001b[0m\n",
            "\u001b[0;32m/usr/local/lib/python3.7/dist-packages/pandas/io/parsers/readers.py\u001b[0m in \u001b[0;36m__init__\u001b[0;34m(self, f, engine, **kwds)\u001b[0m\n\u001b[1;32m    809\u001b[0m             \u001b[0mself\u001b[0m\u001b[0;34m.\u001b[0m\u001b[0moptions\u001b[0m\u001b[0;34m[\u001b[0m\u001b[0;34m\"has_index_names\"\u001b[0m\u001b[0;34m]\u001b[0m \u001b[0;34m=\u001b[0m \u001b[0mkwds\u001b[0m\u001b[0;34m[\u001b[0m\u001b[0;34m\"has_index_names\"\u001b[0m\u001b[0;34m]\u001b[0m\u001b[0;34m\u001b[0m\u001b[0;34m\u001b[0m\u001b[0m\n\u001b[1;32m    810\u001b[0m \u001b[0;34m\u001b[0m\u001b[0m\n\u001b[0;32m--> 811\u001b[0;31m         \u001b[0mself\u001b[0m\u001b[0;34m.\u001b[0m\u001b[0m_engine\u001b[0m \u001b[0;34m=\u001b[0m \u001b[0mself\u001b[0m\u001b[0;34m.\u001b[0m\u001b[0m_make_engine\u001b[0m\u001b[0;34m(\u001b[0m\u001b[0mself\u001b[0m\u001b[0;34m.\u001b[0m\u001b[0mengine\u001b[0m\u001b[0;34m)\u001b[0m\u001b[0;34m\u001b[0m\u001b[0;34m\u001b[0m\u001b[0m\n\u001b[0m\u001b[1;32m    812\u001b[0m \u001b[0;34m\u001b[0m\u001b[0m\n\u001b[1;32m    813\u001b[0m     \u001b[0;32mdef\u001b[0m \u001b[0mclose\u001b[0m\u001b[0;34m(\u001b[0m\u001b[0mself\u001b[0m\u001b[0;34m)\u001b[0m\u001b[0;34m:\u001b[0m\u001b[0;34m\u001b[0m\u001b[0;34m\u001b[0m\u001b[0m\n",
            "\u001b[0;32m/usr/local/lib/python3.7/dist-packages/pandas/io/parsers/readers.py\u001b[0m in \u001b[0;36m_make_engine\u001b[0;34m(self, engine)\u001b[0m\n\u001b[1;32m   1038\u001b[0m             )\n\u001b[1;32m   1039\u001b[0m         \u001b[0;31m# error: Too many arguments for \"ParserBase\"\u001b[0m\u001b[0;34m\u001b[0m\u001b[0;34m\u001b[0m\u001b[0;34m\u001b[0m\u001b[0m\n\u001b[0;32m-> 1040\u001b[0;31m         \u001b[0;32mreturn\u001b[0m \u001b[0mmapping\u001b[0m\u001b[0;34m[\u001b[0m\u001b[0mengine\u001b[0m\u001b[0;34m]\u001b[0m\u001b[0;34m(\u001b[0m\u001b[0mself\u001b[0m\u001b[0;34m.\u001b[0m\u001b[0mf\u001b[0m\u001b[0;34m,\u001b[0m \u001b[0;34m**\u001b[0m\u001b[0mself\u001b[0m\u001b[0;34m.\u001b[0m\u001b[0moptions\u001b[0m\u001b[0;34m)\u001b[0m  \u001b[0;31m# type: ignore[call-arg]\u001b[0m\u001b[0;34m\u001b[0m\u001b[0;34m\u001b[0m\u001b[0m\n\u001b[0m\u001b[1;32m   1041\u001b[0m \u001b[0;34m\u001b[0m\u001b[0m\n\u001b[1;32m   1042\u001b[0m     \u001b[0;32mdef\u001b[0m \u001b[0m_failover_to_python\u001b[0m\u001b[0;34m(\u001b[0m\u001b[0mself\u001b[0m\u001b[0;34m)\u001b[0m\u001b[0;34m:\u001b[0m\u001b[0;34m\u001b[0m\u001b[0;34m\u001b[0m\u001b[0m\n",
            "\u001b[0;32m/usr/local/lib/python3.7/dist-packages/pandas/io/parsers/c_parser_wrapper.py\u001b[0m in \u001b[0;36m__init__\u001b[0;34m(self, src, **kwds)\u001b[0m\n\u001b[1;32m     49\u001b[0m \u001b[0;34m\u001b[0m\u001b[0m\n\u001b[1;32m     50\u001b[0m         \u001b[0;31m# open handles\u001b[0m\u001b[0;34m\u001b[0m\u001b[0;34m\u001b[0m\u001b[0;34m\u001b[0m\u001b[0m\n\u001b[0;32m---> 51\u001b[0;31m         \u001b[0mself\u001b[0m\u001b[0;34m.\u001b[0m\u001b[0m_open_handles\u001b[0m\u001b[0;34m(\u001b[0m\u001b[0msrc\u001b[0m\u001b[0;34m,\u001b[0m \u001b[0mkwds\u001b[0m\u001b[0;34m)\u001b[0m\u001b[0;34m\u001b[0m\u001b[0;34m\u001b[0m\u001b[0m\n\u001b[0m\u001b[1;32m     52\u001b[0m         \u001b[0;32massert\u001b[0m \u001b[0mself\u001b[0m\u001b[0;34m.\u001b[0m\u001b[0mhandles\u001b[0m \u001b[0;32mis\u001b[0m \u001b[0;32mnot\u001b[0m \u001b[0;32mNone\u001b[0m\u001b[0;34m\u001b[0m\u001b[0;34m\u001b[0m\u001b[0m\n\u001b[1;32m     53\u001b[0m \u001b[0;34m\u001b[0m\u001b[0m\n",
            "\u001b[0;32m/usr/local/lib/python3.7/dist-packages/pandas/io/parsers/base_parser.py\u001b[0m in \u001b[0;36m_open_handles\u001b[0;34m(self, src, kwds)\u001b[0m\n\u001b[1;32m    227\u001b[0m             \u001b[0mmemory_map\u001b[0m\u001b[0;34m=\u001b[0m\u001b[0mkwds\u001b[0m\u001b[0;34m.\u001b[0m\u001b[0mget\u001b[0m\u001b[0;34m(\u001b[0m\u001b[0;34m\"memory_map\"\u001b[0m\u001b[0;34m,\u001b[0m \u001b[0;32mFalse\u001b[0m\u001b[0;34m)\u001b[0m\u001b[0;34m,\u001b[0m\u001b[0;34m\u001b[0m\u001b[0;34m\u001b[0m\u001b[0m\n\u001b[1;32m    228\u001b[0m             \u001b[0mstorage_options\u001b[0m\u001b[0;34m=\u001b[0m\u001b[0mkwds\u001b[0m\u001b[0;34m.\u001b[0m\u001b[0mget\u001b[0m\u001b[0;34m(\u001b[0m\u001b[0;34m\"storage_options\"\u001b[0m\u001b[0;34m,\u001b[0m \u001b[0;32mNone\u001b[0m\u001b[0;34m)\u001b[0m\u001b[0;34m,\u001b[0m\u001b[0;34m\u001b[0m\u001b[0;34m\u001b[0m\u001b[0m\n\u001b[0;32m--> 229\u001b[0;31m             \u001b[0merrors\u001b[0m\u001b[0;34m=\u001b[0m\u001b[0mkwds\u001b[0m\u001b[0;34m.\u001b[0m\u001b[0mget\u001b[0m\u001b[0;34m(\u001b[0m\u001b[0;34m\"encoding_errors\"\u001b[0m\u001b[0;34m,\u001b[0m \u001b[0;34m\"strict\"\u001b[0m\u001b[0;34m)\u001b[0m\u001b[0;34m,\u001b[0m\u001b[0;34m\u001b[0m\u001b[0;34m\u001b[0m\u001b[0m\n\u001b[0m\u001b[1;32m    230\u001b[0m         )\n\u001b[1;32m    231\u001b[0m \u001b[0;34m\u001b[0m\u001b[0m\n",
            "\u001b[0;32m/usr/local/lib/python3.7/dist-packages/pandas/io/common.py\u001b[0m in \u001b[0;36mget_handle\u001b[0;34m(path_or_buf, mode, encoding, compression, memory_map, is_text, errors, storage_options)\u001b[0m\n\u001b[1;32m    705\u001b[0m                 \u001b[0mencoding\u001b[0m\u001b[0;34m=\u001b[0m\u001b[0mioargs\u001b[0m\u001b[0;34m.\u001b[0m\u001b[0mencoding\u001b[0m\u001b[0;34m,\u001b[0m\u001b[0;34m\u001b[0m\u001b[0;34m\u001b[0m\u001b[0m\n\u001b[1;32m    706\u001b[0m                 \u001b[0merrors\u001b[0m\u001b[0;34m=\u001b[0m\u001b[0merrors\u001b[0m\u001b[0;34m,\u001b[0m\u001b[0;34m\u001b[0m\u001b[0;34m\u001b[0m\u001b[0m\n\u001b[0;32m--> 707\u001b[0;31m                 \u001b[0mnewline\u001b[0m\u001b[0;34m=\u001b[0m\u001b[0;34m\"\"\u001b[0m\u001b[0;34m,\u001b[0m\u001b[0;34m\u001b[0m\u001b[0;34m\u001b[0m\u001b[0m\n\u001b[0m\u001b[1;32m    708\u001b[0m             )\n\u001b[1;32m    709\u001b[0m         \u001b[0;32melse\u001b[0m\u001b[0;34m:\u001b[0m\u001b[0;34m\u001b[0m\u001b[0;34m\u001b[0m\u001b[0m\n",
            "\u001b[0;31mFileNotFoundError\u001b[0m: [Errno 2] No such file or directory: '/content/sample_data/darknet-engineered-only-darknet.csv'"
          ]
        }
      ]
    },
    {
      "cell_type": "markdown",
      "source": [
        ""
      ],
      "metadata": {
        "id": "if5c01u5WB_M"
      }
    },
    {
      "cell_type": "code",
      "source": [
        "data.head(4)"
      ],
      "metadata": {
        "colab": {
          "base_uri": "https://localhost:8080/",
          "height": 268
        },
        "id": "D2xRgRTXAw_X",
        "outputId": "f6159736-d7dc-4da5-dec3-65add1d7c81b"
      },
      "execution_count": null,
      "outputs": [
        {
          "output_type": "execute_result",
          "data": {
            "text/plain": [
              "         V1        V2        V3        V4        V5        V7        V8  \\\n",
              "0  1.108483 -1.312283 -0.771401 -0.052854 -0.799183  2.595838  0.504271   \n",
              "1  1.108483 -1.312283 -0.771401 -0.052854 -0.799183  2.605580  0.707149   \n",
              "2  1.108483 -1.312283 -0.771401 -0.052854 -0.799183  2.583302  0.437178   \n",
              "3  1.108483 -1.312283 -0.771401  1.128722 -0.799183 -0.526418 -0.106759   \n",
              "\n",
              "         V9       V10       V11  ...       V68       V70       V71        V72  \\\n",
              "0  1.692151  0.019183  2.057233  ... -0.180239  4.856833  6.746578  11.880871   \n",
              "1  2.146912  0.089794  2.474118  ... -0.063967  4.504826  6.746578  11.880871   \n",
              "2  1.366685  0.007768  1.663448  ... -0.172972  4.709630  6.746578  11.880871   \n",
              "3 -0.113518 -0.059775 -0.098601  ...  0.568262  0.114334  3.893452  11.880871   \n",
              "\n",
              "        V73       V74      V79       V80      V81       V82  \n",
              "0  0.051599  0.860362  0.60867 -0.432358  0.37029  0.947872  \n",
              "1  0.167628  0.860362  0.60867 -0.432358  0.37029  0.947872  \n",
              "2  0.029498  0.860362  0.60867 -0.432358  0.37029  0.947872  \n",
              "3 -0.101264  0.860362  0.60867 -0.432358  0.37029  0.947872  \n",
              "\n",
              "[4 rows x 63 columns]"
            ],
            "text/html": [
              "\n",
              "  <div id=\"df-9edfd231-c3f6-406f-b342-eae1e7c73e00\">\n",
              "    <div class=\"colab-df-container\">\n",
              "      <div>\n",
              "<style scoped>\n",
              "    .dataframe tbody tr th:only-of-type {\n",
              "        vertical-align: middle;\n",
              "    }\n",
              "\n",
              "    .dataframe tbody tr th {\n",
              "        vertical-align: top;\n",
              "    }\n",
              "\n",
              "    .dataframe thead th {\n",
              "        text-align: right;\n",
              "    }\n",
              "</style>\n",
              "<table border=\"1\" class=\"dataframe\">\n",
              "  <thead>\n",
              "    <tr style=\"text-align: right;\">\n",
              "      <th></th>\n",
              "      <th>V1</th>\n",
              "      <th>V2</th>\n",
              "      <th>V3</th>\n",
              "      <th>V4</th>\n",
              "      <th>V5</th>\n",
              "      <th>V7</th>\n",
              "      <th>V8</th>\n",
              "      <th>V9</th>\n",
              "      <th>V10</th>\n",
              "      <th>V11</th>\n",
              "      <th>...</th>\n",
              "      <th>V68</th>\n",
              "      <th>V70</th>\n",
              "      <th>V71</th>\n",
              "      <th>V72</th>\n",
              "      <th>V73</th>\n",
              "      <th>V74</th>\n",
              "      <th>V79</th>\n",
              "      <th>V80</th>\n",
              "      <th>V81</th>\n",
              "      <th>V82</th>\n",
              "    </tr>\n",
              "  </thead>\n",
              "  <tbody>\n",
              "    <tr>\n",
              "      <th>0</th>\n",
              "      <td>1.108483</td>\n",
              "      <td>-1.312283</td>\n",
              "      <td>-0.771401</td>\n",
              "      <td>-0.052854</td>\n",
              "      <td>-0.799183</td>\n",
              "      <td>2.595838</td>\n",
              "      <td>0.504271</td>\n",
              "      <td>1.692151</td>\n",
              "      <td>0.019183</td>\n",
              "      <td>2.057233</td>\n",
              "      <td>...</td>\n",
              "      <td>-0.180239</td>\n",
              "      <td>4.856833</td>\n",
              "      <td>6.746578</td>\n",
              "      <td>11.880871</td>\n",
              "      <td>0.051599</td>\n",
              "      <td>0.860362</td>\n",
              "      <td>0.60867</td>\n",
              "      <td>-0.432358</td>\n",
              "      <td>0.37029</td>\n",
              "      <td>0.947872</td>\n",
              "    </tr>\n",
              "    <tr>\n",
              "      <th>1</th>\n",
              "      <td>1.108483</td>\n",
              "      <td>-1.312283</td>\n",
              "      <td>-0.771401</td>\n",
              "      <td>-0.052854</td>\n",
              "      <td>-0.799183</td>\n",
              "      <td>2.605580</td>\n",
              "      <td>0.707149</td>\n",
              "      <td>2.146912</td>\n",
              "      <td>0.089794</td>\n",
              "      <td>2.474118</td>\n",
              "      <td>...</td>\n",
              "      <td>-0.063967</td>\n",
              "      <td>4.504826</td>\n",
              "      <td>6.746578</td>\n",
              "      <td>11.880871</td>\n",
              "      <td>0.167628</td>\n",
              "      <td>0.860362</td>\n",
              "      <td>0.60867</td>\n",
              "      <td>-0.432358</td>\n",
              "      <td>0.37029</td>\n",
              "      <td>0.947872</td>\n",
              "    </tr>\n",
              "    <tr>\n",
              "      <th>2</th>\n",
              "      <td>1.108483</td>\n",
              "      <td>-1.312283</td>\n",
              "      <td>-0.771401</td>\n",
              "      <td>-0.052854</td>\n",
              "      <td>-0.799183</td>\n",
              "      <td>2.583302</td>\n",
              "      <td>0.437178</td>\n",
              "      <td>1.366685</td>\n",
              "      <td>0.007768</td>\n",
              "      <td>1.663448</td>\n",
              "      <td>...</td>\n",
              "      <td>-0.172972</td>\n",
              "      <td>4.709630</td>\n",
              "      <td>6.746578</td>\n",
              "      <td>11.880871</td>\n",
              "      <td>0.029498</td>\n",
              "      <td>0.860362</td>\n",
              "      <td>0.60867</td>\n",
              "      <td>-0.432358</td>\n",
              "      <td>0.37029</td>\n",
              "      <td>0.947872</td>\n",
              "    </tr>\n",
              "    <tr>\n",
              "      <th>3</th>\n",
              "      <td>1.108483</td>\n",
              "      <td>-1.312283</td>\n",
              "      <td>-0.771401</td>\n",
              "      <td>1.128722</td>\n",
              "      <td>-0.799183</td>\n",
              "      <td>-0.526418</td>\n",
              "      <td>-0.106759</td>\n",
              "      <td>-0.113518</td>\n",
              "      <td>-0.059775</td>\n",
              "      <td>-0.098601</td>\n",
              "      <td>...</td>\n",
              "      <td>0.568262</td>\n",
              "      <td>0.114334</td>\n",
              "      <td>3.893452</td>\n",
              "      <td>11.880871</td>\n",
              "      <td>-0.101264</td>\n",
              "      <td>0.860362</td>\n",
              "      <td>0.60867</td>\n",
              "      <td>-0.432358</td>\n",
              "      <td>0.37029</td>\n",
              "      <td>0.947872</td>\n",
              "    </tr>\n",
              "  </tbody>\n",
              "</table>\n",
              "<p>4 rows × 63 columns</p>\n",
              "</div>\n",
              "      <button class=\"colab-df-convert\" onclick=\"convertToInteractive('df-9edfd231-c3f6-406f-b342-eae1e7c73e00')\"\n",
              "              title=\"Convert this dataframe to an interactive table.\"\n",
              "              style=\"display:none;\">\n",
              "        \n",
              "  <svg xmlns=\"http://www.w3.org/2000/svg\" height=\"24px\"viewBox=\"0 0 24 24\"\n",
              "       width=\"24px\">\n",
              "    <path d=\"M0 0h24v24H0V0z\" fill=\"none\"/>\n",
              "    <path d=\"M18.56 5.44l.94 2.06.94-2.06 2.06-.94-2.06-.94-.94-2.06-.94 2.06-2.06.94zm-11 1L8.5 8.5l.94-2.06 2.06-.94-2.06-.94L8.5 2.5l-.94 2.06-2.06.94zm10 10l.94 2.06.94-2.06 2.06-.94-2.06-.94-.94-2.06-.94 2.06-2.06.94z\"/><path d=\"M17.41 7.96l-1.37-1.37c-.4-.4-.92-.59-1.43-.59-.52 0-1.04.2-1.43.59L10.3 9.45l-7.72 7.72c-.78.78-.78 2.05 0 2.83L4 21.41c.39.39.9.59 1.41.59.51 0 1.02-.2 1.41-.59l7.78-7.78 2.81-2.81c.8-.78.8-2.07 0-2.86zM5.41 20L4 18.59l7.72-7.72 1.47 1.35L5.41 20z\"/>\n",
              "  </svg>\n",
              "      </button>\n",
              "      \n",
              "  <style>\n",
              "    .colab-df-container {\n",
              "      display:flex;\n",
              "      flex-wrap:wrap;\n",
              "      gap: 12px;\n",
              "    }\n",
              "\n",
              "    .colab-df-convert {\n",
              "      background-color: #E8F0FE;\n",
              "      border: none;\n",
              "      border-radius: 50%;\n",
              "      cursor: pointer;\n",
              "      display: none;\n",
              "      fill: #1967D2;\n",
              "      height: 32px;\n",
              "      padding: 0 0 0 0;\n",
              "      width: 32px;\n",
              "    }\n",
              "\n",
              "    .colab-df-convert:hover {\n",
              "      background-color: #E2EBFA;\n",
              "      box-shadow: 0px 1px 2px rgba(60, 64, 67, 0.3), 0px 1px 3px 1px rgba(60, 64, 67, 0.15);\n",
              "      fill: #174EA6;\n",
              "    }\n",
              "\n",
              "    [theme=dark] .colab-df-convert {\n",
              "      background-color: #3B4455;\n",
              "      fill: #D2E3FC;\n",
              "    }\n",
              "\n",
              "    [theme=dark] .colab-df-convert:hover {\n",
              "      background-color: #434B5C;\n",
              "      box-shadow: 0px 1px 3px 1px rgba(0, 0, 0, 0.15);\n",
              "      filter: drop-shadow(0px 1px 2px rgba(0, 0, 0, 0.3));\n",
              "      fill: #FFFFFF;\n",
              "    }\n",
              "  </style>\n",
              "\n",
              "      <script>\n",
              "        const buttonEl =\n",
              "          document.querySelector('#df-9edfd231-c3f6-406f-b342-eae1e7c73e00 button.colab-df-convert');\n",
              "        buttonEl.style.display =\n",
              "          google.colab.kernel.accessAllowed ? 'block' : 'none';\n",
              "\n",
              "        async function convertToInteractive(key) {\n",
              "          const element = document.querySelector('#df-9edfd231-c3f6-406f-b342-eae1e7c73e00');\n",
              "          const dataTable =\n",
              "            await google.colab.kernel.invokeFunction('convertToInteractive',\n",
              "                                                     [key], {});\n",
              "          if (!dataTable) return;\n",
              "\n",
              "          const docLinkHtml = 'Like what you see? Visit the ' +\n",
              "            '<a target=\"_blank\" href=https://colab.research.google.com/notebooks/data_table.ipynb>data table notebook</a>'\n",
              "            + ' to learn more about interactive tables.';\n",
              "          element.innerHTML = '';\n",
              "          dataTable['output_type'] = 'display_data';\n",
              "          await google.colab.output.renderOutput(dataTable, element);\n",
              "          const docLink = document.createElement('div');\n",
              "          docLink.innerHTML = docLinkHtml;\n",
              "          element.appendChild(docLink);\n",
              "        }\n",
              "      </script>\n",
              "    </div>\n",
              "  </div>\n",
              "  "
            ]
          },
          "metadata": {},
          "execution_count": 2
        }
      ]
    },
    {
      "cell_type": "code",
      "source": [
        "from tgan.model import TGANModel\n",
        "\n",
        "tgan = TGANModel(continuous_columns)"
      ],
      "metadata": {
        "colab": {
          "base_uri": "https://localhost:8080/",
          "height": 324
        },
        "id": "enH5GnLrA0GJ",
        "outputId": "bbcfdf8c-02cc-4cd2-f704-2141a1b805fa"
      },
      "execution_count": 2,
      "outputs": [
        {
          "output_type": "stream",
          "name": "stdout",
          "text": [
            "WARNING:tensorflow:From /usr/local/lib/python3.7/dist-packages/tensorpack/callbacks/hooks.py:17: The name tf.train.SessionRunHook is deprecated. Please use tf.estimator.SessionRunHook instead.\n",
            "\n",
            "WARNING:tensorflow:From /usr/local/lib/python3.7/dist-packages/tensorpack/tfutils/optimizer.py:18: The name tf.train.Optimizer is deprecated. Please use tf.compat.v1.train.Optimizer instead.\n",
            "\n",
            "WARNING:tensorflow:From /usr/local/lib/python3.7/dist-packages/tensorpack/tfutils/sesscreate.py:20: The name tf.train.SessionCreator is deprecated. Please use tf.compat.v1.train.SessionCreator instead.\n",
            "\n"
          ]
        },
        {
          "output_type": "error",
          "ename": "NameError",
          "evalue": "ignored",
          "traceback": [
            "\u001b[0;31m---------------------------------------------------------------------------\u001b[0m",
            "\u001b[0;31mNameError\u001b[0m                                 Traceback (most recent call last)",
            "\u001b[0;32m<ipython-input-2-67c826b1d1a5>\u001b[0m in \u001b[0;36m<module>\u001b[0;34m()\u001b[0m\n\u001b[1;32m      1\u001b[0m \u001b[0;32mfrom\u001b[0m \u001b[0mtgan\u001b[0m\u001b[0;34m.\u001b[0m\u001b[0mmodel\u001b[0m \u001b[0;32mimport\u001b[0m \u001b[0mTGANModel\u001b[0m\u001b[0;34m\u001b[0m\u001b[0;34m\u001b[0m\u001b[0m\n\u001b[1;32m      2\u001b[0m \u001b[0;34m\u001b[0m\u001b[0m\n\u001b[0;32m----> 3\u001b[0;31m \u001b[0mtgan\u001b[0m \u001b[0;34m=\u001b[0m \u001b[0mTGANModel\u001b[0m\u001b[0;34m(\u001b[0m\u001b[0mcontinuous_columns\u001b[0m\u001b[0;34m)\u001b[0m\u001b[0;34m\u001b[0m\u001b[0;34m\u001b[0m\u001b[0m\n\u001b[0m",
            "\u001b[0;31mNameError\u001b[0m: name 'continuous_columns' is not defined"
          ]
        }
      ]
    },
    {
      "cell_type": "markdown",
      "source": [
        ""
      ],
      "metadata": {
        "id": "9Y-YOtJ8VWCy"
      }
    },
    {
      "cell_type": "markdown",
      "source": [
        ""
      ],
      "metadata": {
        "id": "rZ1Y5uyJVksY"
      }
    },
    {
      "cell_type": "markdown",
      "source": [
        ""
      ],
      "metadata": {
        "id": "kQkr4eEEVzV7"
      }
    },
    {
      "cell_type": "code",
      "source": [
        "#check if we have nan values\n",
        "data.isnull().any()"
      ],
      "metadata": {
        "id": "zfSlYsgQIp3u",
        "outputId": "a19d65db-56c3-47dd-8a75-1f75d54beb0f",
        "colab": {
          "base_uri": "https://localhost:8080/"
        }
      },
      "execution_count": 5,
      "outputs": [
        {
          "output_type": "execute_result",
          "data": {
            "text/plain": [
              "V1     False\n",
              "V2     False\n",
              "V3     False\n",
              "V4     False\n",
              "V5     False\n",
              "       ...  \n",
              "V74    False\n",
              "V79    False\n",
              "V80    False\n",
              "V81    False\n",
              "V82    False\n",
              "Length: 63, dtype: bool"
            ]
          },
          "metadata": {},
          "execution_count": 5
        }
      ]
    },
    {
      "cell_type": "markdown",
      "source": [
        ""
      ],
      "metadata": {
        "id": "mpGsekxkJVoo"
      }
    },
    {
      "cell_type": "code",
      "source": [
        "# fitting the model is done one time only \n",
        "# do not run it: istead use the load the TGAN and use it \n",
        "#to generate as much as you need syntitic data"
      ],
      "metadata": {
        "id": "Pa38F5HTO8BH"
      },
      "execution_count": null,
      "outputs": []
    },
    {
      "cell_type": "code",
      "source": [
        "# prvent colab from disconnecting\n",
        "# go to gan codes file and do the needed \"prevent colab from discnnecting\"\n",
        "\n",
        "# fit the tgan\n",
        "tgan.fit(data)"
      ],
      "metadata": {
        "colab": {
          "base_uri": "https://localhost:8080/"
        },
        "id": "4qs5NF1tBZTh",
        "outputId": "52655f15-1f5c-4b39-cba8-ac17f38250d5"
      },
      "execution_count": null,
      "outputs": [
        {
          "output_type": "stream",
          "name": "stdout",
          "text": [
            "WARNING:tensorflow:From /usr/local/lib/python3.7/dist-packages/tensorpack/graph_builder/model_desc.py:29: The name tf.get_default_graph is deprecated. Please use tf.compat.v1.get_default_graph instead.\n",
            "\n"
          ]
        },
        {
          "output_type": "stream",
          "name": "stderr",
          "text": [
            "WARNING:tensorflow:From /usr/local/lib/python3.7/dist-packages/tensorpack/graph_builder/model_desc.py:29: The name tf.get_default_graph is deprecated. Please use tf.compat.v1.get_default_graph instead.\n",
            "\n"
          ]
        },
        {
          "output_type": "stream",
          "name": "stdout",
          "text": [
            "WARNING:tensorflow:From /usr/local/lib/python3.7/dist-packages/tensorpack/graph_builder/model_desc.py:39: The name tf.placeholder is deprecated. Please use tf.compat.v1.placeholder instead.\n",
            "\n"
          ]
        },
        {
          "output_type": "stream",
          "name": "stderr",
          "text": [
            "WARNING:tensorflow:From /usr/local/lib/python3.7/dist-packages/tensorpack/graph_builder/model_desc.py:39: The name tf.placeholder is deprecated. Please use tf.compat.v1.placeholder instead.\n",
            "\n"
          ]
        },
        {
          "output_type": "stream",
          "name": "stdout",
          "text": [
            "WARNING:tensorflow:From /usr/local/lib/python3.7/dist-packages/tensorpack/input_source/input_source.py:219: The name tf.FIFOQueue is deprecated. Please use tf.queue.FIFOQueue instead.\n",
            "\n"
          ]
        },
        {
          "output_type": "stream",
          "name": "stderr",
          "text": [
            "WARNING:tensorflow:From /usr/local/lib/python3.7/dist-packages/tensorpack/input_source/input_source.py:219: The name tf.FIFOQueue is deprecated. Please use tf.queue.FIFOQueue instead.\n",
            "\n"
          ]
        },
        {
          "output_type": "stream",
          "name": "stdout",
          "text": [
            "\u001b[32m[0805 22:57:15 @input_source.py:222]\u001b[0m Setting up the queue 'QueueInput/input_queue' for CPU prefetching ...\n",
            "WARNING:tensorflow:From /usr/local/lib/python3.7/dist-packages/tensorpack/tfutils/summary.py:237: The name tf.get_variable_scope is deprecated. Please use tf.compat.v1.get_variable_scope instead.\n",
            "\n"
          ]
        },
        {
          "output_type": "stream",
          "name": "stderr",
          "text": [
            "WARNING:tensorflow:From /usr/local/lib/python3.7/dist-packages/tensorpack/tfutils/summary.py:237: The name tf.get_variable_scope is deprecated. Please use tf.compat.v1.get_variable_scope instead.\n",
            "\n"
          ]
        },
        {
          "output_type": "stream",
          "name": "stdout",
          "text": [
            "WARNING:tensorflow:From /usr/local/lib/python3.7/dist-packages/tensorpack/tfutils/summary.py:27: The name tf.variable_scope is deprecated. Please use tf.compat.v1.variable_scope instead.\n",
            "\n"
          ]
        },
        {
          "output_type": "stream",
          "name": "stderr",
          "text": [
            "WARNING:tensorflow:From /usr/local/lib/python3.7/dist-packages/tensorpack/tfutils/summary.py:27: The name tf.variable_scope is deprecated. Please use tf.compat.v1.variable_scope instead.\n",
            "\n"
          ]
        },
        {
          "output_type": "stream",
          "name": "stdout",
          "text": [
            "WARNING:tensorflow:From /usr/local/lib/python3.7/dist-packages/tensorpack/tfutils/summary.py:254: The name tf.get_variable is deprecated. Please use tf.compat.v1.get_variable instead.\n",
            "\n"
          ]
        },
        {
          "output_type": "stream",
          "name": "stderr",
          "text": [
            "WARNING:tensorflow:From /usr/local/lib/python3.7/dist-packages/tensorpack/tfutils/summary.py:254: The name tf.get_variable is deprecated. Please use tf.compat.v1.get_variable instead.\n",
            "\n"
          ]
        },
        {
          "output_type": "stream",
          "name": "stdout",
          "text": [
            "WARNING:tensorflow:From /usr/local/lib/python3.7/dist-packages/tensorpack/tfutils/summary.py:264: The name tf.summary.scalar is deprecated. Please use tf.compat.v1.summary.scalar instead.\n",
            "\n"
          ]
        },
        {
          "output_type": "stream",
          "name": "stderr",
          "text": [
            "WARNING:tensorflow:From /usr/local/lib/python3.7/dist-packages/tensorpack/tfutils/summary.py:264: The name tf.summary.scalar is deprecated. Please use tf.compat.v1.summary.scalar instead.\n",
            "\n"
          ]
        },
        {
          "output_type": "stream",
          "name": "stdout",
          "text": [
            "WARNING:tensorflow:From /usr/local/lib/python3.7/dist-packages/tensorpack/tfutils/collection.py:105: The name tf.GraphKeys is deprecated. Please use tf.compat.v1.GraphKeys instead.\n",
            "\n"
          ]
        },
        {
          "output_type": "stream",
          "name": "stderr",
          "text": [
            "WARNING:tensorflow:From /usr/local/lib/python3.7/dist-packages/tensorpack/tfutils/collection.py:105: The name tf.GraphKeys is deprecated. Please use tf.compat.v1.GraphKeys instead.\n",
            "\n"
          ]
        },
        {
          "output_type": "stream",
          "name": "stdout",
          "text": [
            "WARNING:tensorflow:From /usr/local/lib/python3.7/dist-packages/tensorpack/tfutils/collection.py:33: The name tf.get_collection is deprecated. Please use tf.compat.v1.get_collection instead.\n",
            "\n"
          ]
        },
        {
          "output_type": "stream",
          "name": "stderr",
          "text": [
            "WARNING:tensorflow:From /usr/local/lib/python3.7/dist-packages/tensorpack/tfutils/collection.py:33: The name tf.get_collection is deprecated. Please use tf.compat.v1.get_collection instead.\n",
            "\n"
          ]
        },
        {
          "output_type": "stream",
          "name": "stdout",
          "text": [
            "WARNING:tensorflow:From /usr/local/lib/python3.7/dist-packages/tgan/model.py:455: The name tf.random_normal is deprecated. Please use tf.random.normal instead.\n",
            "\n"
          ]
        },
        {
          "output_type": "stream",
          "name": "stderr",
          "text": [
            "WARNING:tensorflow:From /usr/local/lib/python3.7/dist-packages/tgan/model.py:455: The name tf.random_normal is deprecated. Please use tf.random.normal instead.\n",
            "\n"
          ]
        },
        {
          "output_type": "stream",
          "name": "stdout",
          "text": [
            "WARNING:tensorflow:From /usr/local/lib/python3.7/dist-packages/tgan/model.py:458: The name tf.placeholder_with_default is deprecated. Please use tf.compat.v1.placeholder_with_default instead.\n",
            "\n"
          ]
        },
        {
          "output_type": "stream",
          "name": "stderr",
          "text": [
            "WARNING:tensorflow:From /usr/local/lib/python3.7/dist-packages/tgan/model.py:458: The name tf.placeholder_with_default is deprecated. Please use tf.compat.v1.placeholder_with_default instead.\n",
            "\n"
          ]
        },
        {
          "output_type": "stream",
          "name": "stdout",
          "text": [
            "WARNING:tensorflow:From /usr/local/lib/python3.7/dist-packages/tgan/model.py:259: LSTMCell.__init__ (from tensorflow.python.ops.rnn_cell_impl) is deprecated and will be removed in a future version.\n",
            "Instructions for updating:\n",
            "This class is equivalent as tf.keras.layers.LSTMCell, and will be replaced by that in Tensorflow 2.0.\n"
          ]
        },
        {
          "output_type": "stream",
          "name": "stderr",
          "text": [
            "WARNING:tensorflow:From /usr/local/lib/python3.7/dist-packages/tgan/model.py:259: LSTMCell.__init__ (from tensorflow.python.ops.rnn_cell_impl) is deprecated and will be removed in a future version.\n",
            "Instructions for updating:\n",
            "This class is equivalent as tf.keras.layers.LSTMCell, and will be replaced by that in Tensorflow 2.0.\n"
          ]
        },
        {
          "output_type": "stream",
          "name": "stdout",
          "text": [
            "WARNING:tensorflow:From /usr/local/lib/python3.7/dist-packages/tensorflow_core/python/ops/rnn_cell_impl.py:958: Layer.add_variable (from tensorflow.python.keras.engine.base_layer) is deprecated and will be removed in a future version.\n",
            "Instructions for updating:\n",
            "Please use `layer.add_weight` method instead.\n"
          ]
        },
        {
          "output_type": "stream",
          "name": "stderr",
          "text": [
            "WARNING:tensorflow:From /usr/local/lib/python3.7/dist-packages/tensorflow_core/python/ops/rnn_cell_impl.py:958: Layer.add_variable (from tensorflow.python.keras.engine.base_layer) is deprecated and will be removed in a future version.\n",
            "Instructions for updating:\n",
            "Please use `layer.add_weight` method instead.\n"
          ]
        },
        {
          "output_type": "stream",
          "name": "stdout",
          "text": [
            "WARNING:tensorflow:From /usr/local/lib/python3.7/dist-packages/tensorflow_core/python/ops/rnn_cell_impl.py:962: calling Zeros.__init__ (from tensorflow.python.ops.init_ops) with dtype is deprecated and will be removed in a future version.\n",
            "Instructions for updating:\n",
            "Call initializer instance with the dtype argument instead of passing it to the constructor\n"
          ]
        },
        {
          "output_type": "stream",
          "name": "stderr",
          "text": [
            "WARNING:tensorflow:From /usr/local/lib/python3.7/dist-packages/tensorflow_core/python/ops/rnn_cell_impl.py:962: calling Zeros.__init__ (from tensorflow.python.ops.init_ops) with dtype is deprecated and will be removed in a future version.\n",
            "Instructions for updating:\n",
            "Call initializer instance with the dtype argument instead of passing it to the constructor\n"
          ]
        },
        {
          "output_type": "stream",
          "name": "stdout",
          "text": [
            "\u001b[32m[0805 22:57:16 @registry.py:126]\u001b[0m gen/LSTM/00/FC input: [200, 100]\n",
            "WARNING:tensorflow:From /usr/local/lib/python3.7/dist-packages/tensorpack/models/fc.py:57: The name tf.layers.Dense is deprecated. Please use tf.compat.v1.layers.Dense instead.\n",
            "\n"
          ]
        },
        {
          "output_type": "stream",
          "name": "stderr",
          "text": [
            "WARNING:tensorflow:From /usr/local/lib/python3.7/dist-packages/tensorpack/models/fc.py:57: The name tf.layers.Dense is deprecated. Please use tf.compat.v1.layers.Dense instead.\n",
            "\n"
          ]
        },
        {
          "output_type": "stream",
          "name": "stdout",
          "text": [
            "WARNING:tensorflow:From /usr/local/lib/python3.7/dist-packages/tensorpack/models/fc.py:67: Layer.apply (from tensorflow.python.keras.engine.base_layer) is deprecated and will be removed in a future version.\n",
            "Instructions for updating:\n",
            "Please use `layer.__call__` method instead.\n"
          ]
        },
        {
          "output_type": "stream",
          "name": "stderr",
          "text": [
            "WARNING:tensorflow:From /usr/local/lib/python3.7/dist-packages/tensorpack/models/fc.py:67: Layer.apply (from tensorflow.python.keras.engine.base_layer) is deprecated and will be removed in a future version.\n",
            "Instructions for updating:\n",
            "Please use `layer.__call__` method instead.\n"
          ]
        },
        {
          "output_type": "stream",
          "name": "stdout",
          "text": [
            "\u001b[32m[0805 22:57:16 @registry.py:134]\u001b[0m gen/LSTM/00/FC output: [200, 100]\n",
            "\u001b[32m[0805 22:57:16 @registry.py:126]\u001b[0m gen/LSTM/00/FC2 input: [200, 100]\n",
            "\u001b[32m[0805 22:57:16 @registry.py:134]\u001b[0m gen/LSTM/00/FC2 output: [200, 1]\n",
            "\u001b[32m[0805 22:57:16 @registry.py:126]\u001b[0m gen/LSTM/01/FC input: [200, 100]\n",
            "\u001b[32m[0805 22:57:16 @registry.py:134]\u001b[0m gen/LSTM/01/FC output: [200, 100]\n",
            "\u001b[32m[0805 22:57:16 @registry.py:126]\u001b[0m gen/LSTM/01/FC2 input: [200, 100]\n",
            "\u001b[32m[0805 22:57:16 @registry.py:134]\u001b[0m gen/LSTM/01/FC2 output: [200, 5]\n",
            "\u001b[32m[0805 22:57:16 @registry.py:126]\u001b[0m gen/LSTM/01/FC3 input: [200, 5]\n",
            "\u001b[32m[0805 22:57:16 @registry.py:134]\u001b[0m gen/LSTM/01/FC3 output: [200, 100]\n",
            "\u001b[32m[0805 22:57:16 @registry.py:126]\u001b[0m gen/LSTM/02/FC input: [200, 100]\n",
            "\u001b[32m[0805 22:57:16 @registry.py:134]\u001b[0m gen/LSTM/02/FC output: [200, 100]\n",
            "\u001b[32m[0805 22:57:16 @registry.py:126]\u001b[0m gen/LSTM/02/FC2 input: [200, 100]\n",
            "\u001b[32m[0805 22:57:16 @registry.py:134]\u001b[0m gen/LSTM/02/FC2 output: [200, 1]\n",
            "\u001b[32m[0805 22:57:16 @registry.py:126]\u001b[0m gen/LSTM/03/FC input: [200, 100]\n",
            "\u001b[32m[0805 22:57:16 @registry.py:134]\u001b[0m gen/LSTM/03/FC output: [200, 100]\n",
            "\u001b[32m[0805 22:57:16 @registry.py:126]\u001b[0m gen/LSTM/03/FC2 input: [200, 100]\n",
            "\u001b[32m[0805 22:57:16 @registry.py:134]\u001b[0m gen/LSTM/03/FC2 output: [200, 5]\n",
            "\u001b[32m[0805 22:57:16 @registry.py:126]\u001b[0m gen/LSTM/03/FC3 input: [200, 5]\n",
            "\u001b[32m[0805 22:57:16 @registry.py:134]\u001b[0m gen/LSTM/03/FC3 output: [200, 100]\n",
            "\u001b[32m[0805 22:57:16 @registry.py:126]\u001b[0m gen/LSTM/04/FC input: [200, 100]\n",
            "\u001b[32m[0805 22:57:16 @registry.py:134]\u001b[0m gen/LSTM/04/FC output: [200, 100]\n",
            "\u001b[32m[0805 22:57:16 @registry.py:126]\u001b[0m gen/LSTM/04/FC2 input: [200, 100]\n",
            "\u001b[32m[0805 22:57:16 @registry.py:134]\u001b[0m gen/LSTM/04/FC2 output: [200, 1]\n",
            "\u001b[32m[0805 22:57:16 @registry.py:126]\u001b[0m gen/LSTM/05/FC input: [200, 100]\n",
            "\u001b[32m[0805 22:57:16 @registry.py:134]\u001b[0m gen/LSTM/05/FC output: [200, 100]\n",
            "\u001b[32m[0805 22:57:16 @registry.py:126]\u001b[0m gen/LSTM/05/FC2 input: [200, 100]\n",
            "\u001b[32m[0805 22:57:16 @registry.py:134]\u001b[0m gen/LSTM/05/FC2 output: [200, 5]\n",
            "\u001b[32m[0805 22:57:16 @registry.py:126]\u001b[0m gen/LSTM/05/FC3 input: [200, 5]\n",
            "\u001b[32m[0805 22:57:16 @registry.py:134]\u001b[0m gen/LSTM/05/FC3 output: [200, 100]\n",
            "\u001b[32m[0805 22:57:16 @registry.py:126]\u001b[0m gen/LSTM/06/FC input: [200, 100]\n",
            "\u001b[32m[0805 22:57:16 @registry.py:134]\u001b[0m gen/LSTM/06/FC output: [200, 100]\n",
            "\u001b[32m[0805 22:57:16 @registry.py:126]\u001b[0m gen/LSTM/06/FC2 input: [200, 100]\n",
            "\u001b[32m[0805 22:57:16 @registry.py:134]\u001b[0m gen/LSTM/06/FC2 output: [200, 1]\n",
            "\u001b[32m[0805 22:57:16 @registry.py:126]\u001b[0m gen/LSTM/07/FC input: [200, 100]\n",
            "\u001b[32m[0805 22:57:16 @registry.py:134]\u001b[0m gen/LSTM/07/FC output: [200, 100]\n",
            "\u001b[32m[0805 22:57:16 @registry.py:126]\u001b[0m gen/LSTM/07/FC2 input: [200, 100]\n",
            "\u001b[32m[0805 22:57:16 @registry.py:134]\u001b[0m gen/LSTM/07/FC2 output: [200, 5]\n",
            "\u001b[32m[0805 22:57:16 @registry.py:126]\u001b[0m gen/LSTM/07/FC3 input: [200, 5]\n",
            "\u001b[32m[0805 22:57:16 @registry.py:134]\u001b[0m gen/LSTM/07/FC3 output: [200, 100]\n",
            "\u001b[32m[0805 22:57:17 @registry.py:126]\u001b[0m gen/LSTM/08/FC input: [200, 100]\n",
            "\u001b[32m[0805 22:57:17 @registry.py:134]\u001b[0m gen/LSTM/08/FC output: [200, 100]\n",
            "\u001b[32m[0805 22:57:17 @registry.py:126]\u001b[0m gen/LSTM/08/FC2 input: [200, 100]\n",
            "\u001b[32m[0805 22:57:17 @registry.py:134]\u001b[0m gen/LSTM/08/FC2 output: [200, 1]\n",
            "\u001b[32m[0805 22:57:17 @registry.py:126]\u001b[0m gen/LSTM/09/FC input: [200, 100]\n",
            "\u001b[32m[0805 22:57:17 @registry.py:134]\u001b[0m gen/LSTM/09/FC output: [200, 100]\n",
            "\u001b[32m[0805 22:57:17 @registry.py:126]\u001b[0m gen/LSTM/09/FC2 input: [200, 100]\n",
            "\u001b[32m[0805 22:57:17 @registry.py:134]\u001b[0m gen/LSTM/09/FC2 output: [200, 5]\n",
            "\u001b[32m[0805 22:57:17 @registry.py:126]\u001b[0m gen/LSTM/09/FC3 input: [200, 5]\n",
            "\u001b[32m[0805 22:57:17 @registry.py:134]\u001b[0m gen/LSTM/09/FC3 output: [200, 100]\n",
            "\u001b[32m[0805 22:57:17 @registry.py:126]\u001b[0m gen/LSTM/10/FC input: [200, 100]\n",
            "\u001b[32m[0805 22:57:17 @registry.py:134]\u001b[0m gen/LSTM/10/FC output: [200, 100]\n",
            "\u001b[32m[0805 22:57:17 @registry.py:126]\u001b[0m gen/LSTM/10/FC2 input: [200, 100]\n",
            "\u001b[32m[0805 22:57:17 @registry.py:134]\u001b[0m gen/LSTM/10/FC2 output: [200, 1]\n",
            "\u001b[32m[0805 22:57:17 @registry.py:126]\u001b[0m gen/LSTM/11/FC input: [200, 100]\n",
            "\u001b[32m[0805 22:57:17 @registry.py:134]\u001b[0m gen/LSTM/11/FC output: [200, 100]\n",
            "\u001b[32m[0805 22:57:17 @registry.py:126]\u001b[0m gen/LSTM/11/FC2 input: [200, 100]\n",
            "\u001b[32m[0805 22:57:17 @registry.py:134]\u001b[0m gen/LSTM/11/FC2 output: [200, 5]\n",
            "\u001b[32m[0805 22:57:17 @registry.py:126]\u001b[0m gen/LSTM/11/FC3 input: [200, 5]\n",
            "\u001b[32m[0805 22:57:17 @registry.py:134]\u001b[0m gen/LSTM/11/FC3 output: [200, 100]\n",
            "\u001b[32m[0805 22:57:17 @registry.py:126]\u001b[0m gen/LSTM/12/FC input: [200, 100]\n",
            "\u001b[32m[0805 22:57:17 @registry.py:134]\u001b[0m gen/LSTM/12/FC output: [200, 100]\n",
            "\u001b[32m[0805 22:57:17 @registry.py:126]\u001b[0m gen/LSTM/12/FC2 input: [200, 100]\n",
            "\u001b[32m[0805 22:57:17 @registry.py:134]\u001b[0m gen/LSTM/12/FC2 output: [200, 1]\n",
            "\u001b[32m[0805 22:57:17 @registry.py:126]\u001b[0m gen/LSTM/13/FC input: [200, 100]\n",
            "\u001b[32m[0805 22:57:17 @registry.py:134]\u001b[0m gen/LSTM/13/FC output: [200, 100]\n",
            "\u001b[32m[0805 22:57:17 @registry.py:126]\u001b[0m gen/LSTM/13/FC2 input: [200, 100]\n",
            "\u001b[32m[0805 22:57:17 @registry.py:134]\u001b[0m gen/LSTM/13/FC2 output: [200, 5]\n",
            "\u001b[32m[0805 22:57:17 @registry.py:126]\u001b[0m gen/LSTM/13/FC3 input: [200, 5]\n",
            "\u001b[32m[0805 22:57:17 @registry.py:134]\u001b[0m gen/LSTM/13/FC3 output: [200, 100]\n",
            "\u001b[32m[0805 22:57:17 @registry.py:126]\u001b[0m gen/LSTM/14/FC input: [200, 100]\n",
            "\u001b[32m[0805 22:57:17 @registry.py:134]\u001b[0m gen/LSTM/14/FC output: [200, 100]\n",
            "\u001b[32m[0805 22:57:17 @registry.py:126]\u001b[0m gen/LSTM/14/FC2 input: [200, 100]\n",
            "\u001b[32m[0805 22:57:17 @registry.py:134]\u001b[0m gen/LSTM/14/FC2 output: [200, 1]\n",
            "\u001b[32m[0805 22:57:17 @registry.py:126]\u001b[0m gen/LSTM/15/FC input: [200, 100]\n",
            "\u001b[32m[0805 22:57:17 @registry.py:134]\u001b[0m gen/LSTM/15/FC output: [200, 100]\n",
            "\u001b[32m[0805 22:57:17 @registry.py:126]\u001b[0m gen/LSTM/15/FC2 input: [200, 100]\n",
            "\u001b[32m[0805 22:57:17 @registry.py:134]\u001b[0m gen/LSTM/15/FC2 output: [200, 5]\n",
            "\u001b[32m[0805 22:57:17 @registry.py:126]\u001b[0m gen/LSTM/15/FC3 input: [200, 5]\n",
            "\u001b[32m[0805 22:57:17 @registry.py:134]\u001b[0m gen/LSTM/15/FC3 output: [200, 100]\n",
            "\u001b[32m[0805 22:57:17 @registry.py:126]\u001b[0m gen/LSTM/16/FC input: [200, 100]\n",
            "\u001b[32m[0805 22:57:17 @registry.py:134]\u001b[0m gen/LSTM/16/FC output: [200, 100]\n",
            "\u001b[32m[0805 22:57:17 @registry.py:126]\u001b[0m gen/LSTM/16/FC2 input: [200, 100]\n",
            "\u001b[32m[0805 22:57:18 @registry.py:134]\u001b[0m gen/LSTM/16/FC2 output: [200, 1]\n",
            "\u001b[32m[0805 22:57:18 @registry.py:126]\u001b[0m gen/LSTM/17/FC input: [200, 100]\n",
            "\u001b[32m[0805 22:57:18 @registry.py:134]\u001b[0m gen/LSTM/17/FC output: [200, 100]\n",
            "\u001b[32m[0805 22:57:18 @registry.py:126]\u001b[0m gen/LSTM/17/FC2 input: [200, 100]\n",
            "\u001b[32m[0805 22:57:18 @registry.py:134]\u001b[0m gen/LSTM/17/FC2 output: [200, 5]\n",
            "\u001b[32m[0805 22:57:18 @registry.py:126]\u001b[0m gen/LSTM/17/FC3 input: [200, 5]\n",
            "\u001b[32m[0805 22:57:18 @registry.py:134]\u001b[0m gen/LSTM/17/FC3 output: [200, 100]\n",
            "\u001b[32m[0805 22:57:18 @registry.py:126]\u001b[0m gen/LSTM/18/FC input: [200, 100]\n",
            "\u001b[32m[0805 22:57:18 @registry.py:134]\u001b[0m gen/LSTM/18/FC output: [200, 100]\n",
            "\u001b[32m[0805 22:57:18 @registry.py:126]\u001b[0m gen/LSTM/18/FC2 input: [200, 100]\n",
            "\u001b[32m[0805 22:57:18 @registry.py:134]\u001b[0m gen/LSTM/18/FC2 output: [200, 1]\n",
            "\u001b[32m[0805 22:57:18 @registry.py:126]\u001b[0m gen/LSTM/19/FC input: [200, 100]\n",
            "\u001b[32m[0805 22:57:18 @registry.py:134]\u001b[0m gen/LSTM/19/FC output: [200, 100]\n",
            "\u001b[32m[0805 22:57:18 @registry.py:126]\u001b[0m gen/LSTM/19/FC2 input: [200, 100]\n",
            "\u001b[32m[0805 22:57:18 @registry.py:134]\u001b[0m gen/LSTM/19/FC2 output: [200, 5]\n",
            "\u001b[32m[0805 22:57:18 @registry.py:126]\u001b[0m gen/LSTM/19/FC3 input: [200, 5]\n",
            "\u001b[32m[0805 22:57:18 @registry.py:134]\u001b[0m gen/LSTM/19/FC3 output: [200, 100]\n",
            "\u001b[32m[0805 22:57:18 @registry.py:126]\u001b[0m gen/LSTM/20/FC input: [200, 100]\n",
            "\u001b[32m[0805 22:57:18 @registry.py:134]\u001b[0m gen/LSTM/20/FC output: [200, 100]\n",
            "\u001b[32m[0805 22:57:18 @registry.py:126]\u001b[0m gen/LSTM/20/FC2 input: [200, 100]\n",
            "\u001b[32m[0805 22:57:18 @registry.py:134]\u001b[0m gen/LSTM/20/FC2 output: [200, 1]\n",
            "\u001b[32m[0805 22:57:18 @registry.py:126]\u001b[0m gen/LSTM/21/FC input: [200, 100]\n",
            "\u001b[32m[0805 22:57:18 @registry.py:134]\u001b[0m gen/LSTM/21/FC output: [200, 100]\n",
            "\u001b[32m[0805 22:57:18 @registry.py:126]\u001b[0m gen/LSTM/21/FC2 input: [200, 100]\n",
            "\u001b[32m[0805 22:57:18 @registry.py:134]\u001b[0m gen/LSTM/21/FC2 output: [200, 5]\n",
            "\u001b[32m[0805 22:57:18 @registry.py:126]\u001b[0m gen/LSTM/21/FC3 input: [200, 5]\n",
            "\u001b[32m[0805 22:57:18 @registry.py:134]\u001b[0m gen/LSTM/21/FC3 output: [200, 100]\n",
            "\u001b[32m[0805 22:57:18 @registry.py:126]\u001b[0m gen/LSTM/22/FC input: [200, 100]\n",
            "\u001b[32m[0805 22:57:18 @registry.py:134]\u001b[0m gen/LSTM/22/FC output: [200, 100]\n",
            "\u001b[32m[0805 22:57:18 @registry.py:126]\u001b[0m gen/LSTM/22/FC2 input: [200, 100]\n",
            "\u001b[32m[0805 22:57:18 @registry.py:134]\u001b[0m gen/LSTM/22/FC2 output: [200, 1]\n",
            "\u001b[32m[0805 22:57:18 @registry.py:126]\u001b[0m gen/LSTM/23/FC input: [200, 100]\n",
            "\u001b[32m[0805 22:57:18 @registry.py:134]\u001b[0m gen/LSTM/23/FC output: [200, 100]\n",
            "\u001b[32m[0805 22:57:18 @registry.py:126]\u001b[0m gen/LSTM/23/FC2 input: [200, 100]\n",
            "\u001b[32m[0805 22:57:18 @registry.py:134]\u001b[0m gen/LSTM/23/FC2 output: [200, 5]\n",
            "\u001b[32m[0805 22:57:18 @registry.py:126]\u001b[0m gen/LSTM/23/FC3 input: [200, 5]\n",
            "\u001b[32m[0805 22:57:18 @registry.py:134]\u001b[0m gen/LSTM/23/FC3 output: [200, 100]\n",
            "\u001b[32m[0805 22:57:18 @registry.py:126]\u001b[0m gen/LSTM/24/FC input: [200, 100]\n",
            "\u001b[32m[0805 22:57:18 @registry.py:134]\u001b[0m gen/LSTM/24/FC output: [200, 100]\n",
            "\u001b[32m[0805 22:57:18 @registry.py:126]\u001b[0m gen/LSTM/24/FC2 input: [200, 100]\n",
            "\u001b[32m[0805 22:57:18 @registry.py:134]\u001b[0m gen/LSTM/24/FC2 output: [200, 1]\n",
            "\u001b[32m[0805 22:57:19 @registry.py:126]\u001b[0m gen/LSTM/25/FC input: [200, 100]\n",
            "\u001b[32m[0805 22:57:19 @registry.py:134]\u001b[0m gen/LSTM/25/FC output: [200, 100]\n",
            "\u001b[32m[0805 22:57:19 @registry.py:126]\u001b[0m gen/LSTM/25/FC2 input: [200, 100]\n",
            "\u001b[32m[0805 22:57:19 @registry.py:134]\u001b[0m gen/LSTM/25/FC2 output: [200, 5]\n",
            "\u001b[32m[0805 22:57:19 @registry.py:126]\u001b[0m gen/LSTM/25/FC3 input: [200, 5]\n",
            "\u001b[32m[0805 22:57:19 @registry.py:134]\u001b[0m gen/LSTM/25/FC3 output: [200, 100]\n",
            "\u001b[32m[0805 22:57:19 @registry.py:126]\u001b[0m gen/LSTM/26/FC input: [200, 100]\n",
            "\u001b[32m[0805 22:57:19 @registry.py:134]\u001b[0m gen/LSTM/26/FC output: [200, 100]\n",
            "\u001b[32m[0805 22:57:19 @registry.py:126]\u001b[0m gen/LSTM/26/FC2 input: [200, 100]\n",
            "\u001b[32m[0805 22:57:19 @registry.py:134]\u001b[0m gen/LSTM/26/FC2 output: [200, 1]\n",
            "\u001b[32m[0805 22:57:19 @registry.py:126]\u001b[0m gen/LSTM/27/FC input: [200, 100]\n",
            "\u001b[32m[0805 22:57:19 @registry.py:134]\u001b[0m gen/LSTM/27/FC output: [200, 100]\n",
            "\u001b[32m[0805 22:57:19 @registry.py:126]\u001b[0m gen/LSTM/27/FC2 input: [200, 100]\n",
            "\u001b[32m[0805 22:57:19 @registry.py:134]\u001b[0m gen/LSTM/27/FC2 output: [200, 5]\n",
            "\u001b[32m[0805 22:57:19 @registry.py:126]\u001b[0m gen/LSTM/27/FC3 input: [200, 5]\n",
            "\u001b[32m[0805 22:57:19 @registry.py:134]\u001b[0m gen/LSTM/27/FC3 output: [200, 100]\n",
            "\u001b[32m[0805 22:57:19 @registry.py:126]\u001b[0m gen/LSTM/28/FC input: [200, 100]\n",
            "\u001b[32m[0805 22:57:19 @registry.py:134]\u001b[0m gen/LSTM/28/FC output: [200, 100]\n",
            "\u001b[32m[0805 22:57:19 @registry.py:126]\u001b[0m gen/LSTM/28/FC2 input: [200, 100]\n",
            "\u001b[32m[0805 22:57:19 @registry.py:134]\u001b[0m gen/LSTM/28/FC2 output: [200, 1]\n",
            "\u001b[32m[0805 22:57:19 @registry.py:126]\u001b[0m gen/LSTM/29/FC input: [200, 100]\n",
            "\u001b[32m[0805 22:57:19 @registry.py:134]\u001b[0m gen/LSTM/29/FC output: [200, 100]\n",
            "\u001b[32m[0805 22:57:19 @registry.py:126]\u001b[0m gen/LSTM/29/FC2 input: [200, 100]\n",
            "\u001b[32m[0805 22:57:19 @registry.py:134]\u001b[0m gen/LSTM/29/FC2 output: [200, 5]\n",
            "\u001b[32m[0805 22:57:19 @registry.py:126]\u001b[0m gen/LSTM/29/FC3 input: [200, 5]\n",
            "\u001b[32m[0805 22:57:19 @registry.py:134]\u001b[0m gen/LSTM/29/FC3 output: [200, 100]\n",
            "\u001b[32m[0805 22:57:19 @registry.py:126]\u001b[0m gen/LSTM/30/FC input: [200, 100]\n",
            "\u001b[32m[0805 22:57:19 @registry.py:134]\u001b[0m gen/LSTM/30/FC output: [200, 100]\n",
            "\u001b[32m[0805 22:57:19 @registry.py:126]\u001b[0m gen/LSTM/30/FC2 input: [200, 100]\n",
            "\u001b[32m[0805 22:57:19 @registry.py:134]\u001b[0m gen/LSTM/30/FC2 output: [200, 1]\n",
            "\u001b[32m[0805 22:57:19 @registry.py:126]\u001b[0m gen/LSTM/31/FC input: [200, 100]\n",
            "\u001b[32m[0805 22:57:19 @registry.py:134]\u001b[0m gen/LSTM/31/FC output: [200, 100]\n",
            "\u001b[32m[0805 22:57:19 @registry.py:126]\u001b[0m gen/LSTM/31/FC2 input: [200, 100]\n",
            "\u001b[32m[0805 22:57:19 @registry.py:134]\u001b[0m gen/LSTM/31/FC2 output: [200, 5]\n",
            "\u001b[32m[0805 22:57:19 @registry.py:126]\u001b[0m gen/LSTM/31/FC3 input: [200, 5]\n",
            "\u001b[32m[0805 22:57:19 @registry.py:134]\u001b[0m gen/LSTM/31/FC3 output: [200, 100]\n",
            "\u001b[32m[0805 22:57:19 @registry.py:126]\u001b[0m gen/LSTM/32/FC input: [200, 100]\n",
            "\u001b[32m[0805 22:57:19 @registry.py:134]\u001b[0m gen/LSTM/32/FC output: [200, 100]\n",
            "\u001b[32m[0805 22:57:19 @registry.py:126]\u001b[0m gen/LSTM/32/FC2 input: [200, 100]\n",
            "\u001b[32m[0805 22:57:19 @registry.py:134]\u001b[0m gen/LSTM/32/FC2 output: [200, 1]\n",
            "\u001b[32m[0805 22:57:20 @registry.py:126]\u001b[0m gen/LSTM/33/FC input: [200, 100]\n",
            "\u001b[32m[0805 22:57:20 @registry.py:134]\u001b[0m gen/LSTM/33/FC output: [200, 100]\n",
            "\u001b[32m[0805 22:57:20 @registry.py:126]\u001b[0m gen/LSTM/33/FC2 input: [200, 100]\n",
            "\u001b[32m[0805 22:57:20 @registry.py:134]\u001b[0m gen/LSTM/33/FC2 output: [200, 5]\n",
            "\u001b[32m[0805 22:57:20 @registry.py:126]\u001b[0m gen/LSTM/33/FC3 input: [200, 5]\n",
            "\u001b[32m[0805 22:57:20 @registry.py:134]\u001b[0m gen/LSTM/33/FC3 output: [200, 100]\n",
            "\u001b[32m[0805 22:57:20 @registry.py:126]\u001b[0m gen/LSTM/34/FC input: [200, 100]\n",
            "\u001b[32m[0805 22:57:20 @registry.py:134]\u001b[0m gen/LSTM/34/FC output: [200, 100]\n",
            "\u001b[32m[0805 22:57:20 @registry.py:126]\u001b[0m gen/LSTM/34/FC2 input: [200, 100]\n",
            "\u001b[32m[0805 22:57:20 @registry.py:134]\u001b[0m gen/LSTM/34/FC2 output: [200, 1]\n",
            "\u001b[32m[0805 22:57:20 @registry.py:126]\u001b[0m gen/LSTM/35/FC input: [200, 100]\n",
            "\u001b[32m[0805 22:57:20 @registry.py:134]\u001b[0m gen/LSTM/35/FC output: [200, 100]\n",
            "\u001b[32m[0805 22:57:20 @registry.py:126]\u001b[0m gen/LSTM/35/FC2 input: [200, 100]\n",
            "\u001b[32m[0805 22:57:20 @registry.py:134]\u001b[0m gen/LSTM/35/FC2 output: [200, 5]\n",
            "\u001b[32m[0805 22:57:20 @registry.py:126]\u001b[0m gen/LSTM/35/FC3 input: [200, 5]\n",
            "\u001b[32m[0805 22:57:20 @registry.py:134]\u001b[0m gen/LSTM/35/FC3 output: [200, 100]\n",
            "\u001b[32m[0805 22:57:20 @registry.py:126]\u001b[0m gen/LSTM/36/FC input: [200, 100]\n",
            "\u001b[32m[0805 22:57:20 @registry.py:134]\u001b[0m gen/LSTM/36/FC output: [200, 100]\n",
            "\u001b[32m[0805 22:57:20 @registry.py:126]\u001b[0m gen/LSTM/36/FC2 input: [200, 100]\n",
            "\u001b[32m[0805 22:57:20 @registry.py:134]\u001b[0m gen/LSTM/36/FC2 output: [200, 1]\n",
            "\u001b[32m[0805 22:57:20 @registry.py:126]\u001b[0m gen/LSTM/37/FC input: [200, 100]\n",
            "\u001b[32m[0805 22:57:20 @registry.py:134]\u001b[0m gen/LSTM/37/FC output: [200, 100]\n",
            "\u001b[32m[0805 22:57:20 @registry.py:126]\u001b[0m gen/LSTM/37/FC2 input: [200, 100]\n",
            "\u001b[32m[0805 22:57:20 @registry.py:134]\u001b[0m gen/LSTM/37/FC2 output: [200, 5]\n",
            "\u001b[32m[0805 22:57:20 @registry.py:126]\u001b[0m gen/LSTM/37/FC3 input: [200, 5]\n",
            "\u001b[32m[0805 22:57:20 @registry.py:134]\u001b[0m gen/LSTM/37/FC3 output: [200, 100]\n",
            "\u001b[32m[0805 22:57:20 @registry.py:126]\u001b[0m gen/LSTM/38/FC input: [200, 100]\n",
            "\u001b[32m[0805 22:57:20 @registry.py:134]\u001b[0m gen/LSTM/38/FC output: [200, 100]\n",
            "\u001b[32m[0805 22:57:20 @registry.py:126]\u001b[0m gen/LSTM/38/FC2 input: [200, 100]\n",
            "\u001b[32m[0805 22:57:20 @registry.py:134]\u001b[0m gen/LSTM/38/FC2 output: [200, 1]\n",
            "\u001b[32m[0805 22:57:20 @registry.py:126]\u001b[0m gen/LSTM/39/FC input: [200, 100]\n",
            "\u001b[32m[0805 22:57:20 @registry.py:134]\u001b[0m gen/LSTM/39/FC output: [200, 100]\n",
            "\u001b[32m[0805 22:57:20 @registry.py:126]\u001b[0m gen/LSTM/39/FC2 input: [200, 100]\n",
            "\u001b[32m[0805 22:57:20 @registry.py:134]\u001b[0m gen/LSTM/39/FC2 output: [200, 5]\n",
            "\u001b[32m[0805 22:57:20 @registry.py:126]\u001b[0m gen/LSTM/39/FC3 input: [200, 5]\n",
            "\u001b[32m[0805 22:57:20 @registry.py:134]\u001b[0m gen/LSTM/39/FC3 output: [200, 100]\n",
            "\u001b[32m[0805 22:57:20 @registry.py:126]\u001b[0m gen/LSTM/40/FC input: [200, 100]\n",
            "\u001b[32m[0805 22:57:20 @registry.py:134]\u001b[0m gen/LSTM/40/FC output: [200, 100]\n",
            "\u001b[32m[0805 22:57:20 @registry.py:126]\u001b[0m gen/LSTM/40/FC2 input: [200, 100]\n",
            "\u001b[32m[0805 22:57:20 @registry.py:134]\u001b[0m gen/LSTM/40/FC2 output: [200, 1]\n",
            "\u001b[32m[0805 22:57:20 @registry.py:126]\u001b[0m gen/LSTM/41/FC input: [200, 100]\n",
            "\u001b[32m[0805 22:57:20 @registry.py:134]\u001b[0m gen/LSTM/41/FC output: [200, 100]\n",
            "\u001b[32m[0805 22:57:20 @registry.py:126]\u001b[0m gen/LSTM/41/FC2 input: [200, 100]\n",
            "\u001b[32m[0805 22:57:20 @registry.py:134]\u001b[0m gen/LSTM/41/FC2 output: [200, 5]\n",
            "\u001b[32m[0805 22:57:20 @registry.py:126]\u001b[0m gen/LSTM/41/FC3 input: [200, 5]\n",
            "\u001b[32m[0805 22:57:21 @registry.py:134]\u001b[0m gen/LSTM/41/FC3 output: [200, 100]\n",
            "\u001b[32m[0805 22:57:21 @registry.py:126]\u001b[0m gen/LSTM/42/FC input: [200, 100]\n",
            "\u001b[32m[0805 22:57:21 @registry.py:134]\u001b[0m gen/LSTM/42/FC output: [200, 100]\n",
            "\u001b[32m[0805 22:57:21 @registry.py:126]\u001b[0m gen/LSTM/42/FC2 input: [200, 100]\n",
            "\u001b[32m[0805 22:57:21 @registry.py:134]\u001b[0m gen/LSTM/42/FC2 output: [200, 1]\n",
            "\u001b[32m[0805 22:57:21 @registry.py:126]\u001b[0m gen/LSTM/43/FC input: [200, 100]\n",
            "\u001b[32m[0805 22:57:21 @registry.py:134]\u001b[0m gen/LSTM/43/FC output: [200, 100]\n",
            "\u001b[32m[0805 22:57:21 @registry.py:126]\u001b[0m gen/LSTM/43/FC2 input: [200, 100]\n",
            "\u001b[32m[0805 22:57:21 @registry.py:134]\u001b[0m gen/LSTM/43/FC2 output: [200, 5]\n",
            "\u001b[32m[0805 22:57:21 @registry.py:126]\u001b[0m gen/LSTM/43/FC3 input: [200, 5]\n",
            "\u001b[32m[0805 22:57:21 @registry.py:134]\u001b[0m gen/LSTM/43/FC3 output: [200, 100]\n",
            "\u001b[32m[0805 22:57:21 @registry.py:126]\u001b[0m gen/LSTM/44/FC input: [200, 100]\n",
            "\u001b[32m[0805 22:57:21 @registry.py:134]\u001b[0m gen/LSTM/44/FC output: [200, 100]\n",
            "\u001b[32m[0805 22:57:21 @registry.py:126]\u001b[0m gen/LSTM/44/FC2 input: [200, 100]\n",
            "\u001b[32m[0805 22:57:21 @registry.py:134]\u001b[0m gen/LSTM/44/FC2 output: [200, 1]\n",
            "\u001b[32m[0805 22:57:21 @registry.py:126]\u001b[0m gen/LSTM/45/FC input: [200, 100]\n",
            "\u001b[32m[0805 22:57:21 @registry.py:134]\u001b[0m gen/LSTM/45/FC output: [200, 100]\n",
            "\u001b[32m[0805 22:57:21 @registry.py:126]\u001b[0m gen/LSTM/45/FC2 input: [200, 100]\n",
            "\u001b[32m[0805 22:57:21 @registry.py:134]\u001b[0m gen/LSTM/45/FC2 output: [200, 5]\n",
            "\u001b[32m[0805 22:57:21 @registry.py:126]\u001b[0m gen/LSTM/45/FC3 input: [200, 5]\n",
            "\u001b[32m[0805 22:57:21 @registry.py:134]\u001b[0m gen/LSTM/45/FC3 output: [200, 100]\n",
            "\u001b[32m[0805 22:57:21 @registry.py:126]\u001b[0m gen/LSTM/46/FC input: [200, 100]\n",
            "\u001b[32m[0805 22:57:21 @registry.py:134]\u001b[0m gen/LSTM/46/FC output: [200, 100]\n",
            "\u001b[32m[0805 22:57:21 @registry.py:126]\u001b[0m gen/LSTM/46/FC2 input: [200, 100]\n",
            "\u001b[32m[0805 22:57:21 @registry.py:134]\u001b[0m gen/LSTM/46/FC2 output: [200, 1]\n",
            "\u001b[32m[0805 22:57:21 @registry.py:126]\u001b[0m gen/LSTM/47/FC input: [200, 100]\n",
            "\u001b[32m[0805 22:57:21 @registry.py:134]\u001b[0m gen/LSTM/47/FC output: [200, 100]\n",
            "\u001b[32m[0805 22:57:21 @registry.py:126]\u001b[0m gen/LSTM/47/FC2 input: [200, 100]\n",
            "\u001b[32m[0805 22:57:21 @registry.py:134]\u001b[0m gen/LSTM/47/FC2 output: [200, 5]\n",
            "\u001b[32m[0805 22:57:21 @registry.py:126]\u001b[0m gen/LSTM/47/FC3 input: [200, 5]\n",
            "\u001b[32m[0805 22:57:21 @registry.py:134]\u001b[0m gen/LSTM/47/FC3 output: [200, 100]\n",
            "\u001b[32m[0805 22:57:21 @registry.py:126]\u001b[0m gen/LSTM/48/FC input: [200, 100]\n",
            "\u001b[32m[0805 22:57:21 @registry.py:134]\u001b[0m gen/LSTM/48/FC output: [200, 100]\n",
            "\u001b[32m[0805 22:57:21 @registry.py:126]\u001b[0m gen/LSTM/48/FC2 input: [200, 100]\n",
            "\u001b[32m[0805 22:57:21 @registry.py:134]\u001b[0m gen/LSTM/48/FC2 output: [200, 1]\n",
            "\u001b[32m[0805 22:57:21 @registry.py:126]\u001b[0m gen/LSTM/49/FC input: [200, 100]\n",
            "\u001b[32m[0805 22:57:22 @registry.py:134]\u001b[0m gen/LSTM/49/FC output: [200, 100]\n",
            "\u001b[32m[0805 22:57:22 @registry.py:126]\u001b[0m gen/LSTM/49/FC2 input: [200, 100]\n",
            "\u001b[32m[0805 22:57:22 @registry.py:134]\u001b[0m gen/LSTM/49/FC2 output: [200, 5]\n",
            "\u001b[32m[0805 22:57:22 @registry.py:126]\u001b[0m gen/LSTM/49/FC3 input: [200, 5]\n",
            "\u001b[32m[0805 22:57:22 @registry.py:134]\u001b[0m gen/LSTM/49/FC3 output: [200, 100]\n",
            "\u001b[32m[0805 22:57:22 @registry.py:126]\u001b[0m gen/LSTM/50/FC input: [200, 100]\n",
            "\u001b[32m[0805 22:57:22 @registry.py:134]\u001b[0m gen/LSTM/50/FC output: [200, 100]\n",
            "\u001b[32m[0805 22:57:22 @registry.py:126]\u001b[0m gen/LSTM/50/FC2 input: [200, 100]\n",
            "\u001b[32m[0805 22:57:22 @registry.py:134]\u001b[0m gen/LSTM/50/FC2 output: [200, 1]\n",
            "\u001b[32m[0805 22:57:22 @registry.py:126]\u001b[0m gen/LSTM/51/FC input: [200, 100]\n",
            "\u001b[32m[0805 22:57:22 @registry.py:134]\u001b[0m gen/LSTM/51/FC output: [200, 100]\n",
            "\u001b[32m[0805 22:57:22 @registry.py:126]\u001b[0m gen/LSTM/51/FC2 input: [200, 100]\n",
            "\u001b[32m[0805 22:57:22 @registry.py:134]\u001b[0m gen/LSTM/51/FC2 output: [200, 5]\n",
            "\u001b[32m[0805 22:57:22 @registry.py:126]\u001b[0m gen/LSTM/51/FC3 input: [200, 5]\n",
            "\u001b[32m[0805 22:57:22 @registry.py:134]\u001b[0m gen/LSTM/51/FC3 output: [200, 100]\n",
            "\u001b[32m[0805 22:57:22 @registry.py:126]\u001b[0m gen/LSTM/52/FC input: [200, 100]\n",
            "\u001b[32m[0805 22:57:22 @registry.py:134]\u001b[0m gen/LSTM/52/FC output: [200, 100]\n",
            "\u001b[32m[0805 22:57:22 @registry.py:126]\u001b[0m gen/LSTM/52/FC2 input: [200, 100]\n",
            "\u001b[32m[0805 22:57:22 @registry.py:134]\u001b[0m gen/LSTM/52/FC2 output: [200, 1]\n",
            "\u001b[32m[0805 22:57:22 @registry.py:126]\u001b[0m gen/LSTM/53/FC input: [200, 100]\n",
            "\u001b[32m[0805 22:57:22 @registry.py:134]\u001b[0m gen/LSTM/53/FC output: [200, 100]\n",
            "\u001b[32m[0805 22:57:22 @registry.py:126]\u001b[0m gen/LSTM/53/FC2 input: [200, 100]\n",
            "\u001b[32m[0805 22:57:22 @registry.py:134]\u001b[0m gen/LSTM/53/FC2 output: [200, 5]\n",
            "\u001b[32m[0805 22:57:22 @registry.py:126]\u001b[0m gen/LSTM/53/FC3 input: [200, 5]\n",
            "\u001b[32m[0805 22:57:22 @registry.py:134]\u001b[0m gen/LSTM/53/FC3 output: [200, 100]\n",
            "\u001b[32m[0805 22:57:22 @registry.py:126]\u001b[0m gen/LSTM/54/FC input: [200, 100]\n",
            "\u001b[32m[0805 22:57:22 @registry.py:134]\u001b[0m gen/LSTM/54/FC output: [200, 100]\n",
            "\u001b[32m[0805 22:57:22 @registry.py:126]\u001b[0m gen/LSTM/54/FC2 input: [200, 100]\n",
            "\u001b[32m[0805 22:57:22 @registry.py:134]\u001b[0m gen/LSTM/54/FC2 output: [200, 1]\n",
            "\u001b[32m[0805 22:57:22 @registry.py:126]\u001b[0m gen/LSTM/55/FC input: [200, 100]\n",
            "\u001b[32m[0805 22:57:22 @registry.py:134]\u001b[0m gen/LSTM/55/FC output: [200, 100]\n",
            "\u001b[32m[0805 22:57:22 @registry.py:126]\u001b[0m gen/LSTM/55/FC2 input: [200, 100]\n",
            "\u001b[32m[0805 22:57:23 @registry.py:134]\u001b[0m gen/LSTM/55/FC2 output: [200, 5]\n",
            "\u001b[32m[0805 22:57:23 @registry.py:126]\u001b[0m gen/LSTM/55/FC3 input: [200, 5]\n",
            "\u001b[32m[0805 22:57:23 @registry.py:134]\u001b[0m gen/LSTM/55/FC3 output: [200, 100]\n",
            "\u001b[32m[0805 22:57:23 @registry.py:126]\u001b[0m gen/LSTM/56/FC input: [200, 100]\n",
            "\u001b[32m[0805 22:57:23 @registry.py:134]\u001b[0m gen/LSTM/56/FC output: [200, 100]\n",
            "\u001b[32m[0805 22:57:23 @registry.py:126]\u001b[0m gen/LSTM/56/FC2 input: [200, 100]\n",
            "\u001b[32m[0805 22:57:23 @registry.py:134]\u001b[0m gen/LSTM/56/FC2 output: [200, 1]\n",
            "\u001b[32m[0805 22:57:23 @registry.py:126]\u001b[0m gen/LSTM/57/FC input: [200, 100]\n",
            "\u001b[32m[0805 22:57:23 @registry.py:134]\u001b[0m gen/LSTM/57/FC output: [200, 100]\n",
            "\u001b[32m[0805 22:57:23 @registry.py:126]\u001b[0m gen/LSTM/57/FC2 input: [200, 100]\n",
            "\u001b[32m[0805 22:57:23 @registry.py:134]\u001b[0m gen/LSTM/57/FC2 output: [200, 5]\n",
            "\u001b[32m[0805 22:57:23 @registry.py:126]\u001b[0m gen/LSTM/57/FC3 input: [200, 5]\n",
            "\u001b[32m[0805 22:57:23 @registry.py:134]\u001b[0m gen/LSTM/57/FC3 output: [200, 100]\n",
            "\u001b[32m[0805 22:57:23 @registry.py:126]\u001b[0m gen/LSTM/58/FC input: [200, 100]\n",
            "\u001b[32m[0805 22:57:23 @registry.py:134]\u001b[0m gen/LSTM/58/FC output: [200, 100]\n",
            "\u001b[32m[0805 22:57:23 @registry.py:126]\u001b[0m gen/LSTM/58/FC2 input: [200, 100]\n",
            "\u001b[32m[0805 22:57:23 @registry.py:134]\u001b[0m gen/LSTM/58/FC2 output: [200, 1]\n",
            "\u001b[32m[0805 22:57:23 @registry.py:126]\u001b[0m gen/LSTM/59/FC input: [200, 100]\n",
            "\u001b[32m[0805 22:57:23 @registry.py:134]\u001b[0m gen/LSTM/59/FC output: [200, 100]\n",
            "\u001b[32m[0805 22:57:23 @registry.py:126]\u001b[0m gen/LSTM/59/FC2 input: [200, 100]\n",
            "\u001b[32m[0805 22:57:23 @registry.py:134]\u001b[0m gen/LSTM/59/FC2 output: [200, 5]\n",
            "\u001b[32m[0805 22:57:23 @registry.py:126]\u001b[0m gen/LSTM/59/FC3 input: [200, 5]\n",
            "\u001b[32m[0805 22:57:23 @registry.py:134]\u001b[0m gen/LSTM/59/FC3 output: [200, 100]\n",
            "\u001b[32m[0805 22:57:23 @registry.py:126]\u001b[0m gen/LSTM/60/FC input: [200, 100]\n",
            "\u001b[32m[0805 22:57:23 @registry.py:134]\u001b[0m gen/LSTM/60/FC output: [200, 100]\n",
            "\u001b[32m[0805 22:57:23 @registry.py:126]\u001b[0m gen/LSTM/60/FC2 input: [200, 100]\n",
            "\u001b[32m[0805 22:57:23 @registry.py:134]\u001b[0m gen/LSTM/60/FC2 output: [200, 1]\n",
            "\u001b[32m[0805 22:57:23 @registry.py:126]\u001b[0m gen/LSTM/61/FC input: [200, 100]\n",
            "\u001b[32m[0805 22:57:23 @registry.py:134]\u001b[0m gen/LSTM/61/FC output: [200, 100]\n",
            "\u001b[32m[0805 22:57:23 @registry.py:126]\u001b[0m gen/LSTM/61/FC2 input: [200, 100]\n",
            "\u001b[32m[0805 22:57:23 @registry.py:134]\u001b[0m gen/LSTM/61/FC2 output: [200, 5]\n",
            "\u001b[32m[0805 22:57:23 @registry.py:126]\u001b[0m gen/LSTM/61/FC3 input: [200, 5]\n",
            "\u001b[32m[0805 22:57:23 @registry.py:134]\u001b[0m gen/LSTM/61/FC3 output: [200, 100]\n",
            "\u001b[32m[0805 22:57:23 @registry.py:126]\u001b[0m gen/LSTM/62/FC input: [200, 100]\n",
            "\u001b[32m[0805 22:57:23 @registry.py:134]\u001b[0m gen/LSTM/62/FC output: [200, 100]\n",
            "\u001b[32m[0805 22:57:23 @registry.py:126]\u001b[0m gen/LSTM/62/FC2 input: [200, 100]\n",
            "\u001b[32m[0805 22:57:23 @registry.py:134]\u001b[0m gen/LSTM/62/FC2 output: [200, 1]\n",
            "\u001b[32m[0805 22:57:23 @registry.py:126]\u001b[0m gen/LSTM/63/FC input: [200, 100]\n",
            "\u001b[32m[0805 22:57:23 @registry.py:134]\u001b[0m gen/LSTM/63/FC output: [200, 100]\n",
            "\u001b[32m[0805 22:57:24 @registry.py:126]\u001b[0m gen/LSTM/63/FC2 input: [200, 100]\n",
            "\u001b[32m[0805 22:57:24 @registry.py:134]\u001b[0m gen/LSTM/63/FC2 output: [200, 5]\n",
            "\u001b[32m[0805 22:57:24 @registry.py:126]\u001b[0m gen/LSTM/63/FC3 input: [200, 5]\n",
            "\u001b[32m[0805 22:57:24 @registry.py:134]\u001b[0m gen/LSTM/63/FC3 output: [200, 100]\n",
            "\u001b[32m[0805 22:57:24 @registry.py:126]\u001b[0m gen/LSTM/64/FC input: [200, 100]\n",
            "\u001b[32m[0805 22:57:24 @registry.py:134]\u001b[0m gen/LSTM/64/FC output: [200, 100]\n",
            "\u001b[32m[0805 22:57:24 @registry.py:126]\u001b[0m gen/LSTM/64/FC2 input: [200, 100]\n",
            "\u001b[32m[0805 22:57:24 @registry.py:134]\u001b[0m gen/LSTM/64/FC2 output: [200, 1]\n",
            "\u001b[32m[0805 22:57:24 @registry.py:126]\u001b[0m gen/LSTM/65/FC input: [200, 100]\n",
            "\u001b[32m[0805 22:57:24 @registry.py:134]\u001b[0m gen/LSTM/65/FC output: [200, 100]\n",
            "\u001b[32m[0805 22:57:24 @registry.py:126]\u001b[0m gen/LSTM/65/FC2 input: [200, 100]\n",
            "\u001b[32m[0805 22:57:24 @registry.py:134]\u001b[0m gen/LSTM/65/FC2 output: [200, 5]\n",
            "\u001b[32m[0805 22:57:24 @registry.py:126]\u001b[0m gen/LSTM/65/FC3 input: [200, 5]\n",
            "\u001b[32m[0805 22:57:24 @registry.py:134]\u001b[0m gen/LSTM/65/FC3 output: [200, 100]\n",
            "\u001b[32m[0805 22:57:24 @registry.py:126]\u001b[0m gen/LSTM/66/FC input: [200, 100]\n",
            "\u001b[32m[0805 22:57:24 @registry.py:134]\u001b[0m gen/LSTM/66/FC output: [200, 100]\n",
            "\u001b[32m[0805 22:57:24 @registry.py:126]\u001b[0m gen/LSTM/66/FC2 input: [200, 100]\n",
            "\u001b[32m[0805 22:57:24 @registry.py:134]\u001b[0m gen/LSTM/66/FC2 output: [200, 1]\n",
            "\u001b[32m[0805 22:57:24 @registry.py:126]\u001b[0m gen/LSTM/67/FC input: [200, 100]\n",
            "\u001b[32m[0805 22:57:24 @registry.py:134]\u001b[0m gen/LSTM/67/FC output: [200, 100]\n",
            "\u001b[32m[0805 22:57:24 @registry.py:126]\u001b[0m gen/LSTM/67/FC2 input: [200, 100]\n",
            "\u001b[32m[0805 22:57:24 @registry.py:134]\u001b[0m gen/LSTM/67/FC2 output: [200, 5]\n",
            "\u001b[32m[0805 22:57:24 @registry.py:126]\u001b[0m gen/LSTM/67/FC3 input: [200, 5]\n",
            "\u001b[32m[0805 22:57:24 @registry.py:134]\u001b[0m gen/LSTM/67/FC3 output: [200, 100]\n",
            "\u001b[32m[0805 22:57:24 @registry.py:126]\u001b[0m gen/LSTM/68/FC input: [200, 100]\n",
            "\u001b[32m[0805 22:57:24 @registry.py:134]\u001b[0m gen/LSTM/68/FC output: [200, 100]\n",
            "\u001b[32m[0805 22:57:24 @registry.py:126]\u001b[0m gen/LSTM/68/FC2 input: [200, 100]\n",
            "\u001b[32m[0805 22:57:24 @registry.py:134]\u001b[0m gen/LSTM/68/FC2 output: [200, 1]\n",
            "\u001b[32m[0805 22:57:24 @registry.py:126]\u001b[0m gen/LSTM/69/FC input: [200, 100]\n",
            "\u001b[32m[0805 22:57:24 @registry.py:134]\u001b[0m gen/LSTM/69/FC output: [200, 100]\n",
            "\u001b[32m[0805 22:57:24 @registry.py:126]\u001b[0m gen/LSTM/69/FC2 input: [200, 100]\n",
            "\u001b[32m[0805 22:57:24 @registry.py:134]\u001b[0m gen/LSTM/69/FC2 output: [200, 5]\n",
            "\u001b[32m[0805 22:57:24 @registry.py:126]\u001b[0m gen/LSTM/69/FC3 input: [200, 5]\n",
            "\u001b[32m[0805 22:57:24 @registry.py:134]\u001b[0m gen/LSTM/69/FC3 output: [200, 100]\n",
            "\u001b[32m[0805 22:57:24 @registry.py:126]\u001b[0m gen/LSTM/70/FC input: [200, 100]\n",
            "\u001b[32m[0805 22:57:24 @registry.py:134]\u001b[0m gen/LSTM/70/FC output: [200, 100]\n",
            "\u001b[32m[0805 22:57:24 @registry.py:126]\u001b[0m gen/LSTM/70/FC2 input: [200, 100]\n",
            "\u001b[32m[0805 22:57:24 @registry.py:134]\u001b[0m gen/LSTM/70/FC2 output: [200, 1]\n",
            "\u001b[32m[0805 22:57:24 @registry.py:126]\u001b[0m gen/LSTM/71/FC input: [200, 100]\n",
            "\u001b[32m[0805 22:57:25 @registry.py:134]\u001b[0m gen/LSTM/71/FC output: [200, 100]\n",
            "\u001b[32m[0805 22:57:25 @registry.py:126]\u001b[0m gen/LSTM/71/FC2 input: [200, 100]\n",
            "\u001b[32m[0805 22:57:25 @registry.py:134]\u001b[0m gen/LSTM/71/FC2 output: [200, 5]\n",
            "\u001b[32m[0805 22:57:25 @registry.py:126]\u001b[0m gen/LSTM/71/FC3 input: [200, 5]\n",
            "\u001b[32m[0805 22:57:25 @registry.py:134]\u001b[0m gen/LSTM/71/FC3 output: [200, 100]\n",
            "\u001b[32m[0805 22:57:25 @registry.py:126]\u001b[0m gen/LSTM/72/FC input: [200, 100]\n",
            "\u001b[32m[0805 22:57:25 @registry.py:134]\u001b[0m gen/LSTM/72/FC output: [200, 100]\n",
            "\u001b[32m[0805 22:57:25 @registry.py:126]\u001b[0m gen/LSTM/72/FC2 input: [200, 100]\n",
            "\u001b[32m[0805 22:57:25 @registry.py:134]\u001b[0m gen/LSTM/72/FC2 output: [200, 1]\n",
            "\u001b[32m[0805 22:57:25 @registry.py:126]\u001b[0m gen/LSTM/73/FC input: [200, 100]\n",
            "\u001b[32m[0805 22:57:25 @registry.py:134]\u001b[0m gen/LSTM/73/FC output: [200, 100]\n",
            "\u001b[32m[0805 22:57:25 @registry.py:126]\u001b[0m gen/LSTM/73/FC2 input: [200, 100]\n",
            "\u001b[32m[0805 22:57:25 @registry.py:134]\u001b[0m gen/LSTM/73/FC2 output: [200, 5]\n",
            "\u001b[32m[0805 22:57:25 @registry.py:126]\u001b[0m gen/LSTM/73/FC3 input: [200, 5]\n",
            "\u001b[32m[0805 22:57:25 @registry.py:134]\u001b[0m gen/LSTM/73/FC3 output: [200, 100]\n",
            "\u001b[32m[0805 22:57:25 @registry.py:126]\u001b[0m gen/LSTM/74/FC input: [200, 100]\n",
            "\u001b[32m[0805 22:57:25 @registry.py:134]\u001b[0m gen/LSTM/74/FC output: [200, 100]\n",
            "\u001b[32m[0805 22:57:25 @registry.py:126]\u001b[0m gen/LSTM/74/FC2 input: [200, 100]\n",
            "\u001b[32m[0805 22:57:25 @registry.py:134]\u001b[0m gen/LSTM/74/FC2 output: [200, 1]\n",
            "\u001b[32m[0805 22:57:25 @registry.py:126]\u001b[0m gen/LSTM/75/FC input: [200, 100]\n",
            "\u001b[32m[0805 22:57:25 @registry.py:134]\u001b[0m gen/LSTM/75/FC output: [200, 100]\n",
            "\u001b[32m[0805 22:57:25 @registry.py:126]\u001b[0m gen/LSTM/75/FC2 input: [200, 100]\n",
            "\u001b[32m[0805 22:57:25 @registry.py:134]\u001b[0m gen/LSTM/75/FC2 output: [200, 5]\n",
            "\u001b[32m[0805 22:57:25 @registry.py:126]\u001b[0m gen/LSTM/75/FC3 input: [200, 5]\n",
            "\u001b[32m[0805 22:57:25 @registry.py:134]\u001b[0m gen/LSTM/75/FC3 output: [200, 100]\n",
            "\u001b[32m[0805 22:57:25 @registry.py:126]\u001b[0m gen/LSTM/76/FC input: [200, 100]\n",
            "\u001b[32m[0805 22:57:25 @registry.py:134]\u001b[0m gen/LSTM/76/FC output: [200, 100]\n",
            "\u001b[32m[0805 22:57:25 @registry.py:126]\u001b[0m gen/LSTM/76/FC2 input: [200, 100]\n",
            "\u001b[32m[0805 22:57:25 @registry.py:134]\u001b[0m gen/LSTM/76/FC2 output: [200, 1]\n",
            "\u001b[32m[0805 22:57:25 @registry.py:126]\u001b[0m gen/LSTM/77/FC input: [200, 100]\n",
            "\u001b[32m[0805 22:57:25 @registry.py:134]\u001b[0m gen/LSTM/77/FC output: [200, 100]\n",
            "\u001b[32m[0805 22:57:25 @registry.py:126]\u001b[0m gen/LSTM/77/FC2 input: [200, 100]\n",
            "\u001b[32m[0805 22:57:25 @registry.py:134]\u001b[0m gen/LSTM/77/FC2 output: [200, 5]\n",
            "\u001b[32m[0805 22:57:25 @registry.py:126]\u001b[0m gen/LSTM/77/FC3 input: [200, 5]\n",
            "\u001b[32m[0805 22:57:25 @registry.py:134]\u001b[0m gen/LSTM/77/FC3 output: [200, 100]\n",
            "\u001b[32m[0805 22:57:25 @registry.py:126]\u001b[0m gen/LSTM/78/FC input: [200, 100]\n",
            "\u001b[32m[0805 22:57:25 @registry.py:134]\u001b[0m gen/LSTM/78/FC output: [200, 100]\n",
            "\u001b[32m[0805 22:57:25 @registry.py:126]\u001b[0m gen/LSTM/78/FC2 input: [200, 100]\n",
            "\u001b[32m[0805 22:57:25 @registry.py:134]\u001b[0m gen/LSTM/78/FC2 output: [200, 1]\n",
            "\u001b[32m[0805 22:57:26 @registry.py:126]\u001b[0m gen/LSTM/79/FC input: [200, 100]\n",
            "\u001b[32m[0805 22:57:26 @registry.py:134]\u001b[0m gen/LSTM/79/FC output: [200, 100]\n",
            "\u001b[32m[0805 22:57:26 @registry.py:126]\u001b[0m gen/LSTM/79/FC2 input: [200, 100]\n",
            "\u001b[32m[0805 22:57:26 @registry.py:134]\u001b[0m gen/LSTM/79/FC2 output: [200, 5]\n",
            "\u001b[32m[0805 22:57:26 @registry.py:126]\u001b[0m gen/LSTM/79/FC3 input: [200, 5]\n",
            "\u001b[32m[0805 22:57:26 @registry.py:134]\u001b[0m gen/LSTM/79/FC3 output: [200, 100]\n",
            "\u001b[32m[0805 22:57:26 @registry.py:126]\u001b[0m gen/LSTM/80/FC input: [200, 100]\n",
            "\u001b[32m[0805 22:57:26 @registry.py:134]\u001b[0m gen/LSTM/80/FC output: [200, 100]\n",
            "\u001b[32m[0805 22:57:26 @registry.py:126]\u001b[0m gen/LSTM/80/FC2 input: [200, 100]\n",
            "\u001b[32m[0805 22:57:26 @registry.py:134]\u001b[0m gen/LSTM/80/FC2 output: [200, 1]\n",
            "\u001b[32m[0805 22:57:26 @registry.py:126]\u001b[0m gen/LSTM/81/FC input: [200, 100]\n",
            "\u001b[32m[0805 22:57:26 @registry.py:134]\u001b[0m gen/LSTM/81/FC output: [200, 100]\n",
            "\u001b[32m[0805 22:57:26 @registry.py:126]\u001b[0m gen/LSTM/81/FC2 input: [200, 100]\n",
            "\u001b[32m[0805 22:57:26 @registry.py:134]\u001b[0m gen/LSTM/81/FC2 output: [200, 5]\n",
            "\u001b[32m[0805 22:57:26 @registry.py:126]\u001b[0m gen/LSTM/81/FC3 input: [200, 5]\n",
            "\u001b[32m[0805 22:57:26 @registry.py:134]\u001b[0m gen/LSTM/81/FC3 output: [200, 100]\n",
            "\u001b[32m[0805 22:57:26 @registry.py:126]\u001b[0m gen/LSTM/82/FC input: [200, 100]\n",
            "\u001b[32m[0805 22:57:26 @registry.py:134]\u001b[0m gen/LSTM/82/FC output: [200, 100]\n",
            "\u001b[32m[0805 22:57:26 @registry.py:126]\u001b[0m gen/LSTM/82/FC2 input: [200, 100]\n",
            "\u001b[32m[0805 22:57:26 @registry.py:134]\u001b[0m gen/LSTM/82/FC2 output: [200, 1]\n",
            "\u001b[32m[0805 22:57:26 @registry.py:126]\u001b[0m gen/LSTM/83/FC input: [200, 100]\n",
            "\u001b[32m[0805 22:57:26 @registry.py:134]\u001b[0m gen/LSTM/83/FC output: [200, 100]\n",
            "\u001b[32m[0805 22:57:26 @registry.py:126]\u001b[0m gen/LSTM/83/FC2 input: [200, 100]\n",
            "\u001b[32m[0805 22:57:26 @registry.py:134]\u001b[0m gen/LSTM/83/FC2 output: [200, 5]\n",
            "\u001b[32m[0805 22:57:26 @registry.py:126]\u001b[0m gen/LSTM/83/FC3 input: [200, 5]\n",
            "\u001b[32m[0805 22:57:26 @registry.py:134]\u001b[0m gen/LSTM/83/FC3 output: [200, 100]\n",
            "\u001b[32m[0805 22:57:26 @registry.py:126]\u001b[0m gen/LSTM/84/FC input: [200, 100]\n",
            "\u001b[32m[0805 22:57:26 @registry.py:134]\u001b[0m gen/LSTM/84/FC output: [200, 100]\n",
            "\u001b[32m[0805 22:57:26 @registry.py:126]\u001b[0m gen/LSTM/84/FC2 input: [200, 100]\n",
            "\u001b[32m[0805 22:57:26 @registry.py:134]\u001b[0m gen/LSTM/84/FC2 output: [200, 1]\n",
            "\u001b[32m[0805 22:57:26 @registry.py:126]\u001b[0m gen/LSTM/85/FC input: [200, 100]\n",
            "\u001b[32m[0805 22:57:26 @registry.py:134]\u001b[0m gen/LSTM/85/FC output: [200, 100]\n",
            "\u001b[32m[0805 22:57:26 @registry.py:126]\u001b[0m gen/LSTM/85/FC2 input: [200, 100]\n",
            "\u001b[32m[0805 22:57:26 @registry.py:134]\u001b[0m gen/LSTM/85/FC2 output: [200, 5]\n",
            "\u001b[32m[0805 22:57:26 @registry.py:126]\u001b[0m gen/LSTM/85/FC3 input: [200, 5]\n",
            "\u001b[32m[0805 22:57:26 @registry.py:134]\u001b[0m gen/LSTM/85/FC3 output: [200, 100]\n",
            "\u001b[32m[0805 22:57:26 @registry.py:126]\u001b[0m gen/LSTM/86/FC input: [200, 100]\n",
            "\u001b[32m[0805 22:57:27 @registry.py:134]\u001b[0m gen/LSTM/86/FC output: [200, 100]\n",
            "\u001b[32m[0805 22:57:27 @registry.py:126]\u001b[0m gen/LSTM/86/FC2 input: [200, 100]\n",
            "\u001b[32m[0805 22:57:27 @registry.py:134]\u001b[0m gen/LSTM/86/FC2 output: [200, 1]\n",
            "\u001b[32m[0805 22:57:27 @registry.py:126]\u001b[0m gen/LSTM/87/FC input: [200, 100]\n",
            "\u001b[32m[0805 22:57:27 @registry.py:134]\u001b[0m gen/LSTM/87/FC output: [200, 100]\n",
            "\u001b[32m[0805 22:57:27 @registry.py:126]\u001b[0m gen/LSTM/87/FC2 input: [200, 100]\n",
            "\u001b[32m[0805 22:57:27 @registry.py:134]\u001b[0m gen/LSTM/87/FC2 output: [200, 5]\n",
            "\u001b[32m[0805 22:57:27 @registry.py:126]\u001b[0m gen/LSTM/87/FC3 input: [200, 5]\n",
            "\u001b[32m[0805 22:57:27 @registry.py:134]\u001b[0m gen/LSTM/87/FC3 output: [200, 100]\n",
            "\u001b[32m[0805 22:57:27 @registry.py:126]\u001b[0m gen/LSTM/88/FC input: [200, 100]\n",
            "\u001b[32m[0805 22:57:27 @registry.py:134]\u001b[0m gen/LSTM/88/FC output: [200, 100]\n",
            "\u001b[32m[0805 22:57:27 @registry.py:126]\u001b[0m gen/LSTM/88/FC2 input: [200, 100]\n",
            "\u001b[32m[0805 22:57:27 @registry.py:134]\u001b[0m gen/LSTM/88/FC2 output: [200, 1]\n",
            "\u001b[32m[0805 22:57:27 @registry.py:126]\u001b[0m gen/LSTM/89/FC input: [200, 100]\n",
            "\u001b[32m[0805 22:57:27 @registry.py:134]\u001b[0m gen/LSTM/89/FC output: [200, 100]\n",
            "\u001b[32m[0805 22:57:27 @registry.py:126]\u001b[0m gen/LSTM/89/FC2 input: [200, 100]\n",
            "\u001b[32m[0805 22:57:27 @registry.py:134]\u001b[0m gen/LSTM/89/FC2 output: [200, 5]\n",
            "\u001b[32m[0805 22:57:27 @registry.py:126]\u001b[0m gen/LSTM/89/FC3 input: [200, 5]\n",
            "\u001b[32m[0805 22:57:27 @registry.py:134]\u001b[0m gen/LSTM/89/FC3 output: [200, 100]\n",
            "\u001b[32m[0805 22:57:27 @registry.py:126]\u001b[0m gen/LSTM/90/FC input: [200, 100]\n",
            "\u001b[32m[0805 22:57:27 @registry.py:134]\u001b[0m gen/LSTM/90/FC output: [200, 100]\n",
            "\u001b[32m[0805 22:57:27 @registry.py:126]\u001b[0m gen/LSTM/90/FC2 input: [200, 100]\n",
            "\u001b[32m[0805 22:57:27 @registry.py:134]\u001b[0m gen/LSTM/90/FC2 output: [200, 1]\n",
            "\u001b[32m[0805 22:57:27 @registry.py:126]\u001b[0m gen/LSTM/91/FC input: [200, 100]\n",
            "\u001b[32m[0805 22:57:27 @registry.py:134]\u001b[0m gen/LSTM/91/FC output: [200, 100]\n",
            "\u001b[32m[0805 22:57:27 @registry.py:126]\u001b[0m gen/LSTM/91/FC2 input: [200, 100]\n",
            "\u001b[32m[0805 22:57:27 @registry.py:134]\u001b[0m gen/LSTM/91/FC2 output: [200, 5]\n",
            "\u001b[32m[0805 22:57:27 @registry.py:126]\u001b[0m gen/LSTM/91/FC3 input: [200, 5]\n",
            "\u001b[32m[0805 22:57:27 @registry.py:134]\u001b[0m gen/LSTM/91/FC3 output: [200, 100]\n",
            "\u001b[32m[0805 22:57:27 @registry.py:126]\u001b[0m gen/LSTM/92/FC input: [200, 100]\n",
            "\u001b[32m[0805 22:57:27 @registry.py:134]\u001b[0m gen/LSTM/92/FC output: [200, 100]\n",
            "\u001b[32m[0805 22:57:27 @registry.py:126]\u001b[0m gen/LSTM/92/FC2 input: [200, 100]\n",
            "\u001b[32m[0805 22:57:27 @registry.py:134]\u001b[0m gen/LSTM/92/FC2 output: [200, 1]\n",
            "\u001b[32m[0805 22:57:27 @registry.py:126]\u001b[0m gen/LSTM/93/FC input: [200, 100]\n",
            "\u001b[32m[0805 22:57:27 @registry.py:134]\u001b[0m gen/LSTM/93/FC output: [200, 100]\n",
            "\u001b[32m[0805 22:57:27 @registry.py:126]\u001b[0m gen/LSTM/93/FC2 input: [200, 100]\n",
            "\u001b[32m[0805 22:57:27 @registry.py:134]\u001b[0m gen/LSTM/93/FC2 output: [200, 5]\n",
            "\u001b[32m[0805 22:57:27 @registry.py:126]\u001b[0m gen/LSTM/93/FC3 input: [200, 5]\n",
            "\u001b[32m[0805 22:57:28 @registry.py:134]\u001b[0m gen/LSTM/93/FC3 output: [200, 100]\n",
            "\u001b[32m[0805 22:57:28 @registry.py:126]\u001b[0m gen/LSTM/94/FC input: [200, 100]\n",
            "\u001b[32m[0805 22:57:28 @registry.py:134]\u001b[0m gen/LSTM/94/FC output: [200, 100]\n",
            "\u001b[32m[0805 22:57:28 @registry.py:126]\u001b[0m gen/LSTM/94/FC2 input: [200, 100]\n",
            "\u001b[32m[0805 22:57:28 @registry.py:134]\u001b[0m gen/LSTM/94/FC2 output: [200, 1]\n",
            "\u001b[32m[0805 22:57:28 @registry.py:126]\u001b[0m gen/LSTM/95/FC input: [200, 100]\n",
            "\u001b[32m[0805 22:57:28 @registry.py:134]\u001b[0m gen/LSTM/95/FC output: [200, 100]\n",
            "\u001b[32m[0805 22:57:28 @registry.py:126]\u001b[0m gen/LSTM/95/FC2 input: [200, 100]\n",
            "\u001b[32m[0805 22:57:28 @registry.py:134]\u001b[0m gen/LSTM/95/FC2 output: [200, 5]\n",
            "\u001b[32m[0805 22:57:28 @registry.py:126]\u001b[0m gen/LSTM/95/FC3 input: [200, 5]\n",
            "\u001b[32m[0805 22:57:28 @registry.py:134]\u001b[0m gen/LSTM/95/FC3 output: [200, 100]\n",
            "\u001b[32m[0805 22:57:28 @registry.py:126]\u001b[0m gen/LSTM/96/FC input: [200, 100]\n",
            "\u001b[32m[0805 22:57:28 @registry.py:134]\u001b[0m gen/LSTM/96/FC output: [200, 100]\n",
            "\u001b[32m[0805 22:57:28 @registry.py:126]\u001b[0m gen/LSTM/96/FC2 input: [200, 100]\n",
            "\u001b[32m[0805 22:57:28 @registry.py:134]\u001b[0m gen/LSTM/96/FC2 output: [200, 1]\n",
            "\u001b[32m[0805 22:57:28 @registry.py:126]\u001b[0m gen/LSTM/97/FC input: [200, 100]\n",
            "\u001b[32m[0805 22:57:28 @registry.py:134]\u001b[0m gen/LSTM/97/FC output: [200, 100]\n",
            "\u001b[32m[0805 22:57:28 @registry.py:126]\u001b[0m gen/LSTM/97/FC2 input: [200, 100]\n",
            "\u001b[32m[0805 22:57:28 @registry.py:134]\u001b[0m gen/LSTM/97/FC2 output: [200, 5]\n",
            "\u001b[32m[0805 22:57:28 @registry.py:126]\u001b[0m gen/LSTM/97/FC3 input: [200, 5]\n",
            "\u001b[32m[0805 22:57:28 @registry.py:134]\u001b[0m gen/LSTM/97/FC3 output: [200, 100]\n",
            "\u001b[32m[0805 22:57:28 @registry.py:126]\u001b[0m gen/LSTM/98/FC input: [200, 100]\n",
            "\u001b[32m[0805 22:57:29 @registry.py:134]\u001b[0m gen/LSTM/98/FC output: [200, 100]\n",
            "\u001b[32m[0805 22:57:29 @registry.py:126]\u001b[0m gen/LSTM/98/FC2 input: [200, 100]\n",
            "\u001b[32m[0805 22:57:29 @registry.py:134]\u001b[0m gen/LSTM/98/FC2 output: [200, 1]\n",
            "\u001b[32m[0805 22:57:29 @registry.py:126]\u001b[0m gen/LSTM/99/FC input: [200, 100]\n",
            "\u001b[32m[0805 22:57:29 @registry.py:134]\u001b[0m gen/LSTM/99/FC output: [200, 100]\n",
            "\u001b[32m[0805 22:57:29 @registry.py:126]\u001b[0m gen/LSTM/99/FC2 input: [200, 100]\n",
            "\u001b[32m[0805 22:57:29 @registry.py:134]\u001b[0m gen/LSTM/99/FC2 output: [200, 5]\n",
            "\u001b[32m[0805 22:57:29 @registry.py:126]\u001b[0m gen/LSTM/99/FC3 input: [200, 5]\n",
            "\u001b[32m[0805 22:57:29 @registry.py:134]\u001b[0m gen/LSTM/99/FC3 output: [200, 100]\n",
            "\u001b[32m[0805 22:57:29 @registry.py:126]\u001b[0m gen/LSTM/100/FC input: [200, 100]\n",
            "\u001b[32m[0805 22:57:29 @registry.py:134]\u001b[0m gen/LSTM/100/FC output: [200, 100]\n",
            "\u001b[32m[0805 22:57:29 @registry.py:126]\u001b[0m gen/LSTM/100/FC2 input: [200, 100]\n",
            "\u001b[32m[0805 22:57:29 @registry.py:134]\u001b[0m gen/LSTM/100/FC2 output: [200, 1]\n",
            "\u001b[32m[0805 22:57:29 @registry.py:126]\u001b[0m gen/LSTM/101/FC input: [200, 100]\n",
            "\u001b[32m[0805 22:57:29 @registry.py:134]\u001b[0m gen/LSTM/101/FC output: [200, 100]\n",
            "\u001b[32m[0805 22:57:29 @registry.py:126]\u001b[0m gen/LSTM/101/FC2 input: [200, 100]\n",
            "\u001b[32m[0805 22:57:29 @registry.py:134]\u001b[0m gen/LSTM/101/FC2 output: [200, 5]\n",
            "\u001b[32m[0805 22:57:29 @registry.py:126]\u001b[0m gen/LSTM/101/FC3 input: [200, 5]\n",
            "\u001b[32m[0805 22:57:29 @registry.py:134]\u001b[0m gen/LSTM/101/FC3 output: [200, 100]\n",
            "\u001b[32m[0805 22:57:29 @registry.py:126]\u001b[0m gen/LSTM/102/FC input: [200, 100]\n",
            "\u001b[32m[0805 22:57:29 @registry.py:134]\u001b[0m gen/LSTM/102/FC output: [200, 100]\n",
            "\u001b[32m[0805 22:57:29 @registry.py:126]\u001b[0m gen/LSTM/102/FC2 input: [200, 100]\n",
            "\u001b[32m[0805 22:57:29 @registry.py:134]\u001b[0m gen/LSTM/102/FC2 output: [200, 1]\n",
            "\u001b[32m[0805 22:57:29 @registry.py:126]\u001b[0m gen/LSTM/103/FC input: [200, 100]\n",
            "\u001b[32m[0805 22:57:29 @registry.py:134]\u001b[0m gen/LSTM/103/FC output: [200, 100]\n",
            "\u001b[32m[0805 22:57:29 @registry.py:126]\u001b[0m gen/LSTM/103/FC2 input: [200, 100]\n",
            "\u001b[32m[0805 22:57:29 @registry.py:134]\u001b[0m gen/LSTM/103/FC2 output: [200, 5]\n",
            "\u001b[32m[0805 22:57:29 @registry.py:126]\u001b[0m gen/LSTM/103/FC3 input: [200, 5]\n",
            "\u001b[32m[0805 22:57:29 @registry.py:134]\u001b[0m gen/LSTM/103/FC3 output: [200, 100]\n",
            "\u001b[32m[0805 22:57:29 @registry.py:126]\u001b[0m gen/LSTM/104/FC input: [200, 100]\n",
            "\u001b[32m[0805 22:57:30 @registry.py:134]\u001b[0m gen/LSTM/104/FC output: [200, 100]\n",
            "\u001b[32m[0805 22:57:30 @registry.py:126]\u001b[0m gen/LSTM/104/FC2 input: [200, 100]\n",
            "\u001b[32m[0805 22:57:30 @registry.py:134]\u001b[0m gen/LSTM/104/FC2 output: [200, 1]\n",
            "\u001b[32m[0805 22:57:30 @registry.py:126]\u001b[0m gen/LSTM/105/FC input: [200, 100]\n",
            "\u001b[32m[0805 22:57:30 @registry.py:134]\u001b[0m gen/LSTM/105/FC output: [200, 100]\n",
            "\u001b[32m[0805 22:57:30 @registry.py:126]\u001b[0m gen/LSTM/105/FC2 input: [200, 100]\n",
            "\u001b[32m[0805 22:57:30 @registry.py:134]\u001b[0m gen/LSTM/105/FC2 output: [200, 5]\n",
            "\u001b[32m[0805 22:57:30 @registry.py:126]\u001b[0m gen/LSTM/105/FC3 input: [200, 5]\n",
            "\u001b[32m[0805 22:57:30 @registry.py:134]\u001b[0m gen/LSTM/105/FC3 output: [200, 100]\n",
            "\u001b[32m[0805 22:57:30 @registry.py:126]\u001b[0m gen/LSTM/106/FC input: [200, 100]\n",
            "\u001b[32m[0805 22:57:30 @registry.py:134]\u001b[0m gen/LSTM/106/FC output: [200, 100]\n",
            "\u001b[32m[0805 22:57:30 @registry.py:126]\u001b[0m gen/LSTM/106/FC2 input: [200, 100]\n",
            "\u001b[32m[0805 22:57:30 @registry.py:134]\u001b[0m gen/LSTM/106/FC2 output: [200, 1]\n",
            "\u001b[32m[0805 22:57:30 @registry.py:126]\u001b[0m gen/LSTM/107/FC input: [200, 100]\n",
            "\u001b[32m[0805 22:57:30 @registry.py:134]\u001b[0m gen/LSTM/107/FC output: [200, 100]\n",
            "\u001b[32m[0805 22:57:30 @registry.py:126]\u001b[0m gen/LSTM/107/FC2 input: [200, 100]\n",
            "\u001b[32m[0805 22:57:30 @registry.py:134]\u001b[0m gen/LSTM/107/FC2 output: [200, 5]\n",
            "\u001b[32m[0805 22:57:30 @registry.py:126]\u001b[0m gen/LSTM/107/FC3 input: [200, 5]\n",
            "\u001b[32m[0805 22:57:30 @registry.py:134]\u001b[0m gen/LSTM/107/FC3 output: [200, 100]\n",
            "\u001b[32m[0805 22:57:30 @registry.py:126]\u001b[0m gen/LSTM/108/FC input: [200, 100]\n",
            "\u001b[32m[0805 22:57:30 @registry.py:134]\u001b[0m gen/LSTM/108/FC output: [200, 100]\n",
            "\u001b[32m[0805 22:57:30 @registry.py:126]\u001b[0m gen/LSTM/108/FC2 input: [200, 100]\n",
            "\u001b[32m[0805 22:57:30 @registry.py:134]\u001b[0m gen/LSTM/108/FC2 output: [200, 1]\n",
            "\u001b[32m[0805 22:57:30 @registry.py:126]\u001b[0m gen/LSTM/109/FC input: [200, 100]\n",
            "\u001b[32m[0805 22:57:30 @registry.py:134]\u001b[0m gen/LSTM/109/FC output: [200, 100]\n",
            "\u001b[32m[0805 22:57:30 @registry.py:126]\u001b[0m gen/LSTM/109/FC2 input: [200, 100]\n",
            "\u001b[32m[0805 22:57:30 @registry.py:134]\u001b[0m gen/LSTM/109/FC2 output: [200, 5]\n",
            "\u001b[32m[0805 22:57:30 @registry.py:126]\u001b[0m gen/LSTM/109/FC3 input: [200, 5]\n",
            "\u001b[32m[0805 22:57:30 @registry.py:134]\u001b[0m gen/LSTM/109/FC3 output: [200, 100]\n",
            "\u001b[32m[0805 22:57:30 @registry.py:126]\u001b[0m gen/LSTM/110/FC input: [200, 100]\n",
            "\u001b[32m[0805 22:57:30 @registry.py:134]\u001b[0m gen/LSTM/110/FC output: [200, 100]\n",
            "\u001b[32m[0805 22:57:30 @registry.py:126]\u001b[0m gen/LSTM/110/FC2 input: [200, 100]\n",
            "\u001b[32m[0805 22:57:30 @registry.py:134]\u001b[0m gen/LSTM/110/FC2 output: [200, 1]\n",
            "\u001b[32m[0805 22:57:30 @registry.py:126]\u001b[0m gen/LSTM/111/FC input: [200, 100]\n",
            "\u001b[32m[0805 22:57:30 @registry.py:134]\u001b[0m gen/LSTM/111/FC output: [200, 100]\n",
            "\u001b[32m[0805 22:57:30 @registry.py:126]\u001b[0m gen/LSTM/111/FC2 input: [200, 100]\n",
            "\u001b[32m[0805 22:57:30 @registry.py:134]\u001b[0m gen/LSTM/111/FC2 output: [200, 5]\n",
            "\u001b[32m[0805 22:57:30 @registry.py:126]\u001b[0m gen/LSTM/111/FC3 input: [200, 5]\n",
            "\u001b[32m[0805 22:57:31 @registry.py:134]\u001b[0m gen/LSTM/111/FC3 output: [200, 100]\n",
            "\u001b[32m[0805 22:57:31 @registry.py:126]\u001b[0m gen/LSTM/112/FC input: [200, 100]\n",
            "\u001b[32m[0805 22:57:31 @registry.py:134]\u001b[0m gen/LSTM/112/FC output: [200, 100]\n",
            "\u001b[32m[0805 22:57:31 @registry.py:126]\u001b[0m gen/LSTM/112/FC2 input: [200, 100]\n",
            "\u001b[32m[0805 22:57:31 @registry.py:134]\u001b[0m gen/LSTM/112/FC2 output: [200, 1]\n",
            "\u001b[32m[0805 22:57:31 @registry.py:126]\u001b[0m gen/LSTM/113/FC input: [200, 100]\n",
            "\u001b[32m[0805 22:57:31 @registry.py:134]\u001b[0m gen/LSTM/113/FC output: [200, 100]\n",
            "\u001b[32m[0805 22:57:31 @registry.py:126]\u001b[0m gen/LSTM/113/FC2 input: [200, 100]\n",
            "\u001b[32m[0805 22:57:31 @registry.py:134]\u001b[0m gen/LSTM/113/FC2 output: [200, 5]\n",
            "\u001b[32m[0805 22:57:31 @registry.py:126]\u001b[0m gen/LSTM/113/FC3 input: [200, 5]\n",
            "\u001b[32m[0805 22:57:31 @registry.py:134]\u001b[0m gen/LSTM/113/FC3 output: [200, 100]\n",
            "\u001b[32m[0805 22:57:31 @registry.py:126]\u001b[0m gen/LSTM/114/FC input: [200, 100]\n",
            "\u001b[32m[0805 22:57:31 @registry.py:134]\u001b[0m gen/LSTM/114/FC output: [200, 100]\n",
            "\u001b[32m[0805 22:57:31 @registry.py:126]\u001b[0m gen/LSTM/114/FC2 input: [200, 100]\n",
            "\u001b[32m[0805 22:57:31 @registry.py:134]\u001b[0m gen/LSTM/114/FC2 output: [200, 1]\n",
            "\u001b[32m[0805 22:57:31 @registry.py:126]\u001b[0m gen/LSTM/115/FC input: [200, 100]\n",
            "\u001b[32m[0805 22:57:31 @registry.py:134]\u001b[0m gen/LSTM/115/FC output: [200, 100]\n",
            "\u001b[32m[0805 22:57:31 @registry.py:126]\u001b[0m gen/LSTM/115/FC2 input: [200, 100]\n",
            "\u001b[32m[0805 22:57:31 @registry.py:134]\u001b[0m gen/LSTM/115/FC2 output: [200, 5]\n",
            "\u001b[32m[0805 22:57:31 @registry.py:126]\u001b[0m gen/LSTM/115/FC3 input: [200, 5]\n",
            "\u001b[32m[0805 22:57:31 @registry.py:134]\u001b[0m gen/LSTM/115/FC3 output: [200, 100]\n",
            "\u001b[32m[0805 22:57:31 @registry.py:126]\u001b[0m gen/LSTM/116/FC input: [200, 100]\n",
            "\u001b[32m[0805 22:57:31 @registry.py:134]\u001b[0m gen/LSTM/116/FC output: [200, 100]\n",
            "\u001b[32m[0805 22:57:31 @registry.py:126]\u001b[0m gen/LSTM/116/FC2 input: [200, 100]\n",
            "\u001b[32m[0805 22:57:31 @registry.py:134]\u001b[0m gen/LSTM/116/FC2 output: [200, 1]\n",
            "\u001b[32m[0805 22:57:31 @registry.py:126]\u001b[0m gen/LSTM/117/FC input: [200, 100]\n",
            "\u001b[32m[0805 22:57:31 @registry.py:134]\u001b[0m gen/LSTM/117/FC output: [200, 100]\n",
            "\u001b[32m[0805 22:57:31 @registry.py:126]\u001b[0m gen/LSTM/117/FC2 input: [200, 100]\n",
            "\u001b[32m[0805 22:57:32 @registry.py:134]\u001b[0m gen/LSTM/117/FC2 output: [200, 5]\n",
            "\u001b[32m[0805 22:57:32 @registry.py:126]\u001b[0m gen/LSTM/117/FC3 input: [200, 5]\n",
            "\u001b[32m[0805 22:57:32 @registry.py:134]\u001b[0m gen/LSTM/117/FC3 output: [200, 100]\n",
            "\u001b[32m[0805 22:57:32 @registry.py:126]\u001b[0m gen/LSTM/118/FC input: [200, 100]\n",
            "\u001b[32m[0805 22:57:32 @registry.py:134]\u001b[0m gen/LSTM/118/FC output: [200, 100]\n",
            "\u001b[32m[0805 22:57:32 @registry.py:126]\u001b[0m gen/LSTM/118/FC2 input: [200, 100]\n",
            "\u001b[32m[0805 22:57:32 @registry.py:134]\u001b[0m gen/LSTM/118/FC2 output: [200, 1]\n",
            "\u001b[32m[0805 22:57:32 @registry.py:126]\u001b[0m gen/LSTM/119/FC input: [200, 100]\n",
            "\u001b[32m[0805 22:57:32 @registry.py:134]\u001b[0m gen/LSTM/119/FC output: [200, 100]\n",
            "\u001b[32m[0805 22:57:32 @registry.py:126]\u001b[0m gen/LSTM/119/FC2 input: [200, 100]\n",
            "\u001b[32m[0805 22:57:32 @registry.py:134]\u001b[0m gen/LSTM/119/FC2 output: [200, 5]\n",
            "\u001b[32m[0805 22:57:32 @registry.py:126]\u001b[0m gen/LSTM/119/FC3 input: [200, 5]\n",
            "\u001b[32m[0805 22:57:32 @registry.py:134]\u001b[0m gen/LSTM/119/FC3 output: [200, 100]\n",
            "\u001b[32m[0805 22:57:32 @registry.py:126]\u001b[0m gen/LSTM/120/FC input: [200, 100]\n",
            "\u001b[32m[0805 22:57:32 @registry.py:134]\u001b[0m gen/LSTM/120/FC output: [200, 100]\n",
            "\u001b[32m[0805 22:57:32 @registry.py:126]\u001b[0m gen/LSTM/120/FC2 input: [200, 100]\n",
            "\u001b[32m[0805 22:57:32 @registry.py:134]\u001b[0m gen/LSTM/120/FC2 output: [200, 1]\n",
            "\u001b[32m[0805 22:57:32 @registry.py:126]\u001b[0m gen/LSTM/121/FC input: [200, 100]\n",
            "\u001b[32m[0805 22:57:32 @registry.py:134]\u001b[0m gen/LSTM/121/FC output: [200, 100]\n",
            "\u001b[32m[0805 22:57:32 @registry.py:126]\u001b[0m gen/LSTM/121/FC2 input: [200, 100]\n",
            "\u001b[32m[0805 22:57:32 @registry.py:134]\u001b[0m gen/LSTM/121/FC2 output: [200, 5]\n",
            "\u001b[32m[0805 22:57:32 @registry.py:126]\u001b[0m gen/LSTM/121/FC3 input: [200, 5]\n",
            "\u001b[32m[0805 22:57:32 @registry.py:134]\u001b[0m gen/LSTM/121/FC3 output: [200, 100]\n",
            "\u001b[32m[0805 22:57:32 @registry.py:126]\u001b[0m gen/LSTM/122/FC input: [200, 100]\n",
            "\u001b[32m[0805 22:57:32 @registry.py:134]\u001b[0m gen/LSTM/122/FC output: [200, 100]\n",
            "\u001b[32m[0805 22:57:32 @registry.py:126]\u001b[0m gen/LSTM/122/FC2 input: [200, 100]\n",
            "\u001b[32m[0805 22:57:32 @registry.py:134]\u001b[0m gen/LSTM/122/FC2 output: [200, 1]\n",
            "\u001b[32m[0805 22:57:32 @registry.py:126]\u001b[0m gen/LSTM/123/FC input: [200, 100]\n",
            "\u001b[32m[0805 22:57:32 @registry.py:134]\u001b[0m gen/LSTM/123/FC output: [200, 100]\n",
            "\u001b[32m[0805 22:57:32 @registry.py:126]\u001b[0m gen/LSTM/123/FC2 input: [200, 100]\n",
            "\u001b[32m[0805 22:57:32 @registry.py:134]\u001b[0m gen/LSTM/123/FC2 output: [200, 5]\n",
            "\u001b[32m[0805 22:57:32 @registry.py:126]\u001b[0m gen/LSTM/123/FC3 input: [200, 5]\n",
            "\u001b[32m[0805 22:57:32 @registry.py:134]\u001b[0m gen/LSTM/123/FC3 output: [200, 100]\n",
            "WARNING:tensorflow:From /usr/local/lib/python3.7/dist-packages/tgan/model.py:443: The name tf.log is deprecated. Please use tf.math.log instead.\n",
            "\n"
          ]
        },
        {
          "output_type": "stream",
          "name": "stderr",
          "text": [
            "WARNING:tensorflow:From /usr/local/lib/python3.7/dist-packages/tgan/model.py:443: The name tf.log is deprecated. Please use tf.math.log instead.\n",
            "\n"
          ]
        },
        {
          "output_type": "stream",
          "name": "stdout",
          "text": [
            "\u001b[32m[0805 22:57:34 @registry.py:126]\u001b[0m discrim/dis_fc0/fc input: [200, 372]\n",
            "\u001b[32m[0805 22:57:34 @registry.py:134]\u001b[0m discrim/dis_fc0/fc output: [200, 100]\n",
            "\u001b[32m[0805 22:57:34 @registry.py:126]\u001b[0m discrim/dis_fc0/fc_diversity input: [200, 100]\n",
            "\u001b[32m[0805 22:57:34 @registry.py:134]\u001b[0m discrim/dis_fc0/fc_diversity output: [200, 100]\n",
            "WARNING:tensorflow:From /usr/local/lib/python3.7/dist-packages/tensorpack/models/batch_norm.py:204: The name tf.layers.BatchNormalization is deprecated. Please use tf.compat.v1.layers.BatchNormalization instead.\n",
            "\n"
          ]
        },
        {
          "output_type": "stream",
          "name": "stderr",
          "text": [
            "WARNING:tensorflow:From /usr/local/lib/python3.7/dist-packages/tensorpack/models/batch_norm.py:204: The name tf.layers.BatchNormalization is deprecated. Please use tf.compat.v1.layers.BatchNormalization instead.\n",
            "\n"
          ]
        },
        {
          "output_type": "stream",
          "name": "stdout",
          "text": [
            "WARNING:tensorflow:From /usr/local/lib/python3.7/dist-packages/tensorpack/models/batch_norm.py:212: The name tf.add_to_collection is deprecated. Please use tf.compat.v1.add_to_collection instead.\n",
            "\n"
          ]
        },
        {
          "output_type": "stream",
          "name": "stderr",
          "text": [
            "WARNING:tensorflow:From /usr/local/lib/python3.7/dist-packages/tensorpack/models/batch_norm.py:212: The name tf.add_to_collection is deprecated. Please use tf.compat.v1.add_to_collection instead.\n",
            "\n"
          ]
        },
        {
          "output_type": "stream",
          "name": "stdout",
          "text": [
            "\u001b[32m[0805 22:57:34 @registry.py:126]\u001b[0m discrim/dis_fc_top input: [200, 110]\n",
            "\u001b[32m[0805 22:57:34 @registry.py:134]\u001b[0m discrim/dis_fc_top output: [200, 1]\n",
            "WARNING:tensorflow:From /usr/local/lib/python3.7/dist-packages/tgan/model.py:118: The name tf.summary.histogram is deprecated. Please use tf.compat.v1.summary.histogram instead.\n",
            "\n"
          ]
        },
        {
          "output_type": "stream",
          "name": "stderr",
          "text": [
            "WARNING:tensorflow:From /usr/local/lib/python3.7/dist-packages/tgan/model.py:118: The name tf.summary.histogram is deprecated. Please use tf.compat.v1.summary.histogram instead.\n",
            "\n"
          ]
        },
        {
          "output_type": "stream",
          "name": "stdout",
          "text": [
            "WARNING:tensorflow:From /usr/local/lib/python3.7/dist-packages/tensorflow_core/python/ops/nn_impl.py:183: where (from tensorflow.python.ops.array_ops) is deprecated and will be removed in a future version.\n",
            "Instructions for updating:\n",
            "Use tf.where in 2.0, which has the same broadcast rule as np.where\n"
          ]
        },
        {
          "output_type": "stream",
          "name": "stderr",
          "text": [
            "WARNING:tensorflow:From /usr/local/lib/python3.7/dist-packages/tensorflow_core/python/ops/nn_impl.py:183: where (from tensorflow.python.ops.array_ops) is deprecated and will be removed in a future version.\n",
            "Instructions for updating:\n",
            "Use tf.where in 2.0, which has the same broadcast rule as np.where\n"
          ]
        },
        {
          "output_type": "stream",
          "name": "stdout",
          "text": [
            "WARNING:tensorflow:From /usr/local/lib/python3.7/dist-packages/tgan/model.py:125: The name tf.random_uniform is deprecated. Please use tf.random.uniform instead.\n",
            "\n"
          ]
        },
        {
          "output_type": "stream",
          "name": "stderr",
          "text": [
            "WARNING:tensorflow:From /usr/local/lib/python3.7/dist-packages/tgan/model.py:125: The name tf.random_uniform is deprecated. Please use tf.random.uniform instead.\n",
            "\n"
          ]
        },
        {
          "output_type": "stream",
          "name": "stdout",
          "text": [
            "WARNING:tensorflow:\n",
            "The TensorFlow contrib module will not be included in TensorFlow 2.0.\n",
            "For more information, please see:\n",
            "  * https://github.com/tensorflow/community/blob/master/rfcs/20180907-contrib-sunset.md\n",
            "  * https://github.com/tensorflow/addons\n",
            "  * https://github.com/tensorflow/io (for I/O related ops)\n",
            "If you depend on functionality not listed there, please file an issue.\n",
            "\n"
          ]
        },
        {
          "output_type": "stream",
          "name": "stderr",
          "text": [
            "WARNING:tensorflow:\n",
            "The TensorFlow contrib module will not be included in TensorFlow 2.0.\n",
            "For more information, please see:\n",
            "  * https://github.com/tensorflow/community/blob/master/rfcs/20180907-contrib-sunset.md\n",
            "  * https://github.com/tensorflow/addons\n",
            "  * https://github.com/tensorflow/io (for I/O related ops)\n",
            "If you depend on functionality not listed there, please file an issue.\n",
            "\n"
          ]
        },
        {
          "output_type": "stream",
          "name": "stdout",
          "text": [
            "WARNING:tensorflow:From /usr/local/lib/python3.7/dist-packages/tgan/model.py:551: The name tf.train.AdamOptimizer is deprecated. Please use tf.compat.v1.train.AdamOptimizer instead.\n",
            "\n"
          ]
        },
        {
          "output_type": "stream",
          "name": "stderr",
          "text": [
            "WARNING:tensorflow:From /usr/local/lib/python3.7/dist-packages/tgan/model.py:551: The name tf.train.AdamOptimizer is deprecated. Please use tf.compat.v1.train.AdamOptimizer instead.\n",
            "\n"
          ]
        },
        {
          "output_type": "stream",
          "name": "stdout",
          "text": [
            "\u001b[32m[0805 22:58:16 @logger.py:90]\u001b[0m Argv: /usr/local/lib/python3.7/dist-packages/ipykernel_launcher.py -f /root/.local/share/jupyter/runtime/kernel-9aed83b3-ad3b-42e1-b42c-6917361778ba.json\n",
            "WARNING:tensorflow:From /usr/local/lib/python3.7/dist-packages/tensorpack/callbacks/saver.py:43: The name tf.gfile.IsDirectory is deprecated. Please use tf.io.gfile.isdir instead.\n",
            "\n"
          ]
        },
        {
          "output_type": "stream",
          "name": "stderr",
          "text": [
            "WARNING:tensorflow:From /usr/local/lib/python3.7/dist-packages/tensorpack/callbacks/saver.py:43: The name tf.gfile.IsDirectory is deprecated. Please use tf.io.gfile.isdir instead.\n",
            "\n"
          ]
        },
        {
          "output_type": "stream",
          "name": "stdout",
          "text": [
            "WARNING:tensorflow:From /usr/local/lib/python3.7/dist-packages/tensorpack/callbacks/saver.py:44: The name tf.gfile.MakeDirs is deprecated. Please use tf.io.gfile.makedirs instead.\n",
            "\n"
          ]
        },
        {
          "output_type": "stream",
          "name": "stderr",
          "text": [
            "WARNING:tensorflow:From /usr/local/lib/python3.7/dist-packages/tensorpack/callbacks/saver.py:44: The name tf.gfile.MakeDirs is deprecated. Please use tf.io.gfile.makedirs instead.\n",
            "\n"
          ]
        },
        {
          "output_type": "stream",
          "name": "stdout",
          "text": [
            "WARNING:tensorflow:From /usr/local/lib/python3.7/dist-packages/tensorpack/tfutils/common.py:41: The name tf.ConfigProto is deprecated. Please use tf.compat.v1.ConfigProto instead.\n",
            "\n"
          ]
        },
        {
          "output_type": "stream",
          "name": "stderr",
          "text": [
            "WARNING:tensorflow:From /usr/local/lib/python3.7/dist-packages/tensorpack/tfutils/common.py:41: The name tf.ConfigProto is deprecated. Please use tf.compat.v1.ConfigProto instead.\n",
            "\n"
          ]
        },
        {
          "output_type": "stream",
          "name": "stdout",
          "text": [
            "\u001b[32m[0805 22:58:16 @model_utils.py:67]\u001b[0m \u001b[36mList of Trainable Variables: \n",
            "\u001b[0mname                              shape          #elements\n",
            "--------------------------------  -----------  -----------\n",
            "gen/LSTM/go:0                     [1, 100]             100\n",
            "gen/LSTM/lstm_cell/kernel:0       [500, 400]        200000\n",
            "gen/LSTM/lstm_cell/bias:0         [400]                400\n",
            "gen/LSTM/00/FC/W:0                [100, 100]         10000\n",
            "gen/LSTM/00/FC/b:0                [100]                100\n",
            "gen/LSTM/00/FC2/W:0               [100, 1]             100\n",
            "gen/LSTM/00/FC2/b:0               [1]                    1\n",
            "gen/LSTM/00/attw:0                [1, 1, 1]              1\n",
            "gen/LSTM/01/FC/W:0                [100, 100]         10000\n",
            "gen/LSTM/01/FC/b:0                [100]                100\n",
            "gen/LSTM/01/FC2/W:0               [100, 5]             500\n",
            "gen/LSTM/01/FC2/b:0               [5]                    5\n",
            "gen/LSTM/01/FC3/W:0               [5, 100]             500\n",
            "gen/LSTM/01/FC3/b:0               [100]                100\n",
            "gen/LSTM/01/attw:0                [2, 1, 1]              2\n",
            "gen/LSTM/02/FC/W:0                [100, 100]         10000\n",
            "gen/LSTM/02/FC/b:0                [100]                100\n",
            "gen/LSTM/02/FC2/W:0               [100, 1]             100\n",
            "gen/LSTM/02/FC2/b:0               [1]                    1\n",
            "gen/LSTM/02/attw:0                [3, 1, 1]              3\n",
            "gen/LSTM/03/FC/W:0                [100, 100]         10000\n",
            "gen/LSTM/03/FC/b:0                [100]                100\n",
            "gen/LSTM/03/FC2/W:0               [100, 5]             500\n",
            "gen/LSTM/03/FC2/b:0               [5]                    5\n",
            "gen/LSTM/03/FC3/W:0               [5, 100]             500\n",
            "gen/LSTM/03/FC3/b:0               [100]                100\n",
            "gen/LSTM/03/attw:0                [4, 1, 1]              4\n",
            "gen/LSTM/04/FC/W:0                [100, 100]         10000\n",
            "gen/LSTM/04/FC/b:0                [100]                100\n",
            "gen/LSTM/04/FC2/W:0               [100, 1]             100\n",
            "gen/LSTM/04/FC2/b:0               [1]                    1\n",
            "gen/LSTM/04/attw:0                [5, 1, 1]              5\n",
            "gen/LSTM/05/FC/W:0                [100, 100]         10000\n",
            "gen/LSTM/05/FC/b:0                [100]                100\n",
            "gen/LSTM/05/FC2/W:0               [100, 5]             500\n",
            "gen/LSTM/05/FC2/b:0               [5]                    5\n",
            "gen/LSTM/05/FC3/W:0               [5, 100]             500\n",
            "gen/LSTM/05/FC3/b:0               [100]                100\n",
            "gen/LSTM/05/attw:0                [6, 1, 1]              6\n",
            "gen/LSTM/06/FC/W:0                [100, 100]         10000\n",
            "gen/LSTM/06/FC/b:0                [100]                100\n",
            "gen/LSTM/06/FC2/W:0               [100, 1]             100\n",
            "gen/LSTM/06/FC2/b:0               [1]                    1\n",
            "gen/LSTM/06/attw:0                [7, 1, 1]              7\n",
            "gen/LSTM/07/FC/W:0                [100, 100]         10000\n",
            "gen/LSTM/07/FC/b:0                [100]                100\n",
            "gen/LSTM/07/FC2/W:0               [100, 5]             500\n",
            "gen/LSTM/07/FC2/b:0               [5]                    5\n",
            "gen/LSTM/07/FC3/W:0               [5, 100]             500\n",
            "gen/LSTM/07/FC3/b:0               [100]                100\n",
            "gen/LSTM/07/attw:0                [8, 1, 1]              8\n",
            "gen/LSTM/08/FC/W:0                [100, 100]         10000\n",
            "gen/LSTM/08/FC/b:0                [100]                100\n",
            "gen/LSTM/08/FC2/W:0               [100, 1]             100\n",
            "gen/LSTM/08/FC2/b:0               [1]                    1\n",
            "gen/LSTM/08/attw:0                [9, 1, 1]              9\n",
            "gen/LSTM/09/FC/W:0                [100, 100]         10000\n",
            "gen/LSTM/09/FC/b:0                [100]                100\n",
            "gen/LSTM/09/FC2/W:0               [100, 5]             500\n",
            "gen/LSTM/09/FC2/b:0               [5]                    5\n",
            "gen/LSTM/09/FC3/W:0               [5, 100]             500\n",
            "gen/LSTM/09/FC3/b:0               [100]                100\n",
            "gen/LSTM/09/attw:0                [10, 1, 1]            10\n",
            "gen/LSTM/10/FC/W:0                [100, 100]         10000\n",
            "gen/LSTM/10/FC/b:0                [100]                100\n",
            "gen/LSTM/10/FC2/W:0               [100, 1]             100\n",
            "gen/LSTM/10/FC2/b:0               [1]                    1\n",
            "gen/LSTM/10/attw:0                [11, 1, 1]            11\n",
            "gen/LSTM/11/FC/W:0                [100, 100]         10000\n",
            "gen/LSTM/11/FC/b:0                [100]                100\n",
            "gen/LSTM/11/FC2/W:0               [100, 5]             500\n",
            "gen/LSTM/11/FC2/b:0               [5]                    5\n",
            "gen/LSTM/11/FC3/W:0               [5, 100]             500\n",
            "gen/LSTM/11/FC3/b:0               [100]                100\n",
            "gen/LSTM/11/attw:0                [12, 1, 1]            12\n",
            "gen/LSTM/12/FC/W:0                [100, 100]         10000\n",
            "gen/LSTM/12/FC/b:0                [100]                100\n",
            "gen/LSTM/12/FC2/W:0               [100, 1]             100\n",
            "gen/LSTM/12/FC2/b:0               [1]                    1\n",
            "gen/LSTM/12/attw:0                [13, 1, 1]            13\n",
            "gen/LSTM/13/FC/W:0                [100, 100]         10000\n",
            "gen/LSTM/13/FC/b:0                [100]                100\n",
            "gen/LSTM/13/FC2/W:0               [100, 5]             500\n",
            "gen/LSTM/13/FC2/b:0               [5]                    5\n",
            "gen/LSTM/13/FC3/W:0               [5, 100]             500\n",
            "gen/LSTM/13/FC3/b:0               [100]                100\n",
            "gen/LSTM/13/attw:0                [14, 1, 1]            14\n",
            "gen/LSTM/14/FC/W:0                [100, 100]         10000\n",
            "gen/LSTM/14/FC/b:0                [100]                100\n",
            "gen/LSTM/14/FC2/W:0               [100, 1]             100\n",
            "gen/LSTM/14/FC2/b:0               [1]                    1\n",
            "gen/LSTM/14/attw:0                [15, 1, 1]            15\n",
            "gen/LSTM/15/FC/W:0                [100, 100]         10000\n",
            "gen/LSTM/15/FC/b:0                [100]                100\n",
            "gen/LSTM/15/FC2/W:0               [100, 5]             500\n",
            "gen/LSTM/15/FC2/b:0               [5]                    5\n",
            "gen/LSTM/15/FC3/W:0               [5, 100]             500\n",
            "gen/LSTM/15/FC3/b:0               [100]                100\n",
            "gen/LSTM/15/attw:0                [16, 1, 1]            16\n",
            "gen/LSTM/16/FC/W:0                [100, 100]         10000\n",
            "gen/LSTM/16/FC/b:0                [100]                100\n",
            "gen/LSTM/16/FC2/W:0               [100, 1]             100\n",
            "gen/LSTM/16/FC2/b:0               [1]                    1\n",
            "gen/LSTM/16/attw:0                [17, 1, 1]            17\n",
            "gen/LSTM/17/FC/W:0                [100, 100]         10000\n",
            "gen/LSTM/17/FC/b:0                [100]                100\n",
            "gen/LSTM/17/FC2/W:0               [100, 5]             500\n",
            "gen/LSTM/17/FC2/b:0               [5]                    5\n",
            "gen/LSTM/17/FC3/W:0               [5, 100]             500\n",
            "gen/LSTM/17/FC3/b:0               [100]                100\n",
            "gen/LSTM/17/attw:0                [18, 1, 1]            18\n",
            "gen/LSTM/18/FC/W:0                [100, 100]         10000\n",
            "gen/LSTM/18/FC/b:0                [100]                100\n",
            "gen/LSTM/18/FC2/W:0               [100, 1]             100\n",
            "gen/LSTM/18/FC2/b:0               [1]                    1\n",
            "gen/LSTM/18/attw:0                [19, 1, 1]            19\n",
            "gen/LSTM/19/FC/W:0                [100, 100]         10000\n",
            "gen/LSTM/19/FC/b:0                [100]                100\n",
            "gen/LSTM/19/FC2/W:0               [100, 5]             500\n",
            "gen/LSTM/19/FC2/b:0               [5]                    5\n",
            "gen/LSTM/19/FC3/W:0               [5, 100]             500\n",
            "gen/LSTM/19/FC3/b:0               [100]                100\n",
            "gen/LSTM/19/attw:0                [20, 1, 1]            20\n",
            "gen/LSTM/20/FC/W:0                [100, 100]         10000\n",
            "gen/LSTM/20/FC/b:0                [100]                100\n",
            "gen/LSTM/20/FC2/W:0               [100, 1]             100\n",
            "gen/LSTM/20/FC2/b:0               [1]                    1\n",
            "gen/LSTM/20/attw:0                [21, 1, 1]            21\n",
            "gen/LSTM/21/FC/W:0                [100, 100]         10000\n",
            "gen/LSTM/21/FC/b:0                [100]                100\n",
            "gen/LSTM/21/FC2/W:0               [100, 5]             500\n",
            "gen/LSTM/21/FC2/b:0               [5]                    5\n",
            "gen/LSTM/21/FC3/W:0               [5, 100]             500\n",
            "gen/LSTM/21/FC3/b:0               [100]                100\n",
            "gen/LSTM/21/attw:0                [22, 1, 1]            22\n",
            "gen/LSTM/22/FC/W:0                [100, 100]         10000\n",
            "gen/LSTM/22/FC/b:0                [100]                100\n",
            "gen/LSTM/22/FC2/W:0               [100, 1]             100\n",
            "gen/LSTM/22/FC2/b:0               [1]                    1\n",
            "gen/LSTM/22/attw:0                [23, 1, 1]            23\n",
            "gen/LSTM/23/FC/W:0                [100, 100]         10000\n",
            "gen/LSTM/23/FC/b:0                [100]                100\n",
            "gen/LSTM/23/FC2/W:0               [100, 5]             500\n",
            "gen/LSTM/23/FC2/b:0               [5]                    5\n",
            "gen/LSTM/23/FC3/W:0               [5, 100]             500\n",
            "gen/LSTM/23/FC3/b:0               [100]                100\n",
            "gen/LSTM/23/attw:0                [24, 1, 1]            24\n",
            "gen/LSTM/24/FC/W:0                [100, 100]         10000\n",
            "gen/LSTM/24/FC/b:0                [100]                100\n",
            "gen/LSTM/24/FC2/W:0               [100, 1]             100\n",
            "gen/LSTM/24/FC2/b:0               [1]                    1\n",
            "gen/LSTM/24/attw:0                [25, 1, 1]            25\n",
            "gen/LSTM/25/FC/W:0                [100, 100]         10000\n",
            "gen/LSTM/25/FC/b:0                [100]                100\n",
            "gen/LSTM/25/FC2/W:0               [100, 5]             500\n",
            "gen/LSTM/25/FC2/b:0               [5]                    5\n",
            "gen/LSTM/25/FC3/W:0               [5, 100]             500\n",
            "gen/LSTM/25/FC3/b:0               [100]                100\n",
            "gen/LSTM/25/attw:0                [26, 1, 1]            26\n",
            "gen/LSTM/26/FC/W:0                [100, 100]         10000\n",
            "gen/LSTM/26/FC/b:0                [100]                100\n",
            "gen/LSTM/26/FC2/W:0               [100, 1]             100\n",
            "gen/LSTM/26/FC2/b:0               [1]                    1\n",
            "gen/LSTM/26/attw:0                [27, 1, 1]            27\n",
            "gen/LSTM/27/FC/W:0                [100, 100]         10000\n",
            "gen/LSTM/27/FC/b:0                [100]                100\n",
            "gen/LSTM/27/FC2/W:0               [100, 5]             500\n",
            "gen/LSTM/27/FC2/b:0               [5]                    5\n",
            "gen/LSTM/27/FC3/W:0               [5, 100]             500\n",
            "gen/LSTM/27/FC3/b:0               [100]                100\n",
            "gen/LSTM/27/attw:0                [28, 1, 1]            28\n",
            "gen/LSTM/28/FC/W:0                [100, 100]         10000\n",
            "gen/LSTM/28/FC/b:0                [100]                100\n",
            "gen/LSTM/28/FC2/W:0               [100, 1]             100\n",
            "gen/LSTM/28/FC2/b:0               [1]                    1\n",
            "gen/LSTM/28/attw:0                [29, 1, 1]            29\n",
            "gen/LSTM/29/FC/W:0                [100, 100]         10000\n",
            "gen/LSTM/29/FC/b:0                [100]                100\n",
            "gen/LSTM/29/FC2/W:0               [100, 5]             500\n",
            "gen/LSTM/29/FC2/b:0               [5]                    5\n",
            "gen/LSTM/29/FC3/W:0               [5, 100]             500\n",
            "gen/LSTM/29/FC3/b:0               [100]                100\n",
            "gen/LSTM/29/attw:0                [30, 1, 1]            30\n",
            "gen/LSTM/30/FC/W:0                [100, 100]         10000\n",
            "gen/LSTM/30/FC/b:0                [100]                100\n",
            "gen/LSTM/30/FC2/W:0               [100, 1]             100\n",
            "gen/LSTM/30/FC2/b:0               [1]                    1\n",
            "gen/LSTM/30/attw:0                [31, 1, 1]            31\n",
            "gen/LSTM/31/FC/W:0                [100, 100]         10000\n",
            "gen/LSTM/31/FC/b:0                [100]                100\n",
            "gen/LSTM/31/FC2/W:0               [100, 5]             500\n",
            "gen/LSTM/31/FC2/b:0               [5]                    5\n",
            "gen/LSTM/31/FC3/W:0               [5, 100]             500\n",
            "gen/LSTM/31/FC3/b:0               [100]                100\n",
            "gen/LSTM/31/attw:0                [32, 1, 1]            32\n",
            "gen/LSTM/32/FC/W:0                [100, 100]         10000\n",
            "gen/LSTM/32/FC/b:0                [100]                100\n",
            "gen/LSTM/32/FC2/W:0               [100, 1]             100\n",
            "gen/LSTM/32/FC2/b:0               [1]                    1\n",
            "gen/LSTM/32/attw:0                [33, 1, 1]            33\n",
            "gen/LSTM/33/FC/W:0                [100, 100]         10000\n",
            "gen/LSTM/33/FC/b:0                [100]                100\n",
            "gen/LSTM/33/FC2/W:0               [100, 5]             500\n",
            "gen/LSTM/33/FC2/b:0               [5]                    5\n",
            "gen/LSTM/33/FC3/W:0               [5, 100]             500\n",
            "gen/LSTM/33/FC3/b:0               [100]                100\n",
            "gen/LSTM/33/attw:0                [34, 1, 1]            34\n",
            "gen/LSTM/34/FC/W:0                [100, 100]         10000\n",
            "gen/LSTM/34/FC/b:0                [100]                100\n",
            "gen/LSTM/34/FC2/W:0               [100, 1]             100\n",
            "gen/LSTM/34/FC2/b:0               [1]                    1\n",
            "gen/LSTM/34/attw:0                [35, 1, 1]            35\n",
            "gen/LSTM/35/FC/W:0                [100, 100]         10000\n",
            "gen/LSTM/35/FC/b:0                [100]                100\n",
            "gen/LSTM/35/FC2/W:0               [100, 5]             500\n",
            "gen/LSTM/35/FC2/b:0               [5]                    5\n",
            "gen/LSTM/35/FC3/W:0               [5, 100]             500\n",
            "gen/LSTM/35/FC3/b:0               [100]                100\n",
            "gen/LSTM/35/attw:0                [36, 1, 1]            36\n",
            "gen/LSTM/36/FC/W:0                [100, 100]         10000\n",
            "gen/LSTM/36/FC/b:0                [100]                100\n",
            "gen/LSTM/36/FC2/W:0               [100, 1]             100\n",
            "gen/LSTM/36/FC2/b:0               [1]                    1\n",
            "gen/LSTM/36/attw:0                [37, 1, 1]            37\n",
            "gen/LSTM/37/FC/W:0                [100, 100]         10000\n",
            "gen/LSTM/37/FC/b:0                [100]                100\n",
            "gen/LSTM/37/FC2/W:0               [100, 5]             500\n",
            "gen/LSTM/37/FC2/b:0               [5]                    5\n",
            "gen/LSTM/37/FC3/W:0               [5, 100]             500\n",
            "gen/LSTM/37/FC3/b:0               [100]                100\n",
            "gen/LSTM/37/attw:0                [38, 1, 1]            38\n",
            "gen/LSTM/38/FC/W:0                [100, 100]         10000\n",
            "gen/LSTM/38/FC/b:0                [100]                100\n",
            "gen/LSTM/38/FC2/W:0               [100, 1]             100\n",
            "gen/LSTM/38/FC2/b:0               [1]                    1\n",
            "gen/LSTM/38/attw:0                [39, 1, 1]            39\n",
            "gen/LSTM/39/FC/W:0                [100, 100]         10000\n",
            "gen/LSTM/39/FC/b:0                [100]                100\n",
            "gen/LSTM/39/FC2/W:0               [100, 5]             500\n",
            "gen/LSTM/39/FC2/b:0               [5]                    5\n",
            "gen/LSTM/39/FC3/W:0               [5, 100]             500\n",
            "gen/LSTM/39/FC3/b:0               [100]                100\n",
            "gen/LSTM/39/attw:0                [40, 1, 1]            40\n",
            "gen/LSTM/40/FC/W:0                [100, 100]         10000\n",
            "gen/LSTM/40/FC/b:0                [100]                100\n",
            "gen/LSTM/40/FC2/W:0               [100, 1]             100\n",
            "gen/LSTM/40/FC2/b:0               [1]                    1\n",
            "gen/LSTM/40/attw:0                [41, 1, 1]            41\n",
            "gen/LSTM/41/FC/W:0                [100, 100]         10000\n",
            "gen/LSTM/41/FC/b:0                [100]                100\n",
            "gen/LSTM/41/FC2/W:0               [100, 5]             500\n",
            "gen/LSTM/41/FC2/b:0               [5]                    5\n",
            "gen/LSTM/41/FC3/W:0               [5, 100]             500\n",
            "gen/LSTM/41/FC3/b:0               [100]                100\n",
            "gen/LSTM/41/attw:0                [42, 1, 1]            42\n",
            "gen/LSTM/42/FC/W:0                [100, 100]         10000\n",
            "gen/LSTM/42/FC/b:0                [100]                100\n",
            "gen/LSTM/42/FC2/W:0               [100, 1]             100\n",
            "gen/LSTM/42/FC2/b:0               [1]                    1\n",
            "gen/LSTM/42/attw:0                [43, 1, 1]            43\n",
            "gen/LSTM/43/FC/W:0                [100, 100]         10000\n",
            "gen/LSTM/43/FC/b:0                [100]                100\n",
            "gen/LSTM/43/FC2/W:0               [100, 5]             500\n",
            "gen/LSTM/43/FC2/b:0               [5]                    5\n",
            "gen/LSTM/43/FC3/W:0               [5, 100]             500\n",
            "gen/LSTM/43/FC3/b:0               [100]                100\n",
            "gen/LSTM/43/attw:0                [44, 1, 1]            44\n",
            "gen/LSTM/44/FC/W:0                [100, 100]         10000\n",
            "gen/LSTM/44/FC/b:0                [100]                100\n",
            "gen/LSTM/44/FC2/W:0               [100, 1]             100\n",
            "gen/LSTM/44/FC2/b:0               [1]                    1\n",
            "gen/LSTM/44/attw:0                [45, 1, 1]            45\n",
            "gen/LSTM/45/FC/W:0                [100, 100]         10000\n",
            "gen/LSTM/45/FC/b:0                [100]                100\n",
            "gen/LSTM/45/FC2/W:0               [100, 5]             500\n",
            "gen/LSTM/45/FC2/b:0               [5]                    5\n",
            "gen/LSTM/45/FC3/W:0               [5, 100]             500\n",
            "gen/LSTM/45/FC3/b:0               [100]                100\n",
            "gen/LSTM/45/attw:0                [46, 1, 1]            46\n",
            "gen/LSTM/46/FC/W:0                [100, 100]         10000\n",
            "gen/LSTM/46/FC/b:0                [100]                100\n",
            "gen/LSTM/46/FC2/W:0               [100, 1]             100\n",
            "gen/LSTM/46/FC2/b:0               [1]                    1\n",
            "gen/LSTM/46/attw:0                [47, 1, 1]            47\n",
            "gen/LSTM/47/FC/W:0                [100, 100]         10000\n",
            "gen/LSTM/47/FC/b:0                [100]                100\n",
            "gen/LSTM/47/FC2/W:0               [100, 5]             500\n",
            "gen/LSTM/47/FC2/b:0               [5]                    5\n",
            "gen/LSTM/47/FC3/W:0               [5, 100]             500\n",
            "gen/LSTM/47/FC3/b:0               [100]                100\n",
            "gen/LSTM/47/attw:0                [48, 1, 1]            48\n",
            "gen/LSTM/48/FC/W:0                [100, 100]         10000\n",
            "gen/LSTM/48/FC/b:0                [100]                100\n",
            "gen/LSTM/48/FC2/W:0               [100, 1]             100\n",
            "gen/LSTM/48/FC2/b:0               [1]                    1\n",
            "gen/LSTM/48/attw:0                [49, 1, 1]            49\n",
            "gen/LSTM/49/FC/W:0                [100, 100]         10000\n",
            "gen/LSTM/49/FC/b:0                [100]                100\n",
            "gen/LSTM/49/FC2/W:0               [100, 5]             500\n",
            "gen/LSTM/49/FC2/b:0               [5]                    5\n",
            "gen/LSTM/49/FC3/W:0               [5, 100]             500\n",
            "gen/LSTM/49/FC3/b:0               [100]                100\n",
            "gen/LSTM/49/attw:0                [50, 1, 1]            50\n",
            "gen/LSTM/50/FC/W:0                [100, 100]         10000\n",
            "gen/LSTM/50/FC/b:0                [100]                100\n",
            "gen/LSTM/50/FC2/W:0               [100, 1]             100\n",
            "gen/LSTM/50/FC2/b:0               [1]                    1\n",
            "gen/LSTM/50/attw:0                [51, 1, 1]            51\n",
            "gen/LSTM/51/FC/W:0                [100, 100]         10000\n",
            "gen/LSTM/51/FC/b:0                [100]                100\n",
            "gen/LSTM/51/FC2/W:0               [100, 5]             500\n",
            "gen/LSTM/51/FC2/b:0               [5]                    5\n",
            "gen/LSTM/51/FC3/W:0               [5, 100]             500\n",
            "gen/LSTM/51/FC3/b:0               [100]                100\n",
            "gen/LSTM/51/attw:0                [52, 1, 1]            52\n",
            "gen/LSTM/52/FC/W:0                [100, 100]         10000\n",
            "gen/LSTM/52/FC/b:0                [100]                100\n",
            "gen/LSTM/52/FC2/W:0               [100, 1]             100\n",
            "gen/LSTM/52/FC2/b:0               [1]                    1\n",
            "gen/LSTM/52/attw:0                [53, 1, 1]            53\n",
            "gen/LSTM/53/FC/W:0                [100, 100]         10000\n",
            "gen/LSTM/53/FC/b:0                [100]                100\n",
            "gen/LSTM/53/FC2/W:0               [100, 5]             500\n",
            "gen/LSTM/53/FC2/b:0               [5]                    5\n",
            "gen/LSTM/53/FC3/W:0               [5, 100]             500\n",
            "gen/LSTM/53/FC3/b:0               [100]                100\n",
            "gen/LSTM/53/attw:0                [54, 1, 1]            54\n",
            "gen/LSTM/54/FC/W:0                [100, 100]         10000\n",
            "gen/LSTM/54/FC/b:0                [100]                100\n",
            "gen/LSTM/54/FC2/W:0               [100, 1]             100\n",
            "gen/LSTM/54/FC2/b:0               [1]                    1\n",
            "gen/LSTM/54/attw:0                [55, 1, 1]            55\n",
            "gen/LSTM/55/FC/W:0                [100, 100]         10000\n",
            "gen/LSTM/55/FC/b:0                [100]                100\n",
            "gen/LSTM/55/FC2/W:0               [100, 5]             500\n",
            "gen/LSTM/55/FC2/b:0               [5]                    5\n",
            "gen/LSTM/55/FC3/W:0               [5, 100]             500\n",
            "gen/LSTM/55/FC3/b:0               [100]                100\n",
            "gen/LSTM/55/attw:0                [56, 1, 1]            56\n",
            "gen/LSTM/56/FC/W:0                [100, 100]         10000\n",
            "gen/LSTM/56/FC/b:0                [100]                100\n",
            "gen/LSTM/56/FC2/W:0               [100, 1]             100\n",
            "gen/LSTM/56/FC2/b:0               [1]                    1\n",
            "gen/LSTM/56/attw:0                [57, 1, 1]            57\n",
            "gen/LSTM/57/FC/W:0                [100, 100]         10000\n",
            "gen/LSTM/57/FC/b:0                [100]                100\n",
            "gen/LSTM/57/FC2/W:0               [100, 5]             500\n",
            "gen/LSTM/57/FC2/b:0               [5]                    5\n",
            "gen/LSTM/57/FC3/W:0               [5, 100]             500\n",
            "gen/LSTM/57/FC3/b:0               [100]                100\n",
            "gen/LSTM/57/attw:0                [58, 1, 1]            58\n",
            "gen/LSTM/58/FC/W:0                [100, 100]         10000\n",
            "gen/LSTM/58/FC/b:0                [100]                100\n",
            "gen/LSTM/58/FC2/W:0               [100, 1]             100\n",
            "gen/LSTM/58/FC2/b:0               [1]                    1\n",
            "gen/LSTM/58/attw:0                [59, 1, 1]            59\n",
            "gen/LSTM/59/FC/W:0                [100, 100]         10000\n",
            "gen/LSTM/59/FC/b:0                [100]                100\n",
            "gen/LSTM/59/FC2/W:0               [100, 5]             500\n",
            "gen/LSTM/59/FC2/b:0               [5]                    5\n",
            "gen/LSTM/59/FC3/W:0               [5, 100]             500\n",
            "gen/LSTM/59/FC3/b:0               [100]                100\n",
            "gen/LSTM/59/attw:0                [60, 1, 1]            60\n",
            "gen/LSTM/60/FC/W:0                [100, 100]         10000\n",
            "gen/LSTM/60/FC/b:0                [100]                100\n",
            "gen/LSTM/60/FC2/W:0               [100, 1]             100\n",
            "gen/LSTM/60/FC2/b:0               [1]                    1\n",
            "gen/LSTM/60/attw:0                [61, 1, 1]            61\n",
            "gen/LSTM/61/FC/W:0                [100, 100]         10000\n",
            "gen/LSTM/61/FC/b:0                [100]                100\n",
            "gen/LSTM/61/FC2/W:0               [100, 5]             500\n",
            "gen/LSTM/61/FC2/b:0               [5]                    5\n",
            "gen/LSTM/61/FC3/W:0               [5, 100]             500\n",
            "gen/LSTM/61/FC3/b:0               [100]                100\n",
            "gen/LSTM/61/attw:0                [62, 1, 1]            62\n",
            "gen/LSTM/62/FC/W:0                [100, 100]         10000\n",
            "gen/LSTM/62/FC/b:0                [100]                100\n",
            "gen/LSTM/62/FC2/W:0               [100, 1]             100\n",
            "gen/LSTM/62/FC2/b:0               [1]                    1\n",
            "gen/LSTM/62/attw:0                [63, 1, 1]            63\n",
            "gen/LSTM/63/FC/W:0                [100, 100]         10000\n",
            "gen/LSTM/63/FC/b:0                [100]                100\n",
            "gen/LSTM/63/FC2/W:0               [100, 5]             500\n",
            "gen/LSTM/63/FC2/b:0               [5]                    5\n",
            "gen/LSTM/63/FC3/W:0               [5, 100]             500\n",
            "gen/LSTM/63/FC3/b:0               [100]                100\n",
            "gen/LSTM/63/attw:0                [64, 1, 1]            64\n",
            "gen/LSTM/64/FC/W:0                [100, 100]         10000\n",
            "gen/LSTM/64/FC/b:0                [100]                100\n",
            "gen/LSTM/64/FC2/W:0               [100, 1]             100\n",
            "gen/LSTM/64/FC2/b:0               [1]                    1\n",
            "gen/LSTM/64/attw:0                [65, 1, 1]            65\n",
            "gen/LSTM/65/FC/W:0                [100, 100]         10000\n",
            "gen/LSTM/65/FC/b:0                [100]                100\n",
            "gen/LSTM/65/FC2/W:0               [100, 5]             500\n",
            "gen/LSTM/65/FC2/b:0               [5]                    5\n",
            "gen/LSTM/65/FC3/W:0               [5, 100]             500\n",
            "gen/LSTM/65/FC3/b:0               [100]                100\n",
            "gen/LSTM/65/attw:0                [66, 1, 1]            66\n",
            "gen/LSTM/66/FC/W:0                [100, 100]         10000\n",
            "gen/LSTM/66/FC/b:0                [100]                100\n",
            "gen/LSTM/66/FC2/W:0               [100, 1]             100\n",
            "gen/LSTM/66/FC2/b:0               [1]                    1\n",
            "gen/LSTM/66/attw:0                [67, 1, 1]            67\n",
            "gen/LSTM/67/FC/W:0                [100, 100]         10000\n",
            "gen/LSTM/67/FC/b:0                [100]                100\n",
            "gen/LSTM/67/FC2/W:0               [100, 5]             500\n",
            "gen/LSTM/67/FC2/b:0               [5]                    5\n",
            "gen/LSTM/67/FC3/W:0               [5, 100]             500\n",
            "gen/LSTM/67/FC3/b:0               [100]                100\n",
            "gen/LSTM/67/attw:0                [68, 1, 1]            68\n",
            "gen/LSTM/68/FC/W:0                [100, 100]         10000\n",
            "gen/LSTM/68/FC/b:0                [100]                100\n",
            "gen/LSTM/68/FC2/W:0               [100, 1]             100\n",
            "gen/LSTM/68/FC2/b:0               [1]                    1\n",
            "gen/LSTM/68/attw:0                [69, 1, 1]            69\n",
            "gen/LSTM/69/FC/W:0                [100, 100]         10000\n",
            "gen/LSTM/69/FC/b:0                [100]                100\n",
            "gen/LSTM/69/FC2/W:0               [100, 5]             500\n",
            "gen/LSTM/69/FC2/b:0               [5]                    5\n",
            "gen/LSTM/69/FC3/W:0               [5, 100]             500\n",
            "gen/LSTM/69/FC3/b:0               [100]                100\n",
            "gen/LSTM/69/attw:0                [70, 1, 1]            70\n",
            "gen/LSTM/70/FC/W:0                [100, 100]         10000\n",
            "gen/LSTM/70/FC/b:0                [100]                100\n",
            "gen/LSTM/70/FC2/W:0               [100, 1]             100\n",
            "gen/LSTM/70/FC2/b:0               [1]                    1\n",
            "gen/LSTM/70/attw:0                [71, 1, 1]            71\n",
            "gen/LSTM/71/FC/W:0                [100, 100]         10000\n",
            "gen/LSTM/71/FC/b:0                [100]                100\n",
            "gen/LSTM/71/FC2/W:0               [100, 5]             500\n",
            "gen/LSTM/71/FC2/b:0               [5]                    5\n",
            "gen/LSTM/71/FC3/W:0               [5, 100]             500\n",
            "gen/LSTM/71/FC3/b:0               [100]                100\n",
            "gen/LSTM/71/attw:0                [72, 1, 1]            72\n",
            "gen/LSTM/72/FC/W:0                [100, 100]         10000\n",
            "gen/LSTM/72/FC/b:0                [100]                100\n",
            "gen/LSTM/72/FC2/W:0               [100, 1]             100\n",
            "gen/LSTM/72/FC2/b:0               [1]                    1\n",
            "gen/LSTM/72/attw:0                [73, 1, 1]            73\n",
            "gen/LSTM/73/FC/W:0                [100, 100]         10000\n",
            "gen/LSTM/73/FC/b:0                [100]                100\n",
            "gen/LSTM/73/FC2/W:0               [100, 5]             500\n",
            "gen/LSTM/73/FC2/b:0               [5]                    5\n",
            "gen/LSTM/73/FC3/W:0               [5, 100]             500\n",
            "gen/LSTM/73/FC3/b:0               [100]                100\n",
            "gen/LSTM/73/attw:0                [74, 1, 1]            74\n",
            "gen/LSTM/74/FC/W:0                [100, 100]         10000\n",
            "gen/LSTM/74/FC/b:0                [100]                100\n",
            "gen/LSTM/74/FC2/W:0               [100, 1]             100\n",
            "gen/LSTM/74/FC2/b:0               [1]                    1\n",
            "gen/LSTM/74/attw:0                [75, 1, 1]            75\n",
            "gen/LSTM/75/FC/W:0                [100, 100]         10000\n",
            "gen/LSTM/75/FC/b:0                [100]                100\n",
            "gen/LSTM/75/FC2/W:0               [100, 5]             500\n",
            "gen/LSTM/75/FC2/b:0               [5]                    5\n",
            "gen/LSTM/75/FC3/W:0               [5, 100]             500\n",
            "gen/LSTM/75/FC3/b:0               [100]                100\n",
            "gen/LSTM/75/attw:0                [76, 1, 1]            76\n",
            "gen/LSTM/76/FC/W:0                [100, 100]         10000\n",
            "gen/LSTM/76/FC/b:0                [100]                100\n",
            "gen/LSTM/76/FC2/W:0               [100, 1]             100\n",
            "gen/LSTM/76/FC2/b:0               [1]                    1\n",
            "gen/LSTM/76/attw:0                [77, 1, 1]            77\n",
            "gen/LSTM/77/FC/W:0                [100, 100]         10000\n",
            "gen/LSTM/77/FC/b:0                [100]                100\n",
            "gen/LSTM/77/FC2/W:0               [100, 5]             500\n",
            "gen/LSTM/77/FC2/b:0               [5]                    5\n",
            "gen/LSTM/77/FC3/W:0               [5, 100]             500\n",
            "gen/LSTM/77/FC3/b:0               [100]                100\n",
            "gen/LSTM/77/attw:0                [78, 1, 1]            78\n",
            "gen/LSTM/78/FC/W:0                [100, 100]         10000\n",
            "gen/LSTM/78/FC/b:0                [100]                100\n",
            "gen/LSTM/78/FC2/W:0               [100, 1]             100\n",
            "gen/LSTM/78/FC2/b:0               [1]                    1\n",
            "gen/LSTM/78/attw:0                [79, 1, 1]            79\n",
            "gen/LSTM/79/FC/W:0                [100, 100]         10000\n",
            "gen/LSTM/79/FC/b:0                [100]                100\n",
            "gen/LSTM/79/FC2/W:0               [100, 5]             500\n",
            "gen/LSTM/79/FC2/b:0               [5]                    5\n",
            "gen/LSTM/79/FC3/W:0               [5, 100]             500\n",
            "gen/LSTM/79/FC3/b:0               [100]                100\n",
            "gen/LSTM/79/attw:0                [80, 1, 1]            80\n",
            "gen/LSTM/80/FC/W:0                [100, 100]         10000\n",
            "gen/LSTM/80/FC/b:0                [100]                100\n",
            "gen/LSTM/80/FC2/W:0               [100, 1]             100\n",
            "gen/LSTM/80/FC2/b:0               [1]                    1\n",
            "gen/LSTM/80/attw:0                [81, 1, 1]            81\n",
            "gen/LSTM/81/FC/W:0                [100, 100]         10000\n",
            "gen/LSTM/81/FC/b:0                [100]                100\n",
            "gen/LSTM/81/FC2/W:0               [100, 5]             500\n",
            "gen/LSTM/81/FC2/b:0               [5]                    5\n",
            "gen/LSTM/81/FC3/W:0               [5, 100]             500\n",
            "gen/LSTM/81/FC3/b:0               [100]                100\n",
            "gen/LSTM/81/attw:0                [82, 1, 1]            82\n",
            "gen/LSTM/82/FC/W:0                [100, 100]         10000\n",
            "gen/LSTM/82/FC/b:0                [100]                100\n",
            "gen/LSTM/82/FC2/W:0               [100, 1]             100\n",
            "gen/LSTM/82/FC2/b:0               [1]                    1\n",
            "gen/LSTM/82/attw:0                [83, 1, 1]            83\n",
            "gen/LSTM/83/FC/W:0                [100, 100]         10000\n",
            "gen/LSTM/83/FC/b:0                [100]                100\n",
            "gen/LSTM/83/FC2/W:0               [100, 5]             500\n",
            "gen/LSTM/83/FC2/b:0               [5]                    5\n",
            "gen/LSTM/83/FC3/W:0               [5, 100]             500\n",
            "gen/LSTM/83/FC3/b:0               [100]                100\n",
            "gen/LSTM/83/attw:0                [84, 1, 1]            84\n",
            "gen/LSTM/84/FC/W:0                [100, 100]         10000\n",
            "gen/LSTM/84/FC/b:0                [100]                100\n",
            "gen/LSTM/84/FC2/W:0               [100, 1]             100\n",
            "gen/LSTM/84/FC2/b:0               [1]                    1\n",
            "gen/LSTM/84/attw:0                [85, 1, 1]            85\n",
            "gen/LSTM/85/FC/W:0                [100, 100]         10000\n",
            "gen/LSTM/85/FC/b:0                [100]                100\n",
            "gen/LSTM/85/FC2/W:0               [100, 5]             500\n",
            "gen/LSTM/85/FC2/b:0               [5]                    5\n",
            "gen/LSTM/85/FC3/W:0               [5, 100]             500\n",
            "gen/LSTM/85/FC3/b:0               [100]                100\n",
            "gen/LSTM/85/attw:0                [86, 1, 1]            86\n",
            "gen/LSTM/86/FC/W:0                [100, 100]         10000\n",
            "gen/LSTM/86/FC/b:0                [100]                100\n",
            "gen/LSTM/86/FC2/W:0               [100, 1]             100\n",
            "gen/LSTM/86/FC2/b:0               [1]                    1\n",
            "gen/LSTM/86/attw:0                [87, 1, 1]            87\n",
            "gen/LSTM/87/FC/W:0                [100, 100]         10000\n",
            "gen/LSTM/87/FC/b:0                [100]                100\n",
            "gen/LSTM/87/FC2/W:0               [100, 5]             500\n",
            "gen/LSTM/87/FC2/b:0               [5]                    5\n",
            "gen/LSTM/87/FC3/W:0               [5, 100]             500\n",
            "gen/LSTM/87/FC3/b:0               [100]                100\n",
            "gen/LSTM/87/attw:0                [88, 1, 1]            88\n",
            "gen/LSTM/88/FC/W:0                [100, 100]         10000\n",
            "gen/LSTM/88/FC/b:0                [100]                100\n",
            "gen/LSTM/88/FC2/W:0               [100, 1]             100\n",
            "gen/LSTM/88/FC2/b:0               [1]                    1\n",
            "gen/LSTM/88/attw:0                [89, 1, 1]            89\n",
            "gen/LSTM/89/FC/W:0                [100, 100]         10000\n",
            "gen/LSTM/89/FC/b:0                [100]                100\n",
            "gen/LSTM/89/FC2/W:0               [100, 5]             500\n",
            "gen/LSTM/89/FC2/b:0               [5]                    5\n",
            "gen/LSTM/89/FC3/W:0               [5, 100]             500\n",
            "gen/LSTM/89/FC3/b:0               [100]                100\n",
            "gen/LSTM/89/attw:0                [90, 1, 1]            90\n",
            "gen/LSTM/90/FC/W:0                [100, 100]         10000\n",
            "gen/LSTM/90/FC/b:0                [100]                100\n",
            "gen/LSTM/90/FC2/W:0               [100, 1]             100\n",
            "gen/LSTM/90/FC2/b:0               [1]                    1\n",
            "gen/LSTM/90/attw:0                [91, 1, 1]            91\n",
            "gen/LSTM/91/FC/W:0                [100, 100]         10000\n",
            "gen/LSTM/91/FC/b:0                [100]                100\n",
            "gen/LSTM/91/FC2/W:0               [100, 5]             500\n",
            "gen/LSTM/91/FC2/b:0               [5]                    5\n",
            "gen/LSTM/91/FC3/W:0               [5, 100]             500\n",
            "gen/LSTM/91/FC3/b:0               [100]                100\n",
            "gen/LSTM/91/attw:0                [92, 1, 1]            92\n",
            "gen/LSTM/92/FC/W:0                [100, 100]         10000\n",
            "gen/LSTM/92/FC/b:0                [100]                100\n",
            "gen/LSTM/92/FC2/W:0               [100, 1]             100\n",
            "gen/LSTM/92/FC2/b:0               [1]                    1\n",
            "gen/LSTM/92/attw:0                [93, 1, 1]            93\n",
            "gen/LSTM/93/FC/W:0                [100, 100]         10000\n",
            "gen/LSTM/93/FC/b:0                [100]                100\n",
            "gen/LSTM/93/FC2/W:0               [100, 5]             500\n",
            "gen/LSTM/93/FC2/b:0               [5]                    5\n",
            "gen/LSTM/93/FC3/W:0               [5, 100]             500\n",
            "gen/LSTM/93/FC3/b:0               [100]                100\n",
            "gen/LSTM/93/attw:0                [94, 1, 1]            94\n",
            "gen/LSTM/94/FC/W:0                [100, 100]         10000\n",
            "gen/LSTM/94/FC/b:0                [100]                100\n",
            "gen/LSTM/94/FC2/W:0               [100, 1]             100\n",
            "gen/LSTM/94/FC2/b:0               [1]                    1\n",
            "gen/LSTM/94/attw:0                [95, 1, 1]            95\n",
            "gen/LSTM/95/FC/W:0                [100, 100]         10000\n",
            "gen/LSTM/95/FC/b:0                [100]                100\n",
            "gen/LSTM/95/FC2/W:0               [100, 5]             500\n",
            "gen/LSTM/95/FC2/b:0               [5]                    5\n",
            "gen/LSTM/95/FC3/W:0               [5, 100]             500\n",
            "gen/LSTM/95/FC3/b:0               [100]                100\n",
            "gen/LSTM/95/attw:0                [96, 1, 1]            96\n",
            "gen/LSTM/96/FC/W:0                [100, 100]         10000\n",
            "gen/LSTM/96/FC/b:0                [100]                100\n",
            "gen/LSTM/96/FC2/W:0               [100, 1]             100\n",
            "gen/LSTM/96/FC2/b:0               [1]                    1\n",
            "gen/LSTM/96/attw:0                [97, 1, 1]            97\n",
            "gen/LSTM/97/FC/W:0                [100, 100]         10000\n",
            "gen/LSTM/97/FC/b:0                [100]                100\n",
            "gen/LSTM/97/FC2/W:0               [100, 5]             500\n",
            "gen/LSTM/97/FC2/b:0               [5]                    5\n",
            "gen/LSTM/97/FC3/W:0               [5, 100]             500\n",
            "gen/LSTM/97/FC3/b:0               [100]                100\n",
            "gen/LSTM/97/attw:0                [98, 1, 1]            98\n",
            "gen/LSTM/98/FC/W:0                [100, 100]         10000\n",
            "gen/LSTM/98/FC/b:0                [100]                100\n",
            "gen/LSTM/98/FC2/W:0               [100, 1]             100\n",
            "gen/LSTM/98/FC2/b:0               [1]                    1\n",
            "gen/LSTM/98/attw:0                [99, 1, 1]            99\n",
            "gen/LSTM/99/FC/W:0                [100, 100]         10000\n",
            "gen/LSTM/99/FC/b:0                [100]                100\n",
            "gen/LSTM/99/FC2/W:0               [100, 5]             500\n",
            "gen/LSTM/99/FC2/b:0               [5]                    5\n",
            "gen/LSTM/99/FC3/W:0               [5, 100]             500\n",
            "gen/LSTM/99/FC3/b:0               [100]                100\n",
            "gen/LSTM/99/attw:0                [100, 1, 1]          100\n",
            "gen/LSTM/100/FC/W:0               [100, 100]         10000\n",
            "gen/LSTM/100/FC/b:0               [100]                100\n",
            "gen/LSTM/100/FC2/W:0              [100, 1]             100\n",
            "gen/LSTM/100/FC2/b:0              [1]                    1\n",
            "gen/LSTM/100/attw:0               [101, 1, 1]          101\n",
            "gen/LSTM/101/FC/W:0               [100, 100]         10000\n",
            "gen/LSTM/101/FC/b:0               [100]                100\n",
            "gen/LSTM/101/FC2/W:0              [100, 5]             500\n",
            "gen/LSTM/101/FC2/b:0              [5]                    5\n",
            "gen/LSTM/101/FC3/W:0              [5, 100]             500\n",
            "gen/LSTM/101/FC3/b:0              [100]                100\n",
            "gen/LSTM/101/attw:0               [102, 1, 1]          102\n",
            "gen/LSTM/102/FC/W:0               [100, 100]         10000\n",
            "gen/LSTM/102/FC/b:0               [100]                100\n",
            "gen/LSTM/102/FC2/W:0              [100, 1]             100\n",
            "gen/LSTM/102/FC2/b:0              [1]                    1\n",
            "gen/LSTM/102/attw:0               [103, 1, 1]          103\n",
            "gen/LSTM/103/FC/W:0               [100, 100]         10000\n",
            "gen/LSTM/103/FC/b:0               [100]                100\n",
            "gen/LSTM/103/FC2/W:0              [100, 5]             500\n",
            "gen/LSTM/103/FC2/b:0              [5]                    5\n",
            "gen/LSTM/103/FC3/W:0              [5, 100]             500\n",
            "gen/LSTM/103/FC3/b:0              [100]                100\n",
            "gen/LSTM/103/attw:0               [104, 1, 1]          104\n",
            "gen/LSTM/104/FC/W:0               [100, 100]         10000\n",
            "gen/LSTM/104/FC/b:0               [100]                100\n",
            "gen/LSTM/104/FC2/W:0              [100, 1]             100\n",
            "gen/LSTM/104/FC2/b:0              [1]                    1\n",
            "gen/LSTM/104/attw:0               [105, 1, 1]          105\n",
            "gen/LSTM/105/FC/W:0               [100, 100]         10000\n",
            "gen/LSTM/105/FC/b:0               [100]                100\n",
            "gen/LSTM/105/FC2/W:0              [100, 5]             500\n",
            "gen/LSTM/105/FC2/b:0              [5]                    5\n",
            "gen/LSTM/105/FC3/W:0              [5, 100]             500\n",
            "gen/LSTM/105/FC3/b:0              [100]                100\n",
            "gen/LSTM/105/attw:0               [106, 1, 1]          106\n",
            "gen/LSTM/106/FC/W:0               [100, 100]         10000\n",
            "gen/LSTM/106/FC/b:0               [100]                100\n",
            "gen/LSTM/106/FC2/W:0              [100, 1]             100\n",
            "gen/LSTM/106/FC2/b:0              [1]                    1\n",
            "gen/LSTM/106/attw:0               [107, 1, 1]          107\n",
            "gen/LSTM/107/FC/W:0               [100, 100]         10000\n",
            "gen/LSTM/107/FC/b:0               [100]                100\n",
            "gen/LSTM/107/FC2/W:0              [100, 5]             500\n",
            "gen/LSTM/107/FC2/b:0              [5]                    5\n",
            "gen/LSTM/107/FC3/W:0              [5, 100]             500\n",
            "gen/LSTM/107/FC3/b:0              [100]                100\n",
            "gen/LSTM/107/attw:0               [108, 1, 1]          108\n",
            "gen/LSTM/108/FC/W:0               [100, 100]         10000\n",
            "gen/LSTM/108/FC/b:0               [100]                100\n",
            "gen/LSTM/108/FC2/W:0              [100, 1]             100\n",
            "gen/LSTM/108/FC2/b:0              [1]                    1\n",
            "gen/LSTM/108/attw:0               [109, 1, 1]          109\n",
            "gen/LSTM/109/FC/W:0               [100, 100]         10000\n",
            "gen/LSTM/109/FC/b:0               [100]                100\n",
            "gen/LSTM/109/FC2/W:0              [100, 5]             500\n",
            "gen/LSTM/109/FC2/b:0              [5]                    5\n",
            "gen/LSTM/109/FC3/W:0              [5, 100]             500\n",
            "gen/LSTM/109/FC3/b:0              [100]                100\n",
            "gen/LSTM/109/attw:0               [110, 1, 1]          110\n",
            "gen/LSTM/110/FC/W:0               [100, 100]         10000\n",
            "gen/LSTM/110/FC/b:0               [100]                100\n",
            "gen/LSTM/110/FC2/W:0              [100, 1]             100\n",
            "gen/LSTM/110/FC2/b:0              [1]                    1\n",
            "gen/LSTM/110/attw:0               [111, 1, 1]          111\n",
            "gen/LSTM/111/FC/W:0               [100, 100]         10000\n",
            "gen/LSTM/111/FC/b:0               [100]                100\n",
            "gen/LSTM/111/FC2/W:0              [100, 5]             500\n",
            "gen/LSTM/111/FC2/b:0              [5]                    5\n",
            "gen/LSTM/111/FC3/W:0              [5, 100]             500\n",
            "gen/LSTM/111/FC3/b:0              [100]                100\n",
            "gen/LSTM/111/attw:0               [112, 1, 1]          112\n",
            "gen/LSTM/112/FC/W:0               [100, 100]         10000\n",
            "gen/LSTM/112/FC/b:0               [100]                100\n",
            "gen/LSTM/112/FC2/W:0              [100, 1]             100\n",
            "gen/LSTM/112/FC2/b:0              [1]                    1\n",
            "gen/LSTM/112/attw:0               [113, 1, 1]          113\n",
            "gen/LSTM/113/FC/W:0               [100, 100]         10000\n",
            "gen/LSTM/113/FC/b:0               [100]                100\n",
            "gen/LSTM/113/FC2/W:0              [100, 5]             500\n",
            "gen/LSTM/113/FC2/b:0              [5]                    5\n",
            "gen/LSTM/113/FC3/W:0              [5, 100]             500\n",
            "gen/LSTM/113/FC3/b:0              [100]                100\n",
            "gen/LSTM/113/attw:0               [114, 1, 1]          114\n",
            "gen/LSTM/114/FC/W:0               [100, 100]         10000\n",
            "gen/LSTM/114/FC/b:0               [100]                100\n",
            "gen/LSTM/114/FC2/W:0              [100, 1]             100\n",
            "gen/LSTM/114/FC2/b:0              [1]                    1\n",
            "gen/LSTM/114/attw:0               [115, 1, 1]          115\n",
            "gen/LSTM/115/FC/W:0               [100, 100]         10000\n",
            "gen/LSTM/115/FC/b:0               [100]                100\n",
            "gen/LSTM/115/FC2/W:0              [100, 5]             500\n",
            "gen/LSTM/115/FC2/b:0              [5]                    5\n",
            "gen/LSTM/115/FC3/W:0              [5, 100]             500\n",
            "gen/LSTM/115/FC3/b:0              [100]                100\n",
            "gen/LSTM/115/attw:0               [116, 1, 1]          116\n",
            "gen/LSTM/116/FC/W:0               [100, 100]         10000\n",
            "gen/LSTM/116/FC/b:0               [100]                100\n",
            "gen/LSTM/116/FC2/W:0              [100, 1]             100\n",
            "gen/LSTM/116/FC2/b:0              [1]                    1\n",
            "gen/LSTM/116/attw:0               [117, 1, 1]          117\n",
            "gen/LSTM/117/FC/W:0               [100, 100]         10000\n",
            "gen/LSTM/117/FC/b:0               [100]                100\n",
            "gen/LSTM/117/FC2/W:0              [100, 5]             500\n",
            "gen/LSTM/117/FC2/b:0              [5]                    5\n",
            "gen/LSTM/117/FC3/W:0              [5, 100]             500\n",
            "gen/LSTM/117/FC3/b:0              [100]                100\n",
            "gen/LSTM/117/attw:0               [118, 1, 1]          118\n",
            "gen/LSTM/118/FC/W:0               [100, 100]         10000\n",
            "gen/LSTM/118/FC/b:0               [100]                100\n",
            "gen/LSTM/118/FC2/W:0              [100, 1]             100\n",
            "gen/LSTM/118/FC2/b:0              [1]                    1\n",
            "gen/LSTM/118/attw:0               [119, 1, 1]          119\n",
            "gen/LSTM/119/FC/W:0               [100, 100]         10000\n",
            "gen/LSTM/119/FC/b:0               [100]                100\n",
            "gen/LSTM/119/FC2/W:0              [100, 5]             500\n",
            "gen/LSTM/119/FC2/b:0              [5]                    5\n",
            "gen/LSTM/119/FC3/W:0              [5, 100]             500\n",
            "gen/LSTM/119/FC3/b:0              [100]                100\n",
            "gen/LSTM/119/attw:0               [120, 1, 1]          120\n",
            "gen/LSTM/120/FC/W:0               [100, 100]         10000\n",
            "gen/LSTM/120/FC/b:0               [100]                100\n",
            "gen/LSTM/120/FC2/W:0              [100, 1]             100\n",
            "gen/LSTM/120/FC2/b:0              [1]                    1\n",
            "gen/LSTM/120/attw:0               [121, 1, 1]          121\n",
            "gen/LSTM/121/FC/W:0               [100, 100]         10000\n",
            "gen/LSTM/121/FC/b:0               [100]                100\n",
            "gen/LSTM/121/FC2/W:0              [100, 5]             500\n",
            "gen/LSTM/121/FC2/b:0              [5]                    5\n",
            "gen/LSTM/121/FC3/W:0              [5, 100]             500\n",
            "gen/LSTM/121/FC3/b:0              [100]                100\n",
            "gen/LSTM/121/attw:0               [122, 1, 1]          122\n",
            "gen/LSTM/122/FC/W:0               [100, 100]         10000\n",
            "gen/LSTM/122/FC/b:0               [100]                100\n",
            "gen/LSTM/122/FC2/W:0              [100, 1]             100\n",
            "gen/LSTM/122/FC2/b:0              [1]                    1\n",
            "gen/LSTM/122/attw:0               [123, 1, 1]          123\n",
            "gen/LSTM/123/FC/W:0               [100, 100]         10000\n",
            "gen/LSTM/123/FC/b:0               [100]                100\n",
            "gen/LSTM/123/FC2/W:0              [100, 5]             500\n",
            "gen/LSTM/123/FC2/b:0              [5]                    5\n",
            "gen/LSTM/123/FC3/W:0              [5, 100]             500\n",
            "gen/LSTM/123/FC3/b:0              [100]                100\n",
            "gen/LSTM/123/attw:0               [124, 1, 1]          124\n",
            "discrim/dis_fc0/fc/W:0            [372, 100]         37200\n",
            "discrim/dis_fc0/fc/b:0            [100]                100\n",
            "discrim/dis_fc0/fc_diversity/W:0  [100, 100]         10000\n",
            "discrim/dis_fc0/fc_diversity/b:0  [100]                100\n",
            "discrim/dis_fc0/bn/beta:0         [110]                110\n",
            "discrim/dis_fc_top/W:0            [110, 1]             110\n",
            "discrim/dis_fc_top/b:0            [1]                    1\u001b[36m\n",
            "Number of trainable variables: 754\n",
            "Number of parameters (elements): 1583043\n",
            "Storage space needed for all trainable variables: 6.04MB\u001b[0m\n",
            "\u001b[32m[0805 22:58:16 @base.py:209]\u001b[0m Setup callbacks graph ...\n",
            "WARNING:tensorflow:From /usr/local/lib/python3.7/dist-packages/tensorpack/callbacks/graph.py:54: The name tf.train.SessionRunArgs is deprecated. Please use tf.estimator.SessionRunArgs instead.\n",
            "\n"
          ]
        },
        {
          "output_type": "stream",
          "name": "stderr",
          "text": [
            "WARNING:tensorflow:From /usr/local/lib/python3.7/dist-packages/tensorpack/callbacks/graph.py:54: The name tf.train.SessionRunArgs is deprecated. Please use tf.estimator.SessionRunArgs instead.\n",
            "\n"
          ]
        },
        {
          "output_type": "stream",
          "name": "stdout",
          "text": [
            "WARNING:tensorflow:From /usr/local/lib/python3.7/dist-packages/tensorpack/tfutils/common.py:75: The name tf.VariableScope is deprecated. Please use tf.compat.v1.VariableScope instead.\n",
            "\n"
          ]
        },
        {
          "output_type": "stream",
          "name": "stderr",
          "text": [
            "WARNING:tensorflow:From /usr/local/lib/python3.7/dist-packages/tensorpack/tfutils/common.py:75: The name tf.VariableScope is deprecated. Please use tf.compat.v1.VariableScope instead.\n",
            "\n"
          ]
        },
        {
          "output_type": "stream",
          "name": "stdout",
          "text": [
            "WARNING:tensorflow:From /usr/local/lib/python3.7/dist-packages/tensorpack/tfutils/common.py:77: The name tf.train.get_or_create_global_step is deprecated. Please use tf.compat.v1.train.get_or_create_global_step instead.\n",
            "\n"
          ]
        },
        {
          "output_type": "stream",
          "name": "stderr",
          "text": [
            "WARNING:tensorflow:From /usr/local/lib/python3.7/dist-packages/tensorpack/tfutils/common.py:77: The name tf.train.get_or_create_global_step is deprecated. Please use tf.compat.v1.train.get_or_create_global_step instead.\n",
            "\n"
          ]
        },
        {
          "output_type": "stream",
          "name": "stdout",
          "text": [
            "WARNING:tensorflow:From /usr/local/lib/python3.7/dist-packages/tensorpack/callbacks/steps.py:117: The name tf.assign_add is deprecated. Please use tf.compat.v1.assign_add instead.\n",
            "\n"
          ]
        },
        {
          "output_type": "stream",
          "name": "stderr",
          "text": [
            "WARNING:tensorflow:From /usr/local/lib/python3.7/dist-packages/tensorpack/callbacks/steps.py:117: The name tf.assign_add is deprecated. Please use tf.compat.v1.assign_add instead.\n",
            "\n"
          ]
        },
        {
          "output_type": "stream",
          "name": "stdout",
          "text": [
            "WARNING:tensorflow:From /usr/local/lib/python3.7/dist-packages/tensorpack/callbacks/saver.py:55: The name tf.train.Saver is deprecated. Please use tf.compat.v1.train.Saver instead.\n",
            "\n"
          ]
        },
        {
          "output_type": "stream",
          "name": "stderr",
          "text": [
            "WARNING:tensorflow:From /usr/local/lib/python3.7/dist-packages/tensorpack/callbacks/saver.py:55: The name tf.train.Saver is deprecated. Please use tf.compat.v1.train.Saver instead.\n",
            "\n"
          ]
        },
        {
          "output_type": "stream",
          "name": "stdout",
          "text": [
            "WARNING:tensorflow:From /usr/local/lib/python3.7/dist-packages/tensorpack/callbacks/saver.py:59: The name tf.train.SaverDef is deprecated. Please use tf.compat.v1.train.SaverDef instead.\n",
            "\n"
          ]
        },
        {
          "output_type": "stream",
          "name": "stderr",
          "text": [
            "WARNING:tensorflow:From /usr/local/lib/python3.7/dist-packages/tensorpack/callbacks/saver.py:59: The name tf.train.SaverDef is deprecated. Please use tf.compat.v1.train.SaverDef instead.\n",
            "\n"
          ]
        },
        {
          "output_type": "stream",
          "name": "stdout",
          "text": [
            "\u001b[32m[0805 22:58:18 @summary.py:46]\u001b[0m [MovingAverageSummary] 6 operations in collection 'MOVING_SUMMARY_OPS' will be run with session hooks.\n",
            "\u001b[32m[0805 22:58:18 @summary.py:93]\u001b[0m Summarizing collection 'summaries' of size 9.\n",
            "WARNING:tensorflow:From /usr/local/lib/python3.7/dist-packages/tensorpack/callbacks/summary.py:94: The name tf.summary.merge_all is deprecated. Please use tf.compat.v1.summary.merge_all instead.\n",
            "\n"
          ]
        },
        {
          "output_type": "stream",
          "name": "stderr",
          "text": [
            "WARNING:tensorflow:From /usr/local/lib/python3.7/dist-packages/tensorpack/callbacks/summary.py:94: The name tf.summary.merge_all is deprecated. Please use tf.compat.v1.summary.merge_all instead.\n",
            "\n"
          ]
        },
        {
          "output_type": "stream",
          "name": "stdout",
          "text": [
            "\u001b[32m[0805 22:58:18 @graph.py:98]\u001b[0m Applying collection UPDATE_OPS of 4 ops.\n",
            "WARNING:tensorflow:From /usr/local/lib/python3.7/dist-packages/tensorpack/callbacks/monitor.py:261: The name tf.summary.FileWriter is deprecated. Please use tf.compat.v1.summary.FileWriter instead.\n",
            "\n"
          ]
        },
        {
          "output_type": "stream",
          "name": "stderr",
          "text": [
            "WARNING:tensorflow:From /usr/local/lib/python3.7/dist-packages/tensorpack/callbacks/monitor.py:261: The name tf.summary.FileWriter is deprecated. Please use tf.compat.v1.summary.FileWriter instead.\n",
            "\n"
          ]
        },
        {
          "output_type": "stream",
          "name": "stdout",
          "text": [
            "\u001b[32m[0805 22:58:25 @base.py:230]\u001b[0m Creating the session ...\n",
            "WARNING:tensorflow:From /usr/local/lib/python3.7/dist-packages/tensorpack/tfutils/sesscreate.py:42: The name tf.Session is deprecated. Please use tf.compat.v1.Session instead.\n",
            "\n"
          ]
        },
        {
          "output_type": "stream",
          "name": "stderr",
          "text": [
            "WARNING:tensorflow:From /usr/local/lib/python3.7/dist-packages/tensorpack/tfutils/sesscreate.py:42: The name tf.Session is deprecated. Please use tf.compat.v1.Session instead.\n",
            "\n"
          ]
        },
        {
          "output_type": "stream",
          "name": "stdout",
          "text": [
            "WARNING:tensorflow:From /usr/local/lib/python3.7/dist-packages/tensorpack/tfutils/sesscreate.py:71: The name tf.global_variables_initializer is deprecated. Please use tf.compat.v1.global_variables_initializer instead.\n",
            "\n"
          ]
        },
        {
          "output_type": "stream",
          "name": "stderr",
          "text": [
            "WARNING:tensorflow:From /usr/local/lib/python3.7/dist-packages/tensorpack/tfutils/sesscreate.py:71: The name tf.global_variables_initializer is deprecated. Please use tf.compat.v1.global_variables_initializer instead.\n",
            "\n"
          ]
        },
        {
          "output_type": "stream",
          "name": "stdout",
          "text": [
            "WARNING:tensorflow:From /usr/local/lib/python3.7/dist-packages/tensorpack/tfutils/sesscreate.py:62: get_backward_walk_ops (from tensorflow.contrib.graph_editor.select) is deprecated and will be removed after 2019-06-06.\n",
            "Instructions for updating:\n",
            "Please use tensorflow.python.ops.op_selector.get_backward_walk_ops.\n"
          ]
        },
        {
          "output_type": "stream",
          "name": "stderr",
          "text": [
            "WARNING:tensorflow:From /usr/local/lib/python3.7/dist-packages/tensorpack/tfutils/sesscreate.py:62: get_backward_walk_ops (from tensorflow.contrib.graph_editor.select) is deprecated and will be removed after 2019-06-06.\n",
            "Instructions for updating:\n",
            "Please use tensorflow.python.ops.op_selector.get_backward_walk_ops.\n"
          ]
        },
        {
          "output_type": "stream",
          "name": "stdout",
          "text": [
            "WARNING:tensorflow:From /usr/local/lib/python3.7/dist-packages/tensorpack/tfutils/sesscreate.py:72: The name tf.local_variables_initializer is deprecated. Please use tf.compat.v1.local_variables_initializer instead.\n",
            "\n"
          ]
        },
        {
          "output_type": "stream",
          "name": "stderr",
          "text": [
            "WARNING:tensorflow:From /usr/local/lib/python3.7/dist-packages/tensorpack/tfutils/sesscreate.py:72: The name tf.local_variables_initializer is deprecated. Please use tf.compat.v1.local_variables_initializer instead.\n",
            "\n"
          ]
        },
        {
          "output_type": "stream",
          "name": "stdout",
          "text": [
            "WARNING:tensorflow:From /usr/local/lib/python3.7/dist-packages/tensorpack/tfutils/sesscreate.py:73: The name tf.tables_initializer is deprecated. Please use tf.compat.v1.tables_initializer instead.\n",
            "\n"
          ]
        },
        {
          "output_type": "stream",
          "name": "stderr",
          "text": [
            "WARNING:tensorflow:From /usr/local/lib/python3.7/dist-packages/tensorpack/tfutils/sesscreate.py:73: The name tf.tables_initializer is deprecated. Please use tf.compat.v1.tables_initializer instead.\n",
            "\n"
          ]
        },
        {
          "output_type": "stream",
          "name": "stdout",
          "text": [
            "WARNING:tensorflow:From /usr/local/lib/python3.7/dist-packages/tensorpack/train/base.py:254: The name tf.train.MonitoredSession is deprecated. Please use tf.compat.v1.train.MonitoredSession instead.\n",
            "\n"
          ]
        },
        {
          "output_type": "stream",
          "name": "stderr",
          "text": [
            "WARNING:tensorflow:From /usr/local/lib/python3.7/dist-packages/tensorpack/train/base.py:254: The name tf.train.MonitoredSession is deprecated. Please use tf.compat.v1.train.MonitoredSession instead.\n",
            "\n"
          ]
        },
        {
          "output_type": "stream",
          "name": "stdout",
          "text": [
            "\u001b[32m[0805 22:58:38 @base.py:236]\u001b[0m Initializing the session ...\n",
            "\u001b[32m[0805 22:58:38 @base.py:243]\u001b[0m Graph Finalized.\n",
            "WARNING:tensorflow:From /usr/local/lib/python3.7/dist-packages/tensorpack/tfutils/common.py:89: The name tf.train.global_step is deprecated. Please use tf.compat.v1.train.global_step instead.\n",
            "\n"
          ]
        },
        {
          "output_type": "stream",
          "name": "stderr",
          "text": [
            "WARNING:tensorflow:From /usr/local/lib/python3.7/dist-packages/tensorpack/tfutils/common.py:89: The name tf.train.global_step is deprecated. Please use tf.compat.v1.train.global_step instead.\n",
            "\n"
          ]
        },
        {
          "output_type": "stream",
          "name": "stdout",
          "text": [
            "WARNING:tensorflow:From /usr/local/lib/python3.7/dist-packages/tensorpack/tfutils/common.py:90: The name tf.get_default_session is deprecated. Please use tf.compat.v1.get_default_session instead.\n",
            "\n"
          ]
        },
        {
          "output_type": "stream",
          "name": "stderr",
          "text": [
            "WARNING:tensorflow:From /usr/local/lib/python3.7/dist-packages/tensorpack/tfutils/common.py:90: The name tf.get_default_session is deprecated. Please use tf.compat.v1.get_default_session instead.\n",
            "\n"
          ]
        },
        {
          "output_type": "stream",
          "name": "stdout",
          "text": [
            "\u001b[32m[0805 22:58:39 @concurrency.py:38]\u001b[0m Starting EnqueueThread QueueInput/input_queue ...\n",
            "WARNING:tensorflow:From /usr/local/lib/python3.7/dist-packages/tensorpack/callbacks/monitor.py:309: The name tf.gfile.Exists is deprecated. Please use tf.io.gfile.exists instead.\n",
            "\n"
          ]
        },
        {
          "output_type": "stream",
          "name": "stderr",
          "text": [
            "WARNING:tensorflow:From /usr/local/lib/python3.7/dist-packages/tensorpack/callbacks/monitor.py:309: The name tf.gfile.Exists is deprecated. Please use tf.io.gfile.exists instead.\n",
            "\n"
          ]
        },
        {
          "output_type": "stream",
          "name": "stdout",
          "text": [
            "\u001b[32m[0805 22:58:43 @base.py:275]\u001b[0m Start Epoch 1 ...\n"
          ]
        },
        {
          "output_type": "stream",
          "name": "stderr",
          "text": [
            "100%|#########9|9999/10000[5:21:04<00:01, 0.53it/s]"
          ]
        },
        {
          "output_type": "stream",
          "name": "stdout",
          "text": [
            "WARNING:tensorflow:From /usr/local/lib/python3.7/dist-packages/tensorpack/callbacks/monitor.py:148: The name tf.Summary is deprecated. Please use tf.compat.v1.Summary instead.\n",
            "\n"
          ]
        },
        {
          "output_type": "stream",
          "name": "stderr",
          "text": [
            "WARNING:tensorflow:From /usr/local/lib/python3.7/dist-packages/tensorpack/callbacks/monitor.py:148: The name tf.Summary is deprecated. Please use tf.compat.v1.Summary instead.\n",
            "\n",
            "100%|##########|10000/10000[5:21:34<00:00, 0.52it/s]"
          ]
        },
        {
          "output_type": "stream",
          "name": "stdout",
          "text": [
            "\u001b[32m[0806 04:20:17 @base.py:285]\u001b[0m Epoch 1 (global_step 10000) finished, time:5 hours 21 minutes 34 seconds.\n",
            "WARNING:tensorflow:From /usr/local/lib/python3.7/dist-packages/tensorpack/callbacks/saver.py:77: The name tf.train.get_global_step is deprecated. Please use tf.compat.v1.train.get_global_step instead.\n",
            "\n"
          ]
        },
        {
          "output_type": "stream",
          "name": "stderr",
          "text": [
            "\n",
            "WARNING:tensorflow:From /usr/local/lib/python3.7/dist-packages/tensorpack/callbacks/saver.py:77: The name tf.train.get_global_step is deprecated. Please use tf.compat.v1.train.get_global_step instead.\n",
            "\n"
          ]
        },
        {
          "output_type": "stream",
          "name": "stdout",
          "text": [
            "\u001b[32m[0806 04:20:20 @saver.py:79]\u001b[0m Model saved to output/model/model-10000.\n",
            "\u001b[32m[0806 04:20:20 @monitor.py:467]\u001b[0m GAN_loss/discrim/accuracy_fake: 0.965\n",
            "\u001b[32m[0806 04:20:20 @monitor.py:467]\u001b[0m GAN_loss/discrim/accuracy_real: 0.87\n",
            "\u001b[32m[0806 04:20:20 @monitor.py:467]\u001b[0m GAN_loss/discrim/loss: 0.31061\n",
            "\u001b[32m[0806 04:20:20 @monitor.py:467]\u001b[0m GAN_loss/gen/final-g-loss: 4.4737\n",
            "\u001b[32m[0806 04:20:20 @monitor.py:467]\u001b[0m GAN_loss/gen/klloss: 0.81957\n",
            "\u001b[32m[0806 04:20:20 @monitor.py:467]\u001b[0m GAN_loss/gen/loss: 3.6541\n",
            "\u001b[32m[0806 04:20:20 @monitor.py:467]\u001b[0m QueueInput/queue_size: 50\n",
            "\u001b[32m[0806 04:20:20 @base.py:275]\u001b[0m Start Epoch 2 ...\n"
          ]
        },
        {
          "output_type": "stream",
          "name": "stderr",
          "text": [
            " 18%|#7        |1763/10000[56:18<4:16:31, 0.54it/s]"
          ]
        }
      ]
    },
    {
      "cell_type": "markdown",
      "source": [
        ""
      ],
      "metadata": {
        "id": "jkYl_vSaR6UM"
      }
    },
    {
      "cell_type": "markdown",
      "source": [
        ""
      ],
      "metadata": {
        "id": "-kZCRjscsTh7"
      }
    },
    {
      "cell_type": "markdown",
      "source": [
        ""
      ],
      "metadata": {
        "id": "c3zGKbHqshBc"
      }
    },
    {
      "cell_type": "markdown",
      "source": [
        ""
      ],
      "metadata": {
        "id": "Nvx2d1oXsvq5"
      }
    },
    {
      "cell_type": "markdown",
      "source": [
        ""
      ],
      "metadata": {
        "id": "kLuJ7vvss-UY"
      }
    },
    {
      "cell_type": "markdown",
      "source": [
        ""
      ],
      "metadata": {
        "id": "-UAgJco6tM95"
      }
    },
    {
      "cell_type": "markdown",
      "source": [
        ""
      ],
      "metadata": {
        "id": "q95-FHHftbnd"
      }
    },
    {
      "cell_type": "markdown",
      "source": [
        ""
      ],
      "metadata": {
        "id": "JrlWePgXtqQ7"
      }
    },
    {
      "cell_type": "markdown",
      "source": [
        ""
      ],
      "metadata": {
        "id": "-Ik4SCkOt46Y"
      }
    },
    {
      "cell_type": "markdown",
      "source": [
        ""
      ],
      "metadata": {
        "id": "Kr_E5HpguHj2"
      }
    },
    {
      "cell_type": "markdown",
      "source": [
        ""
      ],
      "metadata": {
        "id": "YCpsDZSHuWNm"
      }
    },
    {
      "cell_type": "markdown",
      "source": [
        ""
      ],
      "metadata": {
        "id": "n9t5DwpOuk20"
      }
    },
    {
      "cell_type": "markdown",
      "source": [
        ""
      ],
      "metadata": {
        "id": "ADc9U-oEuzgh"
      }
    },
    {
      "cell_type": "markdown",
      "source": [
        ""
      ],
      "metadata": {
        "id": "PSB1WqrKvCKC"
      }
    },
    {
      "cell_type": "markdown",
      "source": [
        ""
      ],
      "metadata": {
        "id": "1ZccAdN2vQzc"
      }
    },
    {
      "cell_type": "markdown",
      "source": [
        ""
      ],
      "metadata": {
        "id": "CU_2QfE-vfcz"
      }
    },
    {
      "cell_type": "markdown",
      "source": [
        ""
      ],
      "metadata": {
        "id": "DoZH67qOvuGe"
      }
    },
    {
      "cell_type": "markdown",
      "source": [
        ""
      ],
      "metadata": {
        "id": "ws7qE1esv8v2"
      }
    },
    {
      "cell_type": "markdown",
      "source": [
        ""
      ],
      "metadata": {
        "id": "lTj6Iw4cwLZb"
      }
    },
    {
      "cell_type": "markdown",
      "source": [
        ""
      ],
      "metadata": {
        "id": "WsfdjVpxwaC6"
      }
    },
    {
      "cell_type": "markdown",
      "source": [
        ""
      ],
      "metadata": {
        "id": "hg2esUN_wosZ"
      }
    },
    {
      "cell_type": "markdown",
      "source": [
        ""
      ],
      "metadata": {
        "id": "MNoA8HqYw3V3"
      }
    },
    {
      "cell_type": "markdown",
      "source": [
        ""
      ],
      "metadata": {
        "id": "OPU4HFU3xF_V"
      }
    },
    {
      "cell_type": "markdown",
      "source": [
        ""
      ],
      "metadata": {
        "id": "CCN9prdCxUo0"
      }
    },
    {
      "cell_type": "markdown",
      "source": [
        ""
      ],
      "metadata": {
        "id": "Ommree12xjSU"
      }
    },
    {
      "cell_type": "markdown",
      "source": [
        ""
      ],
      "metadata": {
        "id": "bQVJzY53xx8B"
      }
    },
    {
      "cell_type": "markdown",
      "source": [
        ""
      ],
      "metadata": {
        "id": "_NUaNpuuyAlf"
      }
    },
    {
      "cell_type": "markdown",
      "source": [
        ""
      ],
      "metadata": {
        "id": "OkswopigyPOy"
      }
    },
    {
      "cell_type": "markdown",
      "source": [
        ""
      ],
      "metadata": {
        "id": "G24FW5uFyd4e"
      }
    },
    {
      "cell_type": "markdown",
      "source": [
        ""
      ],
      "metadata": {
        "id": "vCTOa4xtysh6"
      }
    },
    {
      "cell_type": "markdown",
      "source": [
        ""
      ],
      "metadata": {
        "id": "qLI11O7uy7LT"
      }
    },
    {
      "cell_type": "markdown",
      "source": [
        ""
      ],
      "metadata": {
        "id": "_XPrC2lpzJ05"
      }
    },
    {
      "cell_type": "markdown",
      "source": [
        ""
      ],
      "metadata": {
        "id": "09cLXzIuzYeX"
      }
    },
    {
      "cell_type": "markdown",
      "source": [
        ""
      ],
      "metadata": {
        "id": "jzsVuhETznH1"
      }
    },
    {
      "cell_type": "markdown",
      "source": [
        ""
      ],
      "metadata": {
        "id": "I9v55fLBz1xV"
      }
    },
    {
      "cell_type": "markdown",
      "source": [
        ""
      ],
      "metadata": {
        "id": "8iE2cpXA0Ea2"
      }
    },
    {
      "cell_type": "markdown",
      "source": [
        ""
      ],
      "metadata": {
        "id": "IwC_vNIx0TEV"
      }
    },
    {
      "cell_type": "markdown",
      "source": [
        ""
      ],
      "metadata": {
        "id": "dRwI--TE0huC"
      }
    },
    {
      "cell_type": "markdown",
      "source": [
        ""
      ],
      "metadata": {
        "id": "87pDbZh30wXi"
      }
    },
    {
      "cell_type": "markdown",
      "source": [
        ""
      ],
      "metadata": {
        "id": "4Ayan-IO0_BB"
      }
    },
    {
      "cell_type": "markdown",
      "source": [
        ""
      ],
      "metadata": {
        "id": "YEYdBALL1Nqg"
      }
    },
    {
      "cell_type": "markdown",
      "source": [
        ""
      ],
      "metadata": {
        "id": "CMo3yYH81cUA"
      }
    },
    {
      "cell_type": "markdown",
      "source": [
        ""
      ],
      "metadata": {
        "id": "UfoWyCzJ1q9e"
      }
    },
    {
      "cell_type": "markdown",
      "source": [
        ""
      ],
      "metadata": {
        "id": "SAGPr_lh15m6"
      }
    },
    {
      "cell_type": "markdown",
      "source": [
        ""
      ],
      "metadata": {
        "id": "X7yttMl32IQT"
      }
    },
    {
      "cell_type": "markdown",
      "source": [
        ""
      ],
      "metadata": {
        "id": "yYUDfL952W50"
      }
    },
    {
      "cell_type": "markdown",
      "source": [
        ""
      ],
      "metadata": {
        "id": "zwtZ9rGc2ljW"
      }
    },
    {
      "cell_type": "markdown",
      "source": [
        ""
      ],
      "metadata": {
        "id": "c11PkxWZ20M4"
      }
    },
    {
      "cell_type": "markdown",
      "source": [
        ""
      ],
      "metadata": {
        "id": "60Df0z4q3C2W"
      }
    },
    {
      "cell_type": "markdown",
      "source": [
        ""
      ],
      "metadata": {
        "id": "s4hr7yVY3Rf1"
      }
    },
    {
      "cell_type": "markdown",
      "source": [
        ""
      ],
      "metadata": {
        "id": "TS6r5yRX3gJj"
      }
    },
    {
      "cell_type": "markdown",
      "source": [
        ""
      ],
      "metadata": {
        "id": "IfAtSBhc3uzC"
      }
    },
    {
      "cell_type": "markdown",
      "source": [
        ""
      ],
      "metadata": {
        "id": "_LGYnChs39cf"
      }
    },
    {
      "cell_type": "markdown",
      "source": [
        ""
      ],
      "metadata": {
        "id": "2s29ah4a4MF_"
      }
    },
    {
      "cell_type": "markdown",
      "source": [
        ""
      ],
      "metadata": {
        "id": "GGijagO-4ave"
      }
    },
    {
      "cell_type": "markdown",
      "source": [
        ""
      ],
      "metadata": {
        "id": "qIFwrjr_4pY9"
      }
    },
    {
      "cell_type": "markdown",
      "source": [
        ""
      ],
      "metadata": {
        "id": "GKm-eChu44Cc"
      }
    },
    {
      "cell_type": "markdown",
      "source": [
        ""
      ],
      "metadata": {
        "id": "TdYyE95S5Gr5"
      }
    },
    {
      "cell_type": "markdown",
      "source": [
        ""
      ],
      "metadata": {
        "id": "LU6QWb3o5VVX"
      }
    },
    {
      "cell_type": "markdown",
      "source": [
        ""
      ],
      "metadata": {
        "id": "ucYcly-p5j-2"
      }
    },
    {
      "cell_type": "markdown",
      "source": [
        ""
      ],
      "metadata": {
        "id": "0GWb5dd55yoW"
      }
    },
    {
      "cell_type": "markdown",
      "source": [
        ""
      ],
      "metadata": {
        "id": "lHep3eLA6BR2"
      }
    },
    {
      "cell_type": "markdown",
      "source": [
        ""
      ],
      "metadata": {
        "id": "-bbtt7kl6P7k"
      }
    },
    {
      "cell_type": "markdown",
      "source": [
        ""
      ],
      "metadata": {
        "id": "kVHOf8sS6elA"
      }
    },
    {
      "cell_type": "markdown",
      "source": [
        ""
      ],
      "metadata": {
        "id": "Xkq3R8Y_6tOi"
      }
    },
    {
      "cell_type": "markdown",
      "source": [
        ""
      ],
      "metadata": {
        "id": "lxYiyfW1674B"
      }
    },
    {
      "cell_type": "markdown",
      "source": [
        ""
      ],
      "metadata": {
        "id": "qnhHqQVA7Khf"
      }
    },
    {
      "cell_type": "markdown",
      "source": [
        ""
      ],
      "metadata": {
        "id": "KXqSqOTh7ZK-"
      }
    },
    {
      "cell_type": "markdown",
      "source": [
        ""
      ],
      "metadata": {
        "id": "hfG38rve7n0b"
      }
    },
    {
      "cell_type": "markdown",
      "source": [
        ""
      ],
      "metadata": {
        "id": "2lYPNLwC72d1"
      }
    },
    {
      "cell_type": "markdown",
      "source": [
        ""
      ],
      "metadata": {
        "id": "_-nEXle38FHT"
      }
    },
    {
      "cell_type": "markdown",
      "source": [
        ""
      ],
      "metadata": {
        "id": "D3yVVzuz8Tw2"
      }
    },
    {
      "cell_type": "markdown",
      "source": [
        ""
      ],
      "metadata": {
        "id": "XBkWv2Bo8iaX"
      }
    },
    {
      "cell_type": "markdown",
      "source": [
        ""
      ],
      "metadata": {
        "id": "PYHo5scb8xD3"
      }
    },
    {
      "cell_type": "markdown",
      "source": [
        ""
      ],
      "metadata": {
        "id": "mrWx_Cfy8_tl"
      }
    },
    {
      "cell_type": "markdown",
      "source": [
        ""
      ],
      "metadata": {
        "id": "Ddb_OuDW9OXE"
      }
    },
    {
      "cell_type": "markdown",
      "source": [
        ""
      ],
      "metadata": {
        "id": "T1HABbBs9dAg"
      }
    },
    {
      "cell_type": "markdown",
      "source": [
        ""
      ],
      "metadata": {
        "id": "xSIhbXcE9rqB"
      }
    },
    {
      "cell_type": "markdown",
      "source": [
        ""
      ],
      "metadata": {
        "id": "Vtb-KmNZ96Te"
      }
    },
    {
      "cell_type": "markdown",
      "source": [
        ""
      ],
      "metadata": {
        "id": "Fybrfpe6-I8-"
      }
    },
    {
      "cell_type": "markdown",
      "source": [
        ""
      ],
      "metadata": {
        "id": "KKwJcSbI-Xmd"
      }
    },
    {
      "cell_type": "markdown",
      "source": [
        ""
      ],
      "metadata": {
        "id": "U1dzMoHm-mP6"
      }
    },
    {
      "cell_type": "markdown",
      "source": [
        ""
      ],
      "metadata": {
        "id": "iQFfMTZP-05a"
      }
    },
    {
      "cell_type": "markdown",
      "source": [
        ""
      ],
      "metadata": {
        "id": "Mqb11UgR_Di6"
      }
    },
    {
      "cell_type": "markdown",
      "source": [
        ""
      ],
      "metadata": {
        "id": "3MPatBF-_SMY"
      }
    },
    {
      "cell_type": "markdown",
      "source": [
        ""
      ],
      "metadata": {
        "id": "UUV8nVnm_g14"
      }
    },
    {
      "cell_type": "markdown",
      "source": [
        ""
      ],
      "metadata": {
        "id": "jFZw4ueG_vfW"
      }
    },
    {
      "cell_type": "markdown",
      "source": [
        ""
      ],
      "metadata": {
        "id": "FYNDsMxv_-JE"
      }
    },
    {
      "cell_type": "markdown",
      "source": [
        ""
      ],
      "metadata": {
        "id": "TRow4zlaAMyk"
      }
    },
    {
      "cell_type": "markdown",
      "source": [
        ""
      ],
      "metadata": {
        "id": "9S5kr8zLAbcC"
      }
    },
    {
      "cell_type": "markdown",
      "source": [
        ""
      ],
      "metadata": {
        "id": "8GT5ImhxAqFh"
      }
    },
    {
      "cell_type": "markdown",
      "source": [
        ""
      ],
      "metadata": {
        "id": "-QSVqReOA4vA"
      }
    },
    {
      "cell_type": "markdown",
      "source": [
        ""
      ],
      "metadata": {
        "id": "rU4eCsLZBHYe"
      }
    },
    {
      "cell_type": "markdown",
      "source": [
        ""
      ],
      "metadata": {
        "id": "5EdO6gETBWB9"
      }
    },
    {
      "cell_type": "markdown",
      "source": [
        ""
      ],
      "metadata": {
        "id": "-vkBeK_IBkrc"
      }
    },
    {
      "cell_type": "markdown",
      "source": [
        ""
      ],
      "metadata": {
        "id": "EO3FowMpBzU7"
      }
    },
    {
      "cell_type": "markdown",
      "source": [
        ""
      ],
      "metadata": {
        "id": "AU5FYR7vCB-Y"
      }
    },
    {
      "cell_type": "markdown",
      "source": [
        ""
      ],
      "metadata": {
        "id": "osjn4PVWCQn4"
      }
    },
    {
      "cell_type": "markdown",
      "source": [
        ""
      ],
      "metadata": {
        "id": "YS6YcCtfCfRU"
      }
    },
    {
      "cell_type": "markdown",
      "source": [
        ""
      ],
      "metadata": {
        "id": "7f3TD9eECt61"
      }
    },
    {
      "cell_type": "markdown",
      "source": [
        ""
      ],
      "metadata": {
        "id": "TAi2tzG9C8kl"
      }
    },
    {
      "cell_type": "markdown",
      "source": [
        ""
      ],
      "metadata": {
        "id": "gBbjD7KJDLOD"
      }
    },
    {
      "cell_type": "markdown",
      "source": [
        ""
      ],
      "metadata": {
        "id": "ivyShIX3DZ3i"
      }
    },
    {
      "cell_type": "markdown",
      "source": [
        ""
      ],
      "metadata": {
        "id": "94rXLSYGDohB"
      }
    },
    {
      "cell_type": "markdown",
      "source": [
        ""
      ],
      "metadata": {
        "id": "27b4kHwoD3Kb"
      }
    },
    {
      "cell_type": "markdown",
      "source": [
        ""
      ],
      "metadata": {
        "id": "Y9BeaHawEFz8"
      }
    },
    {
      "cell_type": "markdown",
      "source": [
        ""
      ],
      "metadata": {
        "id": "DA7ZOmS9EUde"
      }
    },
    {
      "cell_type": "markdown",
      "source": [
        ""
      ],
      "metadata": {
        "id": "MTXtila7EjG7"
      }
    },
    {
      "cell_type": "markdown",
      "source": [
        ""
      ],
      "metadata": {
        "id": "h6HnjRs0ExwY"
      }
    },
    {
      "cell_type": "markdown",
      "source": [
        ""
      ],
      "metadata": {
        "id": "jqyX_llmFAZ3"
      }
    },
    {
      "cell_type": "markdown",
      "source": [
        ""
      ],
      "metadata": {
        "id": "hZkGnokjFPDY"
      }
    },
    {
      "cell_type": "markdown",
      "source": [
        ""
      ],
      "metadata": {
        "id": "8bbvCfAtFds2"
      }
    },
    {
      "cell_type": "markdown",
      "source": [
        ""
      ],
      "metadata": {
        "id": "xZdd7IzWFsWm"
      }
    },
    {
      "cell_type": "markdown",
      "source": [
        ""
      ],
      "metadata": {
        "id": "UZC3c0KrF7AD"
      }
    },
    {
      "cell_type": "markdown",
      "source": [
        ""
      ],
      "metadata": {
        "id": "883gzme3GJpi"
      }
    },
    {
      "cell_type": "markdown",
      "source": [
        ""
      ],
      "metadata": {
        "id": "W442ECNZGYTA"
      }
    },
    {
      "cell_type": "markdown",
      "source": [
        ""
      ],
      "metadata": {
        "id": "2Dm9KyfGGm8U"
      }
    },
    {
      "cell_type": "markdown",
      "source": [
        ""
      ],
      "metadata": {
        "id": "n213wg6iG1l-"
      }
    },
    {
      "cell_type": "markdown",
      "source": [
        ""
      ],
      "metadata": {
        "id": "aMRCLdfKHEPe"
      }
    },
    {
      "cell_type": "markdown",
      "source": [
        ""
      ],
      "metadata": {
        "id": "-9OHoT22HS48"
      }
    },
    {
      "cell_type": "markdown",
      "source": [
        ""
      ],
      "metadata": {
        "id": "raYedZusHhib"
      }
    },
    {
      "cell_type": "markdown",
      "source": [
        ""
      ],
      "metadata": {
        "id": "onCw55NbHwL5"
      }
    },
    {
      "cell_type": "markdown",
      "source": [
        ""
      ],
      "metadata": {
        "id": "Ru3YZlBWH-1V"
      }
    },
    {
      "cell_type": "markdown",
      "source": [
        ""
      ],
      "metadata": {
        "id": "fm4hY8mIINe3"
      }
    },
    {
      "cell_type": "markdown",
      "source": [
        ""
      ],
      "metadata": {
        "id": "LTtWrbSeIcIo"
      }
    },
    {
      "cell_type": "markdown",
      "source": [
        ""
      ],
      "metadata": {
        "id": "qW2LOzEGIqyG"
      }
    },
    {
      "cell_type": "markdown",
      "source": [
        ""
      ],
      "metadata": {
        "id": "17WWf-oxI5bk"
      }
    },
    {
      "cell_type": "markdown",
      "source": [
        ""
      ],
      "metadata": {
        "id": "mdUU5J-EJIFC"
      }
    },
    {
      "cell_type": "markdown",
      "source": [
        ""
      ],
      "metadata": {
        "id": "J5JC4rBqJWuh"
      }
    },
    {
      "cell_type": "markdown",
      "source": [
        ""
      ],
      "metadata": {
        "id": "tSzdkM-EJlX1"
      }
    },
    {
      "cell_type": "markdown",
      "source": [
        ""
      ],
      "metadata": {
        "id": "WN9TA3gRJ0Be"
      }
    },
    {
      "cell_type": "markdown",
      "source": [
        ""
      ],
      "metadata": {
        "id": "7dvG7ejuKCq8"
      }
    },
    {
      "cell_type": "markdown",
      "source": [
        ""
      ],
      "metadata": {
        "id": "uvIciOeYKRUs"
      }
    },
    {
      "cell_type": "markdown",
      "source": [
        ""
      ],
      "metadata": {
        "id": "dWslY-77Kf96"
      }
    },
    {
      "cell_type": "markdown",
      "source": [
        ""
      ],
      "metadata": {
        "id": "-QYuWhcBKunZ"
      }
    },
    {
      "cell_type": "markdown",
      "source": [
        ""
      ],
      "metadata": {
        "id": "wnW2gCB7K9Q1"
      }
    },
    {
      "cell_type": "markdown",
      "source": [
        ""
      ],
      "metadata": {
        "id": "VqAxEcxhLL6Y"
      }
    },
    {
      "cell_type": "markdown",
      "source": [
        ""
      ],
      "metadata": {
        "id": "0XJTdYDRLaj1"
      }
    },
    {
      "cell_type": "markdown",
      "source": [
        ""
      ],
      "metadata": {
        "id": "9UK8qTgrLpNk"
      }
    },
    {
      "cell_type": "markdown",
      "source": [
        ""
      ],
      "metadata": {
        "id": "jO6IiT3SL33D"
      }
    },
    {
      "cell_type": "markdown",
      "source": [
        ""
      ],
      "metadata": {
        "id": "WFa4ot8AMGgh"
      }
    },
    {
      "cell_type": "markdown",
      "source": [
        ""
      ],
      "metadata": {
        "id": "5xve-TToMVKA"
      }
    },
    {
      "cell_type": "markdown",
      "source": [
        ""
      ],
      "metadata": {
        "id": "toMtP7eSMjze"
      }
    },
    {
      "cell_type": "markdown",
      "source": [
        ""
      ],
      "metadata": {
        "id": "-6BdpSagMyc1"
      }
    },
    {
      "cell_type": "markdown",
      "source": [
        ""
      ],
      "metadata": {
        "id": "j54e6rdhNBGb"
      }
    },
    {
      "cell_type": "markdown",
      "source": [
        ""
      ],
      "metadata": {
        "id": "4N_9qfbRNPv1"
      }
    },
    {
      "cell_type": "markdown",
      "source": [
        ""
      ],
      "metadata": {
        "id": "roDMwmefNeZZ"
      }
    },
    {
      "cell_type": "markdown",
      "source": [
        ""
      ],
      "metadata": {
        "id": "ktPSyZ1CNtC4"
      }
    },
    {
      "cell_type": "markdown",
      "source": [
        ""
      ],
      "metadata": {
        "id": "qjyczZtBN7sX"
      }
    },
    {
      "cell_type": "markdown",
      "source": [
        ""
      ],
      "metadata": {
        "id": "EBawoCaVOKV3"
      }
    },
    {
      "cell_type": "markdown",
      "source": [
        ""
      ],
      "metadata": {
        "id": "odTZpSW_OY_m"
      }
    },
    {
      "cell_type": "markdown",
      "source": [
        ""
      ],
      "metadata": {
        "id": "fyI-t9iOOnpE"
      }
    },
    {
      "cell_type": "markdown",
      "source": [
        ""
      ],
      "metadata": {
        "id": "t0I9RzyFO2Si"
      }
    },
    {
      "cell_type": "markdown",
      "source": [
        ""
      ],
      "metadata": {
        "id": "-IRwAUcmPE8B"
      }
    },
    {
      "cell_type": "markdown",
      "source": [
        ""
      ],
      "metadata": {
        "id": "WJhl27FFPTld"
      }
    },
    {
      "cell_type": "markdown",
      "source": [
        ""
      ],
      "metadata": {
        "id": "AmEIF6AoPiO-"
      }
    },
    {
      "cell_type": "markdown",
      "source": [
        ""
      ],
      "metadata": {
        "id": "2QZPg80cPw4U"
      }
    },
    {
      "cell_type": "markdown",
      "source": [
        ""
      ],
      "metadata": {
        "id": "cZFpZwT5P_h5"
      }
    },
    {
      "cell_type": "markdown",
      "source": [
        ""
      ],
      "metadata": {
        "id": "uZ2I6j69QOLZ"
      }
    },
    {
      "cell_type": "markdown",
      "source": [
        ""
      ],
      "metadata": {
        "id": "0wQMB5VGQc06"
      }
    },
    {
      "cell_type": "markdown",
      "source": [
        ""
      ],
      "metadata": {
        "id": "z93OZolbQreW"
      }
    },
    {
      "cell_type": "markdown",
      "source": [
        ""
      ],
      "metadata": {
        "id": "wqKWizGbQ6H4"
      }
    },
    {
      "cell_type": "markdown",
      "source": [
        ""
      ],
      "metadata": {
        "id": "KSnqC6mtRIxb"
      }
    },
    {
      "cell_type": "markdown",
      "source": [
        ""
      ],
      "metadata": {
        "id": "Gw_p1a_XRXbE"
      }
    },
    {
      "cell_type": "markdown",
      "source": [
        ""
      ],
      "metadata": {
        "id": "hN9tII4TRmEj"
      }
    },
    {
      "cell_type": "markdown",
      "source": [
        ""
      ],
      "metadata": {
        "id": "Bip8drcQR0uA"
      }
    },
    {
      "cell_type": "markdown",
      "source": [
        ""
      ],
      "metadata": {
        "id": "piB0GPN9SDXh"
      }
    },
    {
      "cell_type": "markdown",
      "source": [
        ""
      ],
      "metadata": {
        "id": "zA0Zg2tYSSA-"
      }
    },
    {
      "cell_type": "markdown",
      "source": [
        ""
      ],
      "metadata": {
        "id": "NzhV-M8OSgqd"
      }
    },
    {
      "cell_type": "markdown",
      "source": [
        ""
      ],
      "metadata": {
        "id": "9NqLNbC7SvT6"
      }
    },
    {
      "cell_type": "markdown",
      "source": [
        ""
      ],
      "metadata": {
        "id": "65c1DKnAS99U"
      }
    },
    {
      "cell_type": "markdown",
      "source": [
        ""
      ],
      "metadata": {
        "id": "sMeX560VTMm6"
      }
    },
    {
      "cell_type": "markdown",
      "source": [
        ""
      ],
      "metadata": {
        "id": "NfzDjjjiTbQZ"
      }
    },
    {
      "cell_type": "markdown",
      "source": [
        ""
      ],
      "metadata": {
        "id": "L-s8scw2Tp52"
      }
    },
    {
      "cell_type": "markdown",
      "source": [
        ""
      ],
      "metadata": {
        "id": "2LOUUNhbT4jW"
      }
    },
    {
      "cell_type": "markdown",
      "source": [
        ""
      ],
      "metadata": {
        "id": "X0abI2LbUHNE"
      }
    },
    {
      "cell_type": "markdown",
      "source": [
        ""
      ],
      "metadata": {
        "id": "BlI4MHoIUV2k"
      }
    },
    {
      "cell_type": "markdown",
      "source": [
        ""
      ],
      "metadata": {
        "id": "kP_uVHNiUkgA"
      }
    },
    {
      "cell_type": "markdown",
      "source": [
        ""
      ],
      "metadata": {
        "id": "s8x0aI8lUzJg"
      }
    },
    {
      "cell_type": "markdown",
      "source": [
        ""
      ],
      "metadata": {
        "id": "HLSCQcaOVBy9"
      }
    },
    {
      "cell_type": "markdown",
      "source": [
        ""
      ],
      "metadata": {
        "id": "6Un7rbHGVQce"
      }
    },
    {
      "cell_type": "markdown",
      "source": [
        ""
      ],
      "metadata": {
        "id": "4hwF-3MPVfF7"
      }
    },
    {
      "cell_type": "markdown",
      "source": [
        ""
      ],
      "metadata": {
        "id": "YpWnmBy-VtvV"
      }
    },
    {
      "cell_type": "markdown",
      "source": [
        ""
      ],
      "metadata": {
        "id": "kJaPLPmOV8Y7"
      }
    },
    {
      "cell_type": "markdown",
      "source": [
        ""
      ],
      "metadata": {
        "id": "vwiGOUb7WLCW"
      }
    },
    {
      "cell_type": "markdown",
      "source": [
        ""
      ],
      "metadata": {
        "id": "1zU9Y5e_WZr4"
      }
    },
    {
      "cell_type": "markdown",
      "source": [
        ""
      ],
      "metadata": {
        "id": "2Zb3k2TiWoVW"
      }
    },
    {
      "cell_type": "markdown",
      "source": [
        ""
      ],
      "metadata": {
        "id": "bFu8a8NqW2_D"
      }
    },
    {
      "cell_type": "markdown",
      "source": [
        ""
      ],
      "metadata": {
        "id": "y44XFtOCXFok"
      }
    },
    {
      "cell_type": "markdown",
      "source": [
        ""
      ],
      "metadata": {
        "id": "e2PXcu4jXUSB"
      }
    },
    {
      "cell_type": "markdown",
      "source": [
        ""
      ],
      "metadata": {
        "id": "QvvBY4ETXi7i"
      }
    },
    {
      "cell_type": "markdown",
      "source": [
        ""
      ],
      "metadata": {
        "id": "kpBt_TGVXxlA"
      }
    },
    {
      "cell_type": "markdown",
      "source": [
        ""
      ],
      "metadata": {
        "id": "iV5wNOoiYAOe"
      }
    },
    {
      "cell_type": "markdown",
      "source": [
        ""
      ],
      "metadata": {
        "id": "jZv_PUBgYO3-"
      }
    },
    {
      "cell_type": "markdown",
      "source": [
        ""
      ],
      "metadata": {
        "id": "3xN4MIzjYdhV"
      }
    },
    {
      "cell_type": "markdown",
      "source": [
        ""
      ],
      "metadata": {
        "id": "QVfp1OO6YsK5"
      }
    },
    {
      "cell_type": "markdown",
      "source": [
        ""
      ],
      "metadata": {
        "id": "4hzUDJJVY60Y"
      }
    },
    {
      "cell_type": "markdown",
      "source": [
        ""
      ],
      "metadata": {
        "id": "_9fMNFDIZJd_"
      }
    },
    {
      "cell_type": "markdown",
      "source": [
        ""
      ],
      "metadata": {
        "id": "3623Wsj9ZYHX"
      }
    },
    {
      "cell_type": "markdown",
      "source": [
        ""
      ],
      "metadata": {
        "id": "T3TxYCEJZmw1"
      }
    },
    {
      "cell_type": "markdown",
      "source": [
        ""
      ],
      "metadata": {
        "id": "ex6AXQq5Z1al"
      }
    },
    {
      "cell_type": "markdown",
      "source": [
        ""
      ],
      "metadata": {
        "id": "doF7h2AjaEED"
      }
    },
    {
      "cell_type": "markdown",
      "source": [
        ""
      ],
      "metadata": {
        "id": "SUOmbG9HaStU"
      }
    },
    {
      "cell_type": "markdown",
      "source": [
        ""
      ],
      "metadata": {
        "id": "uYzFHacqahXA"
      }
    },
    {
      "cell_type": "markdown",
      "source": [
        ""
      ],
      "metadata": {
        "id": "SuJ_H1tuawAf"
      }
    },
    {
      "cell_type": "markdown",
      "source": [
        ""
      ],
      "metadata": {
        "id": "7U0RWerCa-p9"
      }
    },
    {
      "cell_type": "markdown",
      "source": [
        ""
      ],
      "metadata": {
        "id": "3i4IceR9bNTc"
      }
    },
    {
      "cell_type": "markdown",
      "source": [
        ""
      ],
      "metadata": {
        "id": "T7oJm8Dxbb88"
      }
    },
    {
      "cell_type": "markdown",
      "source": [
        ""
      ],
      "metadata": {
        "id": "D00L-1uGbqmY"
      }
    },
    {
      "cell_type": "markdown",
      "source": [
        ""
      ],
      "metadata": {
        "id": "83UaGKetb5P5"
      }
    },
    {
      "cell_type": "markdown",
      "source": [
        ""
      ],
      "metadata": {
        "id": "-DqAU_OCcH5Y"
      }
    },
    {
      "cell_type": "markdown",
      "source": [
        ""
      ],
      "metadata": {
        "id": "GVWjQE8vcWi5"
      }
    },
    {
      "cell_type": "markdown",
      "source": [
        ""
      ],
      "metadata": {
        "id": "B6Jyaq7eclMk"
      }
    },
    {
      "cell_type": "markdown",
      "source": [
        ""
      ],
      "metadata": {
        "id": "rO6k-lWIcz2E"
      }
    },
    {
      "cell_type": "markdown",
      "source": [
        ""
      ],
      "metadata": {
        "id": "uFrAo-LVdCfj"
      }
    },
    {
      "cell_type": "markdown",
      "source": [
        ""
      ],
      "metadata": {
        "id": "uIN1SrsndRJB"
      }
    },
    {
      "cell_type": "markdown",
      "source": [
        ""
      ],
      "metadata": {
        "id": "2CQZd-A7dfyg"
      }
    },
    {
      "cell_type": "markdown",
      "source": [
        ""
      ],
      "metadata": {
        "id": "J5Wj9biXdub-"
      }
    },
    {
      "cell_type": "markdown",
      "source": [
        ""
      ],
      "metadata": {
        "id": "gvltKfvpd9Fc"
      }
    },
    {
      "cell_type": "markdown",
      "source": [
        ""
      ],
      "metadata": {
        "id": "pdHa5lSmeLu6"
      }
    },
    {
      "cell_type": "markdown",
      "source": [
        ""
      ],
      "metadata": {
        "id": "vBldoi-8eaYb"
      }
    },
    {
      "cell_type": "markdown",
      "source": [
        ""
      ],
      "metadata": {
        "id": "y7_KgJT7epB5"
      }
    },
    {
      "cell_type": "markdown",
      "source": [
        ""
      ],
      "metadata": {
        "id": "gBLFgUT3e3ra"
      }
    },
    {
      "cell_type": "markdown",
      "source": [
        ""
      ],
      "metadata": {
        "id": "9XC1dPFIfGU7"
      }
    },
    {
      "cell_type": "markdown",
      "source": [
        ""
      ],
      "metadata": {
        "id": "ziGyorETfU-e"
      }
    },
    {
      "cell_type": "markdown",
      "source": [
        ""
      ],
      "metadata": {
        "id": "nfu2zxNdfjoN"
      }
    },
    {
      "cell_type": "markdown",
      "source": [
        ""
      ],
      "metadata": {
        "id": "7NuYwcurfyRu"
      }
    },
    {
      "cell_type": "markdown",
      "source": [
        ""
      ],
      "metadata": {
        "id": "w7KVqiREgA7O"
      }
    },
    {
      "cell_type": "markdown",
      "source": [
        ""
      ],
      "metadata": {
        "id": "u8wV5WUIgPkw"
      }
    },
    {
      "cell_type": "markdown",
      "source": [
        ""
      ],
      "metadata": {
        "id": "Q6yFP2WRgeOR"
      }
    },
    {
      "cell_type": "markdown",
      "source": [
        ""
      ],
      "metadata": {
        "id": "0076oE4Zgs3y"
      }
    },
    {
      "cell_type": "markdown",
      "source": [
        ""
      ],
      "metadata": {
        "id": "DC4CBlGNg7hS"
      }
    },
    {
      "cell_type": "markdown",
      "source": [
        ""
      ],
      "metadata": {
        "id": "GVagLcskhKKs"
      }
    },
    {
      "cell_type": "markdown",
      "source": [
        ""
      ],
      "metadata": {
        "id": "cwJq754rhY0U"
      }
    },
    {
      "cell_type": "markdown",
      "source": [
        ""
      ],
      "metadata": {
        "id": "hIsvpcxPhndz"
      }
    },
    {
      "cell_type": "markdown",
      "source": [
        ""
      ],
      "metadata": {
        "id": "rhsvO7_mh2HV"
      }
    },
    {
      "cell_type": "markdown",
      "source": [
        ""
      ],
      "metadata": {
        "id": "4QOAyTrgiEw3"
      }
    },
    {
      "cell_type": "markdown",
      "source": [
        ""
      ],
      "metadata": {
        "id": "bSzvpBqCiTam"
      }
    },
    {
      "cell_type": "markdown",
      "source": [
        ""
      ],
      "metadata": {
        "id": "XpNvXjjgiiD5"
      }
    },
    {
      "cell_type": "markdown",
      "source": [
        ""
      ],
      "metadata": {
        "id": "zK7c9E7ziwtn"
      }
    },
    {
      "cell_type": "markdown",
      "source": [
        ""
      ],
      "metadata": {
        "id": "mPDry0pri_XD"
      }
    },
    {
      "cell_type": "markdown",
      "source": [
        ""
      ],
      "metadata": {
        "id": "PmR0AJMQjOAq"
      }
    },
    {
      "cell_type": "markdown",
      "source": [
        ""
      ],
      "metadata": {
        "id": "yOrHW5FAjcqL"
      }
    },
    {
      "cell_type": "markdown",
      "source": [
        ""
      ],
      "metadata": {
        "id": "0ggnbURjjrTs"
      }
    },
    {
      "cell_type": "markdown",
      "source": [
        ""
      ],
      "metadata": {
        "id": "nWXAm-1Vj59M"
      }
    },
    {
      "cell_type": "markdown",
      "source": [
        ""
      ],
      "metadata": {
        "id": "6q6ncbgpkImq"
      }
    },
    {
      "cell_type": "markdown",
      "source": [
        ""
      ],
      "metadata": {
        "id": "qvyFNPRNkXQQ"
      }
    },
    {
      "cell_type": "markdown",
      "source": [
        ""
      ],
      "metadata": {
        "id": "4HtZOgn1kl5w"
      }
    },
    {
      "cell_type": "markdown",
      "source": [
        ""
      ],
      "metadata": {
        "id": "KskWyzuQk0jS"
      }
    },
    {
      "cell_type": "markdown",
      "source": [
        ""
      ],
      "metadata": {
        "id": "IHKZxX9RlDMx"
      }
    },
    {
      "cell_type": "markdown",
      "source": [
        ""
      ],
      "metadata": {
        "id": "1ADjUylylR2j"
      }
    },
    {
      "cell_type": "markdown",
      "source": [
        ""
      ],
      "metadata": {
        "id": "L2DncrAblggg"
      }
    },
    {
      "cell_type": "markdown",
      "source": [
        ""
      ],
      "metadata": {
        "id": "tM69Xd49lvJk"
      }
    },
    {
      "cell_type": "markdown",
      "source": [
        ""
      ],
      "metadata": {
        "id": "JLQgC3PFl9zF"
      }
    },
    {
      "cell_type": "markdown",
      "source": [
        ""
      ],
      "metadata": {
        "id": "an3_XQ8-mMcl"
      }
    },
    {
      "cell_type": "markdown",
      "source": [
        ""
      ],
      "metadata": {
        "id": "FhvEm2jymbGH"
      }
    },
    {
      "cell_type": "markdown",
      "source": [
        ""
      ],
      "metadata": {
        "id": "qtAfBj7lmpvi"
      }
    },
    {
      "cell_type": "markdown",
      "source": [
        ""
      ],
      "metadata": {
        "id": "2m57nqLtm4ZJ"
      }
    },
    {
      "cell_type": "markdown",
      "source": [
        ""
      ],
      "metadata": {
        "id": "hIAxgFgfnHCr"
      }
    },
    {
      "cell_type": "markdown",
      "source": [
        ""
      ],
      "metadata": {
        "id": "DCYxWACMnVsO"
      }
    },
    {
      "cell_type": "markdown",
      "source": [
        ""
      ],
      "metadata": {
        "id": "MjVLH9GunkVt"
      }
    },
    {
      "cell_type": "markdown",
      "source": [
        ""
      ],
      "metadata": {
        "id": "iups-F2Wny_N"
      }
    },
    {
      "cell_type": "markdown",
      "source": [
        ""
      ],
      "metadata": {
        "id": "8q9fpnhXoBot"
      }
    },
    {
      "cell_type": "markdown",
      "source": [
        ""
      ],
      "metadata": {
        "id": "9FlJRRIgoQSe"
      }
    },
    {
      "cell_type": "markdown",
      "source": [
        ""
      ],
      "metadata": {
        "id": "7ovI1wYSoe8A"
      }
    },
    {
      "cell_type": "markdown",
      "source": [
        ""
      ],
      "metadata": {
        "id": "sBf0b565otli"
      }
    },
    {
      "cell_type": "markdown",
      "source": [
        ""
      ],
      "metadata": {
        "id": "wIYFuo8To8PD"
      }
    },
    {
      "cell_type": "markdown",
      "source": [
        ""
      ],
      "metadata": {
        "id": "YcltE89SpK4g"
      }
    },
    {
      "cell_type": "markdown",
      "source": [
        ""
      ],
      "metadata": {
        "id": "xs3eCwN_pZiC"
      }
    },
    {
      "cell_type": "markdown",
      "source": [
        ""
      ],
      "metadata": {
        "id": "bSHJsZtXpoLi"
      }
    },
    {
      "cell_type": "markdown",
      "source": [
        ""
      ],
      "metadata": {
        "id": "89Km004ap21N"
      }
    },
    {
      "cell_type": "markdown",
      "source": [
        ""
      ],
      "metadata": {
        "id": "dj50NYnJqFen"
      }
    },
    {
      "cell_type": "markdown",
      "source": [
        ""
      ],
      "metadata": {
        "id": "4t6WPfxHqUIH"
      }
    },
    {
      "cell_type": "markdown",
      "source": [
        ""
      ],
      "metadata": {
        "id": "DPSsrM2_qixh"
      }
    },
    {
      "cell_type": "markdown",
      "source": [
        ""
      ],
      "metadata": {
        "id": "S7PErsCjqxbI"
      }
    },
    {
      "cell_type": "markdown",
      "source": [
        ""
      ],
      "metadata": {
        "id": "SmK0cuYLrAE5"
      }
    },
    {
      "cell_type": "markdown",
      "source": [
        ""
      ],
      "metadata": {
        "id": "sE1iJ5t1rOuM"
      }
    },
    {
      "cell_type": "markdown",
      "source": [
        ""
      ],
      "metadata": {
        "id": "-u9oxOp7rdX-"
      }
    },
    {
      "cell_type": "markdown",
      "source": [
        ""
      ],
      "metadata": {
        "id": "ZPydLxxCrsBd"
      }
    },
    {
      "cell_type": "markdown",
      "source": [
        ""
      ],
      "metadata": {
        "id": "8aupkiGUr6q9"
      }
    },
    {
      "cell_type": "markdown",
      "source": [
        ""
      ],
      "metadata": {
        "id": "OT2VrpFOsJUf"
      }
    },
    {
      "cell_type": "markdown",
      "source": [
        ""
      ],
      "metadata": {
        "id": "Bc1R2YVOsX9_"
      }
    },
    {
      "cell_type": "markdown",
      "source": [
        ""
      ],
      "metadata": {
        "id": "-H3NGQkxsmnf"
      }
    },
    {
      "cell_type": "markdown",
      "source": [
        ""
      ],
      "metadata": {
        "id": "YMiRgz9ds1Q-"
      }
    },
    {
      "cell_type": "markdown",
      "source": [
        ""
      ],
      "metadata": {
        "id": "hK4Z6O9ttD6c"
      }
    },
    {
      "cell_type": "markdown",
      "source": [
        ""
      ],
      "metadata": {
        "id": "VzeRajo2tSj8"
      }
    },
    {
      "cell_type": "markdown",
      "source": [
        ""
      ],
      "metadata": {
        "id": "zIzutLUGthNY"
      }
    },
    {
      "cell_type": "markdown",
      "source": [
        ""
      ],
      "metadata": {
        "id": "2_4VUjOItv25"
      }
    },
    {
      "cell_type": "markdown",
      "source": [
        ""
      ],
      "metadata": {
        "id": "gRD-JoJJt-gX"
      }
    },
    {
      "cell_type": "markdown",
      "source": [
        ""
      ],
      "metadata": {
        "id": "f9nZfIUnuNKH"
      }
    },
    {
      "cell_type": "markdown",
      "source": [
        ""
      ],
      "metadata": {
        "id": "QhocPLMmubzl"
      }
    },
    {
      "cell_type": "markdown",
      "source": [
        ""
      ],
      "metadata": {
        "id": "jvrnzgONuqdF"
      }
    },
    {
      "cell_type": "markdown",
      "source": [
        ""
      ],
      "metadata": {
        "id": "lo1mutsRu5Gd"
      }
    },
    {
      "cell_type": "markdown",
      "source": [
        ""
      ],
      "metadata": {
        "id": "I-PcfGmzvHwC"
      }
    },
    {
      "cell_type": "markdown",
      "source": [
        ""
      ],
      "metadata": {
        "id": "sVFwI-UbvWZi"
      }
    },
    {
      "cell_type": "markdown",
      "source": [
        ""
      ],
      "metadata": {
        "id": "KzB7qjbzvlDC"
      }
    },
    {
      "cell_type": "markdown",
      "source": [
        ""
      ],
      "metadata": {
        "id": "2cJYgMg-vzsg"
      }
    },
    {
      "cell_type": "markdown",
      "source": [
        ""
      ],
      "metadata": {
        "id": "NXpJjvB0wCV_"
      }
    },
    {
      "cell_type": "markdown",
      "source": [
        ""
      ],
      "metadata": {
        "id": "8rkMH-V8wQ_f"
      }
    },
    {
      "cell_type": "markdown",
      "source": [
        ""
      ],
      "metadata": {
        "id": "8Yenmo88wfo7"
      }
    },
    {
      "cell_type": "markdown",
      "source": [
        ""
      ],
      "metadata": {
        "id": "Jpfc5j0swuSe"
      }
    },
    {
      "cell_type": "markdown",
      "source": [
        ""
      ],
      "metadata": {
        "id": "1VG9jiTDw88L"
      }
    },
    {
      "cell_type": "markdown",
      "source": [
        ""
      ],
      "metadata": {
        "id": "zF2DaVNnxLlt"
      }
    },
    {
      "cell_type": "markdown",
      "source": [
        ""
      ],
      "metadata": {
        "id": "kl-FuAR9xaPJ"
      }
    },
    {
      "cell_type": "markdown",
      "source": [
        ""
      ],
      "metadata": {
        "id": "c9SdcX-bxo4n"
      }
    },
    {
      "cell_type": "markdown",
      "source": [
        ""
      ],
      "metadata": {
        "id": "BuIyOYkMx3iM"
      }
    },
    {
      "cell_type": "markdown",
      "source": [
        ""
      ],
      "metadata": {
        "id": "BkTPW_CqyGLo"
      }
    },
    {
      "cell_type": "markdown",
      "source": [
        ""
      ],
      "metadata": {
        "id": "GL8GUu7EyU1F"
      }
    },
    {
      "cell_type": "markdown",
      "source": [
        ""
      ],
      "metadata": {
        "id": "PM7jE2gGyjel"
      }
    },
    {
      "cell_type": "markdown",
      "source": [
        ""
      ],
      "metadata": {
        "id": "jw-DXuG6yyIC"
      }
    },
    {
      "cell_type": "markdown",
      "source": [
        ""
      ],
      "metadata": {
        "id": "R73pIbQKzAxi"
      }
    },
    {
      "cell_type": "markdown",
      "source": [
        ""
      ],
      "metadata": {
        "id": "mVtXe2gQzPbB"
      }
    },
    {
      "cell_type": "markdown",
      "source": [
        ""
      ],
      "metadata": {
        "id": "OyvxIur3zeEg"
      }
    },
    {
      "cell_type": "markdown",
      "source": [
        ""
      ],
      "metadata": {
        "id": "Mg805RbpzsuQ"
      }
    },
    {
      "cell_type": "markdown",
      "source": [
        ""
      ],
      "metadata": {
        "id": "5Zv_tLouz7Xu"
      }
    },
    {
      "cell_type": "markdown",
      "source": [
        ""
      ],
      "metadata": {
        "id": "qE9wg-zf0KBM"
      }
    },
    {
      "cell_type": "markdown",
      "source": [
        ""
      ],
      "metadata": {
        "id": "1P23e2eK0Yqt"
      }
    },
    {
      "cell_type": "markdown",
      "source": [
        ""
      ],
      "metadata": {
        "id": "iaIuCvgg0nUM"
      }
    },
    {
      "cell_type": "markdown",
      "source": [
        ""
      ],
      "metadata": {
        "id": "9eBsCDyP019r"
      }
    },
    {
      "cell_type": "markdown",
      "source": [
        ""
      ],
      "metadata": {
        "id": "bTljTas31EnI"
      }
    },
    {
      "cell_type": "markdown",
      "source": [
        ""
      ],
      "metadata": {
        "id": "c55zgTxy1TQp"
      }
    },
    {
      "cell_type": "markdown",
      "source": [
        ""
      ],
      "metadata": {
        "id": "k3gi4srD1h6H"
      }
    },
    {
      "cell_type": "markdown",
      "source": [
        ""
      ],
      "metadata": {
        "id": "genGGMb-1wjn"
      }
    },
    {
      "cell_type": "markdown",
      "source": [
        ""
      ],
      "metadata": {
        "id": "qBOtxIt-1_NF"
      }
    },
    {
      "cell_type": "markdown",
      "source": [
        ""
      ],
      "metadata": {
        "id": "gDdRi25z2N2k"
      }
    },
    {
      "cell_type": "markdown",
      "source": [
        ""
      ],
      "metadata": {
        "id": "DyxEtHuK2cgT"
      }
    },
    {
      "cell_type": "markdown",
      "source": [
        ""
      ],
      "metadata": {
        "id": "KjNMUVnT2rJx"
      }
    },
    {
      "cell_type": "markdown",
      "source": [
        ""
      ],
      "metadata": {
        "id": "N_TjbBi125zS"
      }
    },
    {
      "cell_type": "markdown",
      "source": [
        ""
      ],
      "metadata": {
        "id": "f4IvvLaN3Icx"
      }
    },
    {
      "cell_type": "markdown",
      "source": [
        ""
      ],
      "metadata": {
        "id": "EWr0IRWe3XGQ"
      }
    },
    {
      "cell_type": "markdown",
      "source": [
        ""
      ],
      "metadata": {
        "id": "KRppbYR03lvu"
      }
    },
    {
      "cell_type": "markdown",
      "source": [
        ""
      ],
      "metadata": {
        "id": "QXFi3zKD30ZR"
      }
    },
    {
      "cell_type": "markdown",
      "source": [
        ""
      ],
      "metadata": {
        "id": "bYQyWbV34DCj"
      }
    },
    {
      "cell_type": "markdown",
      "source": [
        ""
      ],
      "metadata": {
        "id": "nBhAsYFn4RsL"
      }
    },
    {
      "cell_type": "markdown",
      "source": [
        ""
      ],
      "metadata": {
        "id": "0HQMM8FS4gVr"
      }
    },
    {
      "cell_type": "markdown",
      "source": [
        ""
      ],
      "metadata": {
        "id": "qr_RrbTi4u_K"
      }
    },
    {
      "cell_type": "markdown",
      "source": [
        ""
      ],
      "metadata": {
        "id": "onplEdp349op"
      }
    },
    {
      "cell_type": "markdown",
      "source": [
        ""
      ],
      "metadata": {
        "id": "CyWcPKqy5MSI"
      }
    },
    {
      "cell_type": "markdown",
      "source": [
        ""
      ],
      "metadata": {
        "id": "tGqftxfI5a73"
      }
    },
    {
      "cell_type": "markdown",
      "source": [
        ""
      ],
      "metadata": {
        "id": "0_H1jgmA5plV"
      }
    },
    {
      "cell_type": "markdown",
      "source": [
        ""
      ],
      "metadata": {
        "id": "wCtTmFLV54O2"
      }
    },
    {
      "cell_type": "markdown",
      "source": [
        ""
      ],
      "metadata": {
        "id": "8-QZcbZM6G4U"
      }
    },
    {
      "cell_type": "markdown",
      "source": [
        ""
      ],
      "metadata": {
        "id": "-5fnC5ea6Vh0"
      }
    },
    {
      "cell_type": "markdown",
      "source": [
        ""
      ],
      "metadata": {
        "id": "ZgrRRyXd6kLR"
      }
    },
    {
      "cell_type": "markdown",
      "source": [
        ""
      ],
      "metadata": {
        "id": "p3PLreBK6y0w"
      }
    },
    {
      "cell_type": "markdown",
      "source": [
        ""
      ],
      "metadata": {
        "id": "RWe2W84z7BeR"
      }
    },
    {
      "cell_type": "markdown",
      "source": [
        ""
      ],
      "metadata": {
        "id": "cwC_LNFo7QHv"
      }
    },
    {
      "cell_type": "markdown",
      "source": [
        ""
      ],
      "metadata": {
        "id": "Wr7nObz27exN"
      }
    },
    {
      "cell_type": "markdown",
      "source": [
        ""
      ],
      "metadata": {
        "id": "h7NR5b6Z7tap"
      }
    },
    {
      "cell_type": "markdown",
      "source": [
        ""
      ],
      "metadata": {
        "id": "MbsjWJ2m78EK"
      }
    },
    {
      "cell_type": "markdown",
      "source": [
        ""
      ],
      "metadata": {
        "id": "AWHcfR8g8Kt4"
      }
    },
    {
      "cell_type": "markdown",
      "source": [
        ""
      ],
      "metadata": {
        "id": "fb7LCWow8ZXJ"
      }
    },
    {
      "cell_type": "markdown",
      "source": [
        ""
      ],
      "metadata": {
        "id": "y0tkTkzt8oA1"
      }
    },
    {
      "cell_type": "markdown",
      "source": [
        ""
      ],
      "metadata": {
        "id": "PLL1fK6l82qV"
      }
    },
    {
      "cell_type": "markdown",
      "source": [
        ""
      ],
      "metadata": {
        "id": "-xyyx4iV9FT3"
      }
    },
    {
      "cell_type": "markdown",
      "source": [
        ""
      ],
      "metadata": {
        "id": "IVo6mwBD9T9U"
      }
    },
    {
      "cell_type": "markdown",
      "source": [
        ""
      ],
      "metadata": {
        "id": "WaAIsz_A9imw"
      }
    },
    {
      "cell_type": "markdown",
      "source": [
        ""
      ],
      "metadata": {
        "id": "NRxICAcd9xQS"
      }
    },
    {
      "cell_type": "markdown",
      "source": [
        ""
      ],
      "metadata": {
        "id": "tsZeKPeS9_5j"
      }
    },
    {
      "cell_type": "markdown",
      "source": [
        ""
      ],
      "metadata": {
        "id": "FfB7WoMv-OjO"
      }
    },
    {
      "cell_type": "markdown",
      "source": [
        ""
      ],
      "metadata": {
        "id": "0lKIVF0b-dMu"
      }
    },
    {
      "cell_type": "markdown",
      "source": [
        ""
      ],
      "metadata": {
        "id": "jqXpImgr-r2L"
      }
    },
    {
      "cell_type": "markdown",
      "source": [
        ""
      ],
      "metadata": {
        "id": "oj9XhpBH-6fq"
      }
    },
    {
      "cell_type": "markdown",
      "source": [
        ""
      ],
      "metadata": {
        "id": "YaB_cM6V_JJK"
      }
    },
    {
      "cell_type": "markdown",
      "source": [
        ""
      ],
      "metadata": {
        "id": "YfkG1dgf_Xy3"
      }
    },
    {
      "cell_type": "markdown",
      "source": [
        ""
      ],
      "metadata": {
        "id": "Zar-0CRm_mcX"
      }
    },
    {
      "cell_type": "markdown",
      "source": [
        ""
      ],
      "metadata": {
        "id": "nPs-otQy_1F2"
      }
    },
    {
      "cell_type": "markdown",
      "source": [
        ""
      ],
      "metadata": {
        "id": "eXU2zJ3RADvU"
      }
    },
    {
      "cell_type": "markdown",
      "source": [
        ""
      ],
      "metadata": {
        "id": "zridKu5_ASYy"
      }
    },
    {
      "cell_type": "markdown",
      "source": [
        ""
      ],
      "metadata": {
        "id": "2Ya7JB4rAhCS"
      }
    },
    {
      "cell_type": "markdown",
      "source": [
        ""
      ],
      "metadata": {
        "id": "mHEylqO4Avrx"
      }
    },
    {
      "cell_type": "markdown",
      "source": [
        ""
      ],
      "metadata": {
        "id": "DOy1LZESA-VQ"
      }
    },
    {
      "cell_type": "markdown",
      "source": [
        ""
      ],
      "metadata": {
        "id": "PjMiMtI9BM-v"
      }
    },
    {
      "cell_type": "markdown",
      "source": [
        ""
      ],
      "metadata": {
        "id": "Y5AXm-BTBboP"
      }
    },
    {
      "cell_type": "markdown",
      "source": [
        ""
      ],
      "metadata": {
        "id": "wyI9EkPPBqRr"
      }
    },
    {
      "cell_type": "markdown",
      "source": [
        ""
      ],
      "metadata": {
        "id": "wuKQryBwB47N"
      }
    },
    {
      "cell_type": "markdown",
      "source": [
        ""
      ],
      "metadata": {
        "id": "eB0Yrt2SCHk4"
      }
    },
    {
      "cell_type": "markdown",
      "source": [
        ""
      ],
      "metadata": {
        "id": "OlbKi3evCWOY"
      }
    },
    {
      "cell_type": "markdown",
      "source": [
        ""
      ],
      "metadata": {
        "id": "BdqrOBBDCk34"
      }
    },
    {
      "cell_type": "markdown",
      "source": [
        ""
      ],
      "metadata": {
        "id": "mInzE_35CzhU"
      }
    },
    {
      "cell_type": "markdown",
      "source": [
        ""
      ],
      "metadata": {
        "id": "x40DrRISDCKz"
      }
    },
    {
      "cell_type": "markdown",
      "source": [
        ""
      ],
      "metadata": {
        "id": "bTIXgkyFDQ0U"
      }
    },
    {
      "cell_type": "markdown",
      "source": [
        ""
      ],
      "metadata": {
        "id": "b3Q6MoQsDfdz"
      }
    },
    {
      "cell_type": "markdown",
      "source": [
        ""
      ],
      "metadata": {
        "id": "ejufYK1jDuHS"
      }
    },
    {
      "cell_type": "markdown",
      "source": [
        ""
      ],
      "metadata": {
        "id": "s2Ta5hSSD8ww"
      }
    },
    {
      "cell_type": "markdown",
      "source": [
        ""
      ],
      "metadata": {
        "id": "qbw__1UmELaO"
      }
    },
    {
      "cell_type": "markdown",
      "source": [
        ""
      ],
      "metadata": {
        "id": "w3MsEo2YEaDi"
      }
    },
    {
      "cell_type": "markdown",
      "source": [
        ""
      ],
      "metadata": {
        "id": "gTdvV9G_EotN"
      }
    },
    {
      "cell_type": "markdown",
      "source": [
        ""
      ],
      "metadata": {
        "id": "qUl6YjFtE3Wr"
      }
    },
    {
      "cell_type": "markdown",
      "source": [
        ""
      ],
      "metadata": {
        "id": "clVXB1_ZFGAS"
      }
    },
    {
      "cell_type": "markdown",
      "source": [
        ""
      ],
      "metadata": {
        "id": "KUmC-XBzFUp6"
      }
    },
    {
      "cell_type": "markdown",
      "source": [
        ""
      ],
      "metadata": {
        "id": "Xz_tK34fFjTX"
      }
    },
    {
      "cell_type": "markdown",
      "source": [
        ""
      ],
      "metadata": {
        "id": "fLQYA_FDFx81"
      }
    },
    {
      "cell_type": "markdown",
      "source": [
        ""
      ],
      "metadata": {
        "id": "M4xAyPl-GAmW"
      }
    },
    {
      "cell_type": "markdown",
      "source": [
        ""
      ],
      "metadata": {
        "id": "pB7Kl0MJGPPx"
      }
    },
    {
      "cell_type": "markdown",
      "source": [
        ""
      ],
      "metadata": {
        "id": "H7q6G-R0Gd5S"
      }
    },
    {
      "cell_type": "markdown",
      "source": [
        ""
      ],
      "metadata": {
        "id": "rjRb5HuKGsiw"
      }
    },
    {
      "cell_type": "markdown",
      "source": [
        ""
      ],
      "metadata": {
        "id": "Hgwu98q0G7MS"
      }
    },
    {
      "cell_type": "markdown",
      "source": [
        ""
      ],
      "metadata": {
        "id": "eCG7KBmCHJ1u"
      }
    },
    {
      "cell_type": "markdown",
      "source": [
        ""
      ],
      "metadata": {
        "id": "imaehha3HYfN"
      }
    },
    {
      "cell_type": "markdown",
      "source": [
        ""
      ],
      "metadata": {
        "id": "OLCIjeabHnIt"
      }
    },
    {
      "cell_type": "markdown",
      "source": [
        ""
      ],
      "metadata": {
        "id": "LECXDlBAH1yM"
      }
    },
    {
      "cell_type": "markdown",
      "source": [
        ""
      ],
      "metadata": {
        "id": "T6lHvaUkIEb5"
      }
    },
    {
      "cell_type": "markdown",
      "source": [
        ""
      ],
      "metadata": {
        "id": "k1HOFO8fITFZ"
      }
    },
    {
      "cell_type": "markdown",
      "source": [
        ""
      ],
      "metadata": {
        "id": "So3CrIb7Ihu4"
      }
    },
    {
      "cell_type": "markdown",
      "source": [
        ""
      ],
      "metadata": {
        "id": "-VO0NPXaIwYV"
      }
    },
    {
      "cell_type": "markdown",
      "source": [
        ""
      ],
      "metadata": {
        "id": "t1GkuxLrI_B1"
      }
    },
    {
      "cell_type": "markdown",
      "source": [
        ""
      ],
      "metadata": {
        "id": "OVabNNqlJNrT"
      }
    },
    {
      "cell_type": "markdown",
      "source": [
        ""
      ],
      "metadata": {
        "id": "CB7Q20cmJcUu"
      }
    },
    {
      "cell_type": "markdown",
      "source": [
        ""
      ],
      "metadata": {
        "id": "wPS5sQjdJq-Q"
      }
    },
    {
      "cell_type": "markdown",
      "source": [
        ""
      ],
      "metadata": {
        "id": "F0dRMgJtJ5nx"
      }
    },
    {
      "cell_type": "markdown",
      "source": [
        ""
      ],
      "metadata": {
        "id": "togQFoiMKIRQ"
      }
    },
    {
      "cell_type": "markdown",
      "source": [
        ""
      ],
      "metadata": {
        "id": "LQF3ko73KW6s"
      }
    },
    {
      "cell_type": "markdown",
      "source": [
        ""
      ],
      "metadata": {
        "id": "Y8JEKdONKlkN"
      }
    },
    {
      "cell_type": "markdown",
      "source": [
        ""
      ],
      "metadata": {
        "id": "wNbNiqCQK0Nv"
      }
    },
    {
      "cell_type": "markdown",
      "source": [
        ""
      ],
      "metadata": {
        "id": "msSmAO2aLC3a"
      }
    },
    {
      "cell_type": "markdown",
      "source": [
        ""
      ],
      "metadata": {
        "id": "HXR0Ov9QLRg4"
      }
    },
    {
      "cell_type": "markdown",
      "source": [
        ""
      ],
      "metadata": {
        "id": "zDAPW3QDLgKZ"
      }
    },
    {
      "cell_type": "markdown",
      "source": [
        ""
      ],
      "metadata": {
        "id": "94X55XxfLuzs"
      }
    },
    {
      "cell_type": "markdown",
      "source": [
        ""
      ],
      "metadata": {
        "id": "SVnHRoTXL9dW"
      }
    },
    {
      "cell_type": "markdown",
      "source": [
        ""
      ],
      "metadata": {
        "id": "AiU7MgTLMMG0"
      }
    },
    {
      "cell_type": "markdown",
      "source": [
        ""
      ],
      "metadata": {
        "id": "tKCBQG9XMawT"
      }
    },
    {
      "cell_type": "markdown",
      "source": [
        ""
      ],
      "metadata": {
        "id": "0hiEIzjzMpZy"
      }
    },
    {
      "cell_type": "markdown",
      "source": [
        ""
      ],
      "metadata": {
        "id": "cCOPNnUHM4DP"
      }
    },
    {
      "cell_type": "markdown",
      "source": [
        ""
      ],
      "metadata": {
        "id": "y3iFB_8NNGsu"
      }
    },
    {
      "cell_type": "markdown",
      "source": [
        ""
      ],
      "metadata": {
        "id": "cGWUPaoUNVWN"
      }
    },
    {
      "cell_type": "markdown",
      "source": [
        ""
      ],
      "metadata": {
        "id": "WaFzUr_JNj_8"
      }
    },
    {
      "cell_type": "markdown",
      "source": [
        ""
      ],
      "metadata": {
        "id": "Ax4oiQTANypb"
      }
    },
    {
      "cell_type": "markdown",
      "source": [
        ""
      ],
      "metadata": {
        "id": "P3rGUuhdOBS6"
      }
    },
    {
      "cell_type": "markdown",
      "source": [
        ""
      ],
      "metadata": {
        "id": "O4zPKYMIOP8X"
      }
    },
    {
      "cell_type": "markdown",
      "source": [
        ""
      ],
      "metadata": {
        "id": "MHBoEzDwOel4"
      }
    },
    {
      "cell_type": "markdown",
      "source": [
        ""
      ],
      "metadata": {
        "id": "NdlUUpQ7OtPV"
      }
    },
    {
      "cell_type": "markdown",
      "source": [
        ""
      ],
      "metadata": {
        "id": "Qt1Y_HUyO741"
      }
    },
    {
      "cell_type": "markdown",
      "source": [
        ""
      ],
      "metadata": {
        "id": "NwfFnf6oPKiU"
      }
    },
    {
      "cell_type": "markdown",
      "source": [
        ""
      ],
      "metadata": {
        "id": "bCnNyOrlPZLy"
      }
    },
    {
      "cell_type": "markdown",
      "source": [
        ""
      ],
      "metadata": {
        "id": "C9D2d4BQPn1Q"
      }
    },
    {
      "cell_type": "markdown",
      "source": [
        ""
      ],
      "metadata": {
        "id": "FZpdAxobP2et"
      }
    },
    {
      "cell_type": "code",
      "source": [
        "#saving the model\n",
        "model_path = '/content/nassar_model.pkl'\n",
        "# Bear in mind that in case the file already exists, \n",
        "# TGAN will avoid overwritting it unless the force=True argument is passed:\n",
        "#tgan.save(model_path, force=True)\n",
        "tgan.save(model_path, force=True)"
      ],
      "metadata": {
        "id": "TY9tY3F2OrzH",
        "outputId": "50caa1b1-3e21-45a1-d9e0-c1df74e22af6",
        "colab": {
          "base_uri": "https://localhost:8080/",
          "height": 200
        }
      },
      "execution_count": 14,
      "outputs": [
        {
          "output_type": "error",
          "ename": "NameError",
          "evalue": "ignored",
          "traceback": [
            "\u001b[0;31m---------------------------------------------------------------------------\u001b[0m",
            "\u001b[0;31mNameError\u001b[0m                                 Traceback (most recent call last)",
            "\u001b[0;32m<ipython-input-14-3ff5aecd4869>\u001b[0m in \u001b[0;36m<module>\u001b[0;34m()\u001b[0m\n\u001b[1;32m      4\u001b[0m \u001b[0;31m# TGAN will avoid overwritting it unless the force=True argument is passed:\u001b[0m\u001b[0;34m\u001b[0m\u001b[0;34m\u001b[0m\u001b[0;34m\u001b[0m\u001b[0m\n\u001b[1;32m      5\u001b[0m \u001b[0;31m#tgan.save(model_path, force=True)\u001b[0m\u001b[0;34m\u001b[0m\u001b[0;34m\u001b[0m\u001b[0;34m\u001b[0m\u001b[0m\n\u001b[0;32m----> 6\u001b[0;31m \u001b[0mtgan\u001b[0m\u001b[0;34m.\u001b[0m\u001b[0msave\u001b[0m\u001b[0;34m(\u001b[0m\u001b[0mmodel_path\u001b[0m\u001b[0;34m,\u001b[0m \u001b[0mforce\u001b[0m\u001b[0;34m=\u001b[0m\u001b[0;32mTrue\u001b[0m\u001b[0;34m)\u001b[0m\u001b[0;34m\u001b[0m\u001b[0;34m\u001b[0m\u001b[0m\n\u001b[0m",
            "\u001b[0;31mNameError\u001b[0m: name 'tgan' is not defined"
          ]
        }
      ]
    },
    {
      "cell_type": "markdown",
      "source": [
        ""
      ],
      "metadata": {
        "id": "pLrlO-vLUqGQ"
      }
    },
    {
      "cell_type": "markdown",
      "source": [
        ""
      ],
      "metadata": {
        "id": "f6JI6WkLUbcw"
      }
    },
    {
      "cell_type": "markdown",
      "source": [
        ""
      ],
      "metadata": {
        "id": "tynH80RBUMza"
      }
    },
    {
      "cell_type": "markdown",
      "source": [
        ""
      ],
      "metadata": {
        "id": "4QGs4xAxTvgZ"
      }
    },
    {
      "cell_type": "markdown",
      "source": [
        ""
      ],
      "metadata": {
        "id": "TvBlxY0BTg2y"
      }
    },
    {
      "cell_type": "markdown",
      "source": [
        ""
      ],
      "metadata": {
        "id": "LEnCJfABTSNU"
      }
    },
    {
      "cell_type": "markdown",
      "source": [
        ""
      ],
      "metadata": {
        "id": "Mrzju5_OTDjr"
      }
    },
    {
      "cell_type": "markdown",
      "source": [
        ""
      ],
      "metadata": {
        "id": "wG3OEtSGS06H"
      }
    },
    {
      "cell_type": "markdown",
      "source": [
        ""
      ],
      "metadata": {
        "id": "4IFzgswwSmQ3"
      }
    },
    {
      "cell_type": "markdown",
      "source": [
        ""
      ],
      "metadata": {
        "id": "J5hCkNUVSI9-"
      }
    },
    {
      "cell_type": "markdown",
      "source": [
        ""
      ],
      "metadata": {
        "id": "CNuxYsAvSXn2"
      }
    },
    {
      "cell_type": "markdown",
      "source": [
        ""
      ],
      "metadata": {
        "id": "R5kaoYiMRdBT"
      }
    },
    {
      "cell_type": "markdown",
      "source": [
        ""
      ],
      "metadata": {
        "id": "_lfMjNqbQ_3D"
      }
    },
    {
      "cell_type": "markdown",
      "source": [
        ""
      ],
      "metadata": {
        "id": "gWDd1Vi9ROZH"
      }
    },
    {
      "cell_type": "markdown",
      "source": [
        ""
      ],
      "metadata": {
        "id": "pGZkvRn9QTxy"
      }
    },
    {
      "cell_type": "markdown",
      "source": [
        ""
      ],
      "metadata": {
        "id": "y-hhtrR_QFIV"
      }
    },
    {
      "cell_type": "code",
      "source": [
        "#loading the saved model\n",
        "new_tgan_nassar = TGANModel.load(model_path)"
      ],
      "metadata": {
        "id": "hMoWD0uTPr4l",
        "outputId": "9883be16-836b-4125-eac7-4406a2d99d5d",
        "colab": {
          "base_uri": "https://localhost:8080/",
          "height": 182
        }
      },
      "execution_count": 16,
      "outputs": [
        {
          "output_type": "error",
          "ename": "NameError",
          "evalue": "ignored",
          "traceback": [
            "\u001b[0;31m---------------------------------------------------------------------------\u001b[0m",
            "\u001b[0;31mNameError\u001b[0m                                 Traceback (most recent call last)",
            "\u001b[0;32m<ipython-input-16-d13811257b54>\u001b[0m in \u001b[0;36m<module>\u001b[0;34m()\u001b[0m\n\u001b[1;32m      1\u001b[0m \u001b[0;31m#loading the saved model\u001b[0m\u001b[0;34m\u001b[0m\u001b[0;34m\u001b[0m\u001b[0;34m\u001b[0m\u001b[0m\n\u001b[0;32m----> 2\u001b[0;31m \u001b[0mnew_tgan_nassar\u001b[0m \u001b[0;34m=\u001b[0m \u001b[0mTGANModel\u001b[0m\u001b[0;34m.\u001b[0m\u001b[0mload\u001b[0m\u001b[0;34m(\u001b[0m\u001b[0mmodel_path\u001b[0m\u001b[0;34m)\u001b[0m\u001b[0;34m\u001b[0m\u001b[0;34m\u001b[0m\u001b[0m\n\u001b[0m",
            "\u001b[0;31mNameError\u001b[0m: name 'TGANModel' is not defined"
          ]
        }
      ]
    },
    {
      "cell_type": "markdown",
      "source": [
        ""
      ],
      "metadata": {
        "id": "VAdirERuVHZM"
      }
    },
    {
      "cell_type": "code",
      "source": [
        "# using the saved model to generate new samples\n",
        "num_samples = 5000\n",
        "\n",
        "samples = new_tgan_nassar.sample(num_samples)\n",
        "\n",
        "samples.head(62)\n",
        "samples.to_csv('/content/output/new_tgan_generated_data.csv', index=False)"
      ],
      "metadata": {
        "id": "Z0txChAqPv-v",
        "outputId": "d6ce0eca-f37e-4757-e864-6b86953015b1",
        "colab": {
          "base_uri": "https://localhost:8080/",
          "height": 235
        }
      },
      "execution_count": 15,
      "outputs": [
        {
          "output_type": "error",
          "ename": "NameError",
          "evalue": "ignored",
          "traceback": [
            "\u001b[0;31m---------------------------------------------------------------------------\u001b[0m",
            "\u001b[0;31mNameError\u001b[0m                                 Traceback (most recent call last)",
            "\u001b[0;32m<ipython-input-15-a793478263a7>\u001b[0m in \u001b[0;36m<module>\u001b[0;34m()\u001b[0m\n\u001b[1;32m      2\u001b[0m \u001b[0mnum_samples\u001b[0m \u001b[0;34m=\u001b[0m \u001b[0;36m5000\u001b[0m\u001b[0;34m\u001b[0m\u001b[0;34m\u001b[0m\u001b[0m\n\u001b[1;32m      3\u001b[0m \u001b[0;34m\u001b[0m\u001b[0m\n\u001b[0;32m----> 4\u001b[0;31m \u001b[0msamples\u001b[0m \u001b[0;34m=\u001b[0m \u001b[0mnew_tgan_nassar\u001b[0m\u001b[0;34m.\u001b[0m\u001b[0msample\u001b[0m\u001b[0;34m(\u001b[0m\u001b[0mnum_samples\u001b[0m\u001b[0;34m)\u001b[0m\u001b[0;34m\u001b[0m\u001b[0;34m\u001b[0m\u001b[0m\n\u001b[0m\u001b[1;32m      5\u001b[0m \u001b[0;34m\u001b[0m\u001b[0m\n\u001b[1;32m      6\u001b[0m \u001b[0msamples\u001b[0m\u001b[0;34m.\u001b[0m\u001b[0mhead\u001b[0m\u001b[0;34m(\u001b[0m\u001b[0;36m62\u001b[0m\u001b[0;34m)\u001b[0m\u001b[0;34m\u001b[0m\u001b[0;34m\u001b[0m\u001b[0m\n",
            "\u001b[0;31mNameError\u001b[0m: name 'new_tgan_nassar' is not defined"
          ]
        }
      ]
    },
    {
      "cell_type": "markdown",
      "source": [
        ""
      ],
      "metadata": {
        "id": "MqDh8axsU4vr"
      }
    },
    {
      "cell_type": "markdown",
      "source": [
        ""
      ],
      "metadata": {
        "id": "_BZQ6NOvRrqt"
      }
    },
    {
      "cell_type": "code",
      "source": [
        ""
      ],
      "metadata": {
        "id": "IUW_ky5EdyWS"
      },
      "execution_count": null,
      "outputs": []
    },
    {
      "cell_type": "markdown",
      "source": [
        ""
      ],
      "metadata": {
        "id": "4fKOBEqIeGLB"
      }
    },
    {
      "cell_type": "markdown",
      "source": [
        ""
      ],
      "metadata": {
        "id": "4sIOZAOZeU0Q"
      }
    },
    {
      "cell_type": "markdown",
      "source": [
        ""
      ],
      "metadata": {
        "id": "0ZdBgVhZejd9"
      }
    },
    {
      "cell_type": "markdown",
      "source": [
        ""
      ],
      "metadata": {
        "id": "OqYyVwnIeyHX"
      }
    },
    {
      "cell_type": "markdown",
      "source": [
        ""
      ],
      "metadata": {
        "id": "wGPNhAiofAw0"
      }
    },
    {
      "cell_type": "markdown",
      "source": [
        ""
      ],
      "metadata": {
        "id": "QFgsEsJPfPaW"
      }
    },
    {
      "cell_type": "markdown",
      "source": [
        ""
      ],
      "metadata": {
        "id": "40zcmdYhfeD1"
      }
    },
    {
      "cell_type": "markdown",
      "source": [
        ""
      ],
      "metadata": {
        "id": "GsarWm78fstW"
      }
    },
    {
      "cell_type": "markdown",
      "source": [
        ""
      ],
      "metadata": {
        "id": "jWRmEKlIf7Wz"
      }
    },
    {
      "cell_type": "markdown",
      "source": [
        ""
      ],
      "metadata": {
        "id": "9EdvJa64gKAS"
      }
    },
    {
      "cell_type": "markdown",
      "source": [
        ""
      ],
      "metadata": {
        "id": "PBV4HkG_gYpw"
      }
    },
    {
      "cell_type": "markdown",
      "source": [
        ""
      ],
      "metadata": {
        "id": "sfd1vPIWgnTR"
      }
    },
    {
      "cell_type": "markdown",
      "source": [
        ""
      ],
      "metadata": {
        "id": "61Du9BqXg19A"
      }
    },
    {
      "cell_type": "markdown",
      "source": [
        ""
      ],
      "metadata": {
        "id": "m6Vqk0WFhEmf"
      }
    },
    {
      "cell_type": "markdown",
      "source": [
        ""
      ],
      "metadata": {
        "id": "W5ZQNi1-hTP9"
      }
    },
    {
      "cell_type": "markdown",
      "source": [
        ""
      ],
      "metadata": {
        "id": "EazLQsLwhh5d"
      }
    },
    {
      "cell_type": "markdown",
      "source": [
        ""
      ],
      "metadata": {
        "id": "pBfVzBzxhwi3"
      }
    },
    {
      "cell_type": "markdown",
      "source": [
        ""
      ],
      "metadata": {
        "id": "iI5KRWM_h_Ma"
      }
    },
    {
      "cell_type": "markdown",
      "source": [
        ""
      ],
      "metadata": {
        "id": "0kkgk9cBiN12"
      }
    },
    {
      "cell_type": "markdown",
      "source": [
        ""
      ],
      "metadata": {
        "id": "E9oEoauaicfV"
      }
    },
    {
      "cell_type": "markdown",
      "source": [
        ""
      ],
      "metadata": {
        "id": "ftvl6h9TirI0"
      }
    },
    {
      "cell_type": "markdown",
      "source": [
        ""
      ],
      "metadata": {
        "id": "tnNf-wCHi5yl"
      }
    },
    {
      "cell_type": "markdown",
      "source": [
        ""
      ],
      "metadata": {
        "id": "5WUCYS3PjIbx"
      }
    },
    {
      "cell_type": "markdown",
      "source": [
        ""
      ],
      "metadata": {
        "id": "eL-cDL--jXFk"
      }
    },
    {
      "cell_type": "markdown",
      "source": [
        ""
      ],
      "metadata": {
        "id": "wwNzTrw-jlvB"
      }
    },
    {
      "cell_type": "markdown",
      "source": [
        ""
      ],
      "metadata": {
        "id": "ZIkVFP11j0Yf"
      }
    },
    {
      "cell_type": "markdown",
      "source": [
        ""
      ],
      "metadata": {
        "id": "6iDYfTihkDB-"
      }
    },
    {
      "cell_type": "markdown",
      "source": [
        ""
      ],
      "metadata": {
        "id": "8Uano1TdkRrd"
      }
    },
    {
      "cell_type": "markdown",
      "source": [
        ""
      ],
      "metadata": {
        "id": "UDGI8bBzkgU8"
      }
    },
    {
      "cell_type": "markdown",
      "source": [
        ""
      ],
      "metadata": {
        "id": "-aE9NOUyku-b"
      }
    },
    {
      "cell_type": "markdown",
      "source": [
        ""
      ],
      "metadata": {
        "id": "aoBTgJdqk9n5"
      }
    },
    {
      "cell_type": "markdown",
      "source": [
        ""
      ],
      "metadata": {
        "id": "NM1W75W5lMRV"
      }
    },
    {
      "cell_type": "markdown",
      "source": [
        ""
      ],
      "metadata": {
        "id": "uuMwDPaJla61"
      }
    },
    {
      "cell_type": "markdown",
      "source": [
        ""
      ],
      "metadata": {
        "id": "puSKewiFlpkT"
      }
    },
    {
      "cell_type": "markdown",
      "source": [
        ""
      ],
      "metadata": {
        "id": "E-GczFdRl4N0"
      }
    },
    {
      "cell_type": "markdown",
      "source": [
        ""
      ],
      "metadata": {
        "id": "1qvJ51ftmG3k"
      }
    },
    {
      "cell_type": "markdown",
      "source": [
        ""
      ],
      "metadata": {
        "id": "jEBGHgjDmVgy"
      }
    },
    {
      "cell_type": "markdown",
      "source": [
        ""
      ],
      "metadata": {
        "id": "EV4MduxEmkKh"
      }
    },
    {
      "cell_type": "markdown",
      "source": [
        ""
      ],
      "metadata": {
        "id": "otATSYoFmyz_"
      }
    },
    {
      "cell_type": "markdown",
      "source": [
        ""
      ],
      "metadata": {
        "id": "XLwFaOzynBde"
      }
    },
    {
      "cell_type": "markdown",
      "source": [
        ""
      ],
      "metadata": {
        "id": "fZoFKpKenQG8"
      }
    },
    {
      "cell_type": "markdown",
      "source": [
        ""
      ],
      "metadata": {
        "id": "k4oWSQxqnewY"
      }
    },
    {
      "cell_type": "markdown",
      "source": [
        ""
      ],
      "metadata": {
        "id": "Ix3TFoGwntZ3"
      }
    },
    {
      "cell_type": "markdown",
      "source": [
        ""
      ],
      "metadata": {
        "id": "UcLorF-Tn8DW"
      }
    },
    {
      "cell_type": "markdown",
      "source": [
        ""
      ],
      "metadata": {
        "id": "tWLCMK7doKsz"
      }
    },
    {
      "cell_type": "markdown",
      "source": [
        ""
      ],
      "metadata": {
        "id": "bxhhX7_noZWT"
      }
    },
    {
      "cell_type": "markdown",
      "source": [
        ""
      ],
      "metadata": {
        "id": "hnRtxAa0on_2"
      }
    },
    {
      "cell_type": "markdown",
      "source": [
        ""
      ],
      "metadata": {
        "id": "k2sWWB_wo2pV"
      }
    },
    {
      "cell_type": "markdown",
      "source": [
        ""
      ],
      "metadata": {
        "id": "SMZ7zGahpFSy"
      }
    },
    {
      "cell_type": "markdown",
      "source": [
        ""
      ],
      "metadata": {
        "id": "Uu4E6J_opT8h"
      }
    },
    {
      "cell_type": "markdown",
      "source": [
        ""
      ],
      "metadata": {
        "id": "22g1aK3IpimA"
      }
    },
    {
      "cell_type": "markdown",
      "source": [
        ""
      ],
      "metadata": {
        "id": "TvYK555EpxPb"
      }
    },
    {
      "cell_type": "markdown",
      "source": [
        ""
      ],
      "metadata": {
        "id": "cZkgQ-QTp_49"
      }
    },
    {
      "cell_type": "markdown",
      "source": [
        ""
      ],
      "metadata": {
        "id": "r1GVlXyvqOic"
      }
    },
    {
      "cell_type": "markdown",
      "source": [
        ""
      ],
      "metadata": {
        "id": "NzsEb0VIqdL8"
      }
    },
    {
      "cell_type": "markdown",
      "source": [
        ""
      ],
      "metadata": {
        "id": "tfRg4QBEqr1Y"
      }
    },
    {
      "cell_type": "markdown",
      "source": [
        ""
      ],
      "metadata": {
        "id": "Lr_tnJy3q6e3"
      }
    },
    {
      "cell_type": "markdown",
      "source": [
        ""
      ],
      "metadata": {
        "id": "n4YacUg7rJIX"
      }
    },
    {
      "cell_type": "markdown",
      "source": [
        ""
      ],
      "metadata": {
        "id": "9pqa9UyArXx1"
      }
    },
    {
      "cell_type": "markdown",
      "source": [
        ""
      ],
      "metadata": {
        "id": "Itnb0fBGrmbk"
      }
    },
    {
      "cell_type": "markdown",
      "source": [
        ""
      ],
      "metadata": {
        "id": "peeBy-yrr1Ez"
      }
    },
    {
      "cell_type": "markdown",
      "source": [
        ""
      ],
      "metadata": {
        "id": "6FCA83OEsDuj"
      }
    },
    {
      "cell_type": "markdown",
      "source": [
        ""
      ],
      "metadata": {
        "id": "-vdeLqoTd3h3"
      }
    }
  ]
}